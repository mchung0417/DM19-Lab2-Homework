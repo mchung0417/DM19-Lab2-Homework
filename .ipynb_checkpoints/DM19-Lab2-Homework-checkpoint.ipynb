{
 "cells": [
  {
   "cell_type": "markdown",
   "metadata": {},
   "source": [
    "### Student Information\n",
    "Name:\n",
    "鍾明遠\n",
    "\n",
    "Student ID:\n",
    "108011557\n",
    "\n",
    "GitHub ID:\n",
    "mchung0417\n",
    "\n",
    "Kaggle name:\n",
    "mchung0417\n",
    "\n",
    "Kaggle private scoreboard snapshot:\n",
    "\n",
    "[Snapshot](img/pic0.png)"
   ]
  },
  {
   "cell_type": "markdown",
   "metadata": {},
   "source": [
    "---"
   ]
  },
  {
   "cell_type": "markdown",
   "metadata": {},
   "source": [
    "### Instructions"
   ]
  },
  {
   "cell_type": "markdown",
   "metadata": {},
   "source": [
    "1. First: __This part is worth 30% of your grade.__ Do the **take home** exercises in the [DM19-Lab2-Master Repo](https://github.com/EvaArevalo/DM19-Lab2-Master). You may need to copy some cells from the Lab notebook to this notebook. \n",
    "\n",
    "\n",
    "2. Second: __This part is worth 30% of your grade.__ Participate in the in-class [Kaggle Competition](https://www.kaggle.com/t/179d01d4dd984fc5ac45a894822479dd) regarding Emotion Recognition on Twitter. The scoring will be given according to your place in the Private Leaderboard ranking: \n",
    "    - **Bottom 40%**: Get 20% of the score (ie. 20% of 30% )\n",
    "\n",
    "    - **Top 41% - 100%**: Get (101-x)% of the score, where x is your ranking in the leaderboard (ie. (101-x)% of 30% )   \n",
    "    Submit your last submission __BEFORE the deadline (Nov. 23rd 11:59 pm, Saturday)__. Make sure to take a screenshot of your position at the end of the competition and store it as '''pic0.png''' under the **img** folder of this repository and rerun the cell **Student Information**.\n",
    "    \n",
    "\n",
    "3. Third: __This part is worth 30% of your grade.__ A report of your work developping the model for the competition (You can use code and comment it). This report should include what your preprocessing steps, the feature engineering steps and an explanation of your model. You can also mention different things you tried and insights you gained. \n",
    "\n",
    "\n",
    "4. Fourth: __This part is worth 10% of your grade.__ It's hard for us to follow if your code is messy :'(, so please **tidy up your notebook** and **add minimal comments where needed**.\n",
    "\n",
    "\n",
    "You can submit your homework following these guidelines: [Git Intro & How to hand your homework](https://github.com/EvaArevalo/DM19-Lab1-Master/blob/master/Git%20Intro%20%26%20How%20to%20hand%20your%20homework.ipynb), but make sure to fork the [DM19-Lab2-Homework](https://github.com/EvaArevalo/DM19-Lab2-Homework) repository this time! Also please __DON´T UPLOAD HUGE DOCUMENTS__, please use Git ignore for that.\n",
    "\n",
    "Make sure to commit and save your changes to your repository __BEFORE the deadline (Nov. 26th 11:59 pm, Tuesday)__. "
   ]
  },
  {
   "cell_type": "code",
   "execution_count": 1,
   "metadata": {},
   "outputs": [],
   "source": [
    "### Begin Assignment Here"
   ]
  },
  {
   "cell_type": "markdown",
   "metadata": {},
   "source": [
    "### Second,Third -kaggle competition report"
   ]
  },
  {
   "cell_type": "markdown",
   "metadata": {},
   "source": [
    "before pre-processing, I do some privious work to generate the raw dataset from tweet_DM.json\n",
    "#step 1 :load tweet_DM.json and translate into raw set that only have 'tweet_id' and 'text' column\n",
    "#step 2 :according to 'data_identification.csv' spilt raw set into train set and test set\n",
    "#step 3 :merge 'emotion.csv' and train set on 'tweet_id',then it's time to do some pre-processing"
   ]
  },
  {
   "cell_type": "code",
   "execution_count": 2,
   "metadata": {},
   "outputs": [],
   "source": [
    "###pre-processing\n",
    "import pandas as pd\n",
    "df = pd.read_csv('trainset_sample.csv',lineterminator = '\\n')\n",
    "#df = pd.read_csv('testset_sample.csv',lineterminator = '\\n')\n",
    "df.columns = ['id','text','emotion']\n",
    "df['emotion']=df['emotion'].apply(lambda x:x.replace('\\r',''))"
   ]
  },
  {
   "cell_type": "code",
   "execution_count": 3,
   "metadata": {},
   "outputs": [
    {
     "data": {
      "text/html": [
       "<div>\n",
       "<style scoped>\n",
       "    .dataframe tbody tr th:only-of-type {\n",
       "        vertical-align: middle;\n",
       "    }\n",
       "\n",
       "    .dataframe tbody tr th {\n",
       "        vertical-align: top;\n",
       "    }\n",
       "\n",
       "    .dataframe thead th {\n",
       "        text-align: right;\n",
       "    }\n",
       "</style>\n",
       "<table border=\"1\" class=\"dataframe\">\n",
       "  <thead>\n",
       "    <tr style=\"text-align: right;\">\n",
       "      <th></th>\n",
       "      <th>id</th>\n",
       "      <th>text</th>\n",
       "      <th>emotion</th>\n",
       "    </tr>\n",
       "  </thead>\n",
       "  <tbody>\n",
       "    <tr>\n",
       "      <th>0</th>\n",
       "      <td>0x30b1e3</td>\n",
       "      <td>Tomorrow is promised to no one, so cherish the...</td>\n",
       "      <td>anticipation</td>\n",
       "    </tr>\n",
       "    <tr>\n",
       "      <th>1</th>\n",
       "      <td>0x31dc09</td>\n",
       "      <td>In literature Snow symbolizes either death or ...</td>\n",
       "      <td>joy</td>\n",
       "    </tr>\n",
       "    <tr>\n",
       "      <th>2</th>\n",
       "      <td>0x36c550</td>\n",
       "      <td>We live in a godless world of  greed and  pe...</td>\n",
       "      <td>joy</td>\n",
       "    </tr>\n",
       "    <tr>\n",
       "      <th>3</th>\n",
       "      <td>0x27fdae</td>\n",
       "      <td>When u forget to turn on ur alarm but a truck ...</td>\n",
       "      <td>joy</td>\n",
       "    </tr>\n",
       "    <tr>\n",
       "      <th>4</th>\n",
       "      <td>0x24c2e6</td>\n",
       "      <td>Who the fuck gives vegemite sandwiches and smi...</td>\n",
       "      <td>disgust</td>\n",
       "    </tr>\n",
       "  </tbody>\n",
       "</table>\n",
       "</div>"
      ],
      "text/plain": [
       "         id                                               text       emotion\n",
       "0  0x30b1e3  Tomorrow is promised to no one, so cherish the...  anticipation\n",
       "1  0x31dc09  In literature Snow symbolizes either death or ...           joy\n",
       "2  0x36c550    We live in a godless world of  greed and  pe...           joy\n",
       "3  0x27fdae  When u forget to turn on ur alarm but a truck ...           joy\n",
       "4  0x24c2e6  Who the fuck gives vegemite sandwiches and smi...       disgust"
      ]
     },
     "execution_count": 3,
     "metadata": {},
     "output_type": "execute_result"
    }
   ],
   "source": [
    "###remove @blahblah ,numbers,hashtag and <LH>\n",
    "import re\n",
    "import numpy as np\n",
    "def remove_pattern(input_txt,pattern):\n",
    "    r = re.findall(pattern,input_txt)\n",
    "    for i in r:\n",
    "        input_txt = re.sub(i,' ',input_txt)\n",
    "    return input_txt\n",
    "df['text']=np.vectorize(remove_pattern)(df['text'],'@[\\w]*')\n",
    "df['text']=np.vectorize(remove_pattern)(df['text'],'<LH>')\n",
    "df['text']=np.vectorize(remove_pattern)(df['text'],'#')\n",
    "df['text']=np.vectorize(remove_pattern)(df['text'],'[0-9]')\n",
    "df[0:5]"
   ]
  },
  {
   "cell_type": "code",
   "execution_count": 4,
   "metadata": {},
   "outputs": [
    {
     "data": {
      "text/html": [
       "<div>\n",
       "<style scoped>\n",
       "    .dataframe tbody tr th:only-of-type {\n",
       "        vertical-align: middle;\n",
       "    }\n",
       "\n",
       "    .dataframe tbody tr th {\n",
       "        vertical-align: top;\n",
       "    }\n",
       "\n",
       "    .dataframe thead th {\n",
       "        text-align: right;\n",
       "    }\n",
       "</style>\n",
       "<table border=\"1\" class=\"dataframe\">\n",
       "  <thead>\n",
       "    <tr style=\"text-align: right;\">\n",
       "      <th></th>\n",
       "      <th>id</th>\n",
       "      <th>text</th>\n",
       "      <th>emotion</th>\n",
       "    </tr>\n",
       "  </thead>\n",
       "  <tbody>\n",
       "    <tr>\n",
       "      <th>0</th>\n",
       "      <td>0x30b1e3</td>\n",
       "      <td>[tomorrow, is, promised, to, no, one, ,, so, c...</td>\n",
       "      <td>anticipation</td>\n",
       "    </tr>\n",
       "    <tr>\n",
       "      <th>1</th>\n",
       "      <td>0x31dc09</td>\n",
       "      <td>[in, literature, snow, symbolizes, either, dea...</td>\n",
       "      <td>joy</td>\n",
       "    </tr>\n",
       "    <tr>\n",
       "      <th>2</th>\n",
       "      <td>0x36c550</td>\n",
       "      <td>[we, live, in, a, godless, world, of, greed, a...</td>\n",
       "      <td>joy</td>\n",
       "    </tr>\n",
       "    <tr>\n",
       "      <th>3</th>\n",
       "      <td>0x27fdae</td>\n",
       "      <td>[when, u, forget, to, turn, on, ur, alarm, but...</td>\n",
       "      <td>joy</td>\n",
       "    </tr>\n",
       "    <tr>\n",
       "      <th>4</th>\n",
       "      <td>0x24c2e6</td>\n",
       "      <td>[who, the, fuck, gives, vegemite, sandwiches, ...</td>\n",
       "      <td>disgust</td>\n",
       "    </tr>\n",
       "  </tbody>\n",
       "</table>\n",
       "</div>"
      ],
      "text/plain": [
       "         id                                               text       emotion\n",
       "0  0x30b1e3  [tomorrow, is, promised, to, no, one, ,, so, c...  anticipation\n",
       "1  0x31dc09  [in, literature, snow, symbolizes, either, dea...           joy\n",
       "2  0x36c550  [we, live, in, a, godless, world, of, greed, a...           joy\n",
       "3  0x27fdae  [when, u, forget, to, turn, on, ur, alarm, but...           joy\n",
       "4  0x24c2e6  [who, the, fuck, gives, vegemite, sandwiches, ...       disgust"
      ]
     },
     "execution_count": 4,
     "metadata": {},
     "output_type": "execute_result"
    }
   ],
   "source": [
    "###tokenization,use tweet tokenizer\n",
    "from nltk.tokenize import TweetTokenizer\n",
    "token = TweetTokenizer(reduce_len = True)\n",
    "df['text']=df['text'].str.lower()\n",
    "df['text']=df['text'].apply(lambda x :token.tokenize(x))\n",
    "df[0:5]"
   ]
  },
  {
   "cell_type": "code",
   "execution_count": 5,
   "metadata": {},
   "outputs": [
    {
     "data": {
      "text/html": [
       "<div>\n",
       "<style scoped>\n",
       "    .dataframe tbody tr th:only-of-type {\n",
       "        vertical-align: middle;\n",
       "    }\n",
       "\n",
       "    .dataframe tbody tr th {\n",
       "        vertical-align: top;\n",
       "    }\n",
       "\n",
       "    .dataframe thead th {\n",
       "        text-align: right;\n",
       "    }\n",
       "</style>\n",
       "<table border=\"1\" class=\"dataframe\">\n",
       "  <thead>\n",
       "    <tr style=\"text-align: right;\">\n",
       "      <th></th>\n",
       "      <th>id</th>\n",
       "      <th>text</th>\n",
       "      <th>emotion</th>\n",
       "    </tr>\n",
       "  </thead>\n",
       "  <tbody>\n",
       "    <tr>\n",
       "      <th>0</th>\n",
       "      <td>0x30b1e3</td>\n",
       "      <td>[tomorrow, promised, one, cherish, people, pla...</td>\n",
       "      <td>anticipation</td>\n",
       "    </tr>\n",
       "    <tr>\n",
       "      <th>1</th>\n",
       "      <td>0x31dc09</td>\n",
       "      <td>[literature, snow, symbolizes, either, death, ...</td>\n",
       "      <td>joy</td>\n",
       "    </tr>\n",
       "    <tr>\n",
       "      <th>2</th>\n",
       "      <td>0x36c550</td>\n",
       "      <td>[live, godless, world, greed, perversion, into...</td>\n",
       "      <td>joy</td>\n",
       "    </tr>\n",
       "    <tr>\n",
       "      <th>3</th>\n",
       "      <td>0x27fdae</td>\n",
       "      <td>[u, forget, turn, ur, alarm, truck, starts, lo...</td>\n",
       "      <td>joy</td>\n",
       "    </tr>\n",
       "    <tr>\n",
       "      <th>4</th>\n",
       "      <td>0x24c2e6</td>\n",
       "      <td>[fuck, gives, vegemite, sandwiches, smiles, co...</td>\n",
       "      <td>disgust</td>\n",
       "    </tr>\n",
       "  </tbody>\n",
       "</table>\n",
       "</div>"
      ],
      "text/plain": [
       "         id                                               text       emotion\n",
       "0  0x30b1e3  [tomorrow, promised, one, cherish, people, pla...  anticipation\n",
       "1  0x31dc09  [literature, snow, symbolizes, either, death, ...           joy\n",
       "2  0x36c550  [live, godless, world, greed, perversion, into...           joy\n",
       "3  0x27fdae  [u, forget, turn, ur, alarm, truck, starts, lo...           joy\n",
       "4  0x24c2e6  [fuck, gives, vegemite, sandwiches, smiles, co...       disgust"
      ]
     },
     "execution_count": 5,
     "metadata": {},
     "output_type": "execute_result"
    }
   ],
   "source": [
    "###remove stopwords and punctuation \n",
    "from nltk.corpus import stopwords\n",
    "import string\n",
    "stop = stopwords.words('english')\n",
    "df['text']=df['text'].apply(lambda x :[item for item in x if item not in stop])\n",
    "punctuation = list(string.punctuation)\n",
    "punctuation.append('...')\n",
    "df['text']=df['text'].apply(lambda x :[item for item in x if item not in punctuation])\n",
    "df[0:5]"
   ]
  },
  {
   "cell_type": "code",
   "execution_count": 6,
   "metadata": {},
   "outputs": [
    {
     "data": {
      "text/html": [
       "<div>\n",
       "<style scoped>\n",
       "    .dataframe tbody tr th:only-of-type {\n",
       "        vertical-align: middle;\n",
       "    }\n",
       "\n",
       "    .dataframe tbody tr th {\n",
       "        vertical-align: top;\n",
       "    }\n",
       "\n",
       "    .dataframe thead th {\n",
       "        text-align: right;\n",
       "    }\n",
       "</style>\n",
       "<table border=\"1\" class=\"dataframe\">\n",
       "  <thead>\n",
       "    <tr style=\"text-align: right;\">\n",
       "      <th></th>\n",
       "      <th>id</th>\n",
       "      <th>text</th>\n",
       "      <th>emotion</th>\n",
       "    </tr>\n",
       "  </thead>\n",
       "  <tbody>\n",
       "    <tr>\n",
       "      <th>0</th>\n",
       "      <td>0x30b1e3</td>\n",
       "      <td>tomorrow promis one cherish peopl place life t...</td>\n",
       "      <td>anticipation</td>\n",
       "    </tr>\n",
       "    <tr>\n",
       "      <th>1</th>\n",
       "      <td>0x31dc09</td>\n",
       "      <td>literatur snow symbol either death new begin s...</td>\n",
       "      <td>joy</td>\n",
       "    </tr>\n",
       "    <tr>\n",
       "      <th>2</th>\n",
       "      <td>0x36c550</td>\n",
       "      <td>live godless world greed pervers intoler inste...</td>\n",
       "      <td>joy</td>\n",
       "    </tr>\n",
       "    <tr>\n",
       "      <th>3</th>\n",
       "      <td>0x27fdae</td>\n",
       "      <td>u forget turn ur alarm truck start loudli back...</td>\n",
       "      <td>joy</td>\n",
       "    </tr>\n",
       "    <tr>\n",
       "      <th>4</th>\n",
       "      <td>0x24c2e6</td>\n",
       "      <td>fuck give vegemit sandwich smile consid act ag...</td>\n",
       "      <td>disgust</td>\n",
       "    </tr>\n",
       "  </tbody>\n",
       "</table>\n",
       "</div>"
      ],
      "text/plain": [
       "         id                                               text       emotion\n",
       "0  0x30b1e3  tomorrow promis one cherish peopl place life t...  anticipation\n",
       "1  0x31dc09  literatur snow symbol either death new begin s...           joy\n",
       "2  0x36c550  live godless world greed pervers intoler inste...           joy\n",
       "3  0x27fdae  u forget turn ur alarm truck start loudli back...           joy\n",
       "4  0x24c2e6  fuck give vegemit sandwich smile consid act ag...       disgust"
      ]
     },
     "execution_count": 6,
     "metadata": {},
     "output_type": "execute_result"
    }
   ],
   "source": [
    "###stemming\n",
    "from nltk.stem.porter import PorterStemmer\n",
    "stemmer = PorterStemmer()\n",
    "df['text']=df['text'].apply(lambda x:[stemmer.stem(i) for i in x])\n",
    "df[0:5]\n",
    "#stitch tokens back together\n",
    "df['text']=df['text'].apply(lambda x:' '.join(x))\n",
    "df[0:5]"
   ]
  },
  {
   "cell_type": "code",
   "execution_count": 7,
   "metadata": {},
   "outputs": [],
   "source": [
    "###save the clean set in order to train\n",
    "#df.to_csv('cleantrain_set.csv',index = 0)\n",
    "#df.to_csv('cleantest_set.csv',index = 0)"
   ]
  },
  {
   "cell_type": "markdown",
   "metadata": {},
   "source": [
    "after pre-processing, I try to build a CNN-LSTM model to do the task\n",
    "\n",
    "but due to memory issue,I just sample a part of data to display my model"
   ]
  },
  {
   "cell_type": "code",
   "execution_count": 8,
   "metadata": {},
   "outputs": [
    {
     "name": "stderr",
     "output_type": "stream",
     "text": [
      "E:\\Anaconda3\\lib\\site-packages\\h5py\\__init__.py:36: FutureWarning: Conversion of the second argument of issubdtype from `float` to `np.floating` is deprecated. In future, it will be treated as `np.float64 == np.dtype(float).type`.\n",
      "  from ._conv import register_converters as _register_converters\n",
      "Using TensorFlow backend.\n"
     ]
    }
   ],
   "source": [
    "import keras\n",
    "###load training,testing set,dealwith null value(due to pre-processing)\n",
    "data = pd.read_csv('cleantrain_set.csv')\n",
    "data = data.sample(n=5000)\n",
    "data.dropna(inplace = True)\n",
    "testdata = pd.read_csv('cleantest_set.csv')\n",
    "testdata = testdata.sample(n=1000)\n",
    "testdata.fillna('thisisnull',inplace=True)"
   ]
  },
  {
   "cell_type": "code",
   "execution_count": 9,
   "metadata": {},
   "outputs": [],
   "source": [
    "### Create sequence\n",
    "from keras.preprocessing.text import Tokenizer\n",
    "#take most often 5000 words to word_dic\n",
    "vocabulary_size = 5000 \n",
    "tokenizer = Tokenizer(num_words= vocabulary_size)\n",
    "tokenizer.fit_on_texts(data['text'])\n",
    "#transform words to a sequence\n",
    "sequences = tokenizer.texts_to_sequences(data['text'])"
   ]
  },
  {
   "cell_type": "code",
   "execution_count": 24,
   "metadata": {},
   "outputs": [
    {
     "data": {
      "text/plain": [
       "<Figure size 576x432 with 0 Axes>"
      ]
     },
     "metadata": {},
     "output_type": "display_data"
    },
    {
     "data": {
      "image/png": "[encoded data removed]",
      "text/plain": [
       "<Figure size 432x288 with 1 Axes>"
      ]
     },
     "metadata": {},
     "output_type": "display_data"
    }
   ],
   "source": [
    "###check length of sequence\n",
    "import matplotlib.pyplot as plt\n",
    "text_len = [len(x) for x in sequences]\n",
    "histo = pd.Series(text_len).value_counts()\n",
    "histo.sort_index(inplace=True)\n",
    "histo = pd.DataFrame(histo,columns = ['counts'])\n",
    "plt.figure(figsize=(8,6))\n",
    "histo[0:25].plot.bar()\n",
    "plt.xticks(rotation=360)\n",
    "plt.show()"
   ]
  },
  {
   "cell_type": "code",
   "execution_count": 25,
   "metadata": {},
   "outputs": [
    {
     "data": {
      "text/plain": [
       "array([[   0,    0,    0, 1479,   83,  622,  844, 3550],\n",
       "       [  90,  252,  410, 3551,  693,  411, 2361,  269],\n",
       "       [   0,    0,  623,  447,   25,  343,  234,   78],\n",
       "       [1075,  625, 1075,  625, 1480, 1797,  523, 1481]])"
      ]
     },
     "execution_count": 25,
     "metadata": {},
     "output_type": "execute_result"
    }
   ],
   "source": [
    "#pad or cut each sequence to proper length\n",
    "sequence_len = int(8) \n",
    "from keras.preprocessing.sequence import pad_sequences\n",
    "train = pad_sequences(sequences, maxlen=sequence_len)\n",
    "train[0:4]"
   ]
  },
  {
   "cell_type": "code",
   "execution_count": 11,
   "metadata": {},
   "outputs": [
    {
     "name": "stdout",
     "output_type": "stream",
     "text": [
      "check label:  ['anger' 'anticipation' 'disgust' 'fear' 'joy' 'sadness' 'surprise'\n",
      " 'trust']\n",
      "\n",
      "## Before convert\n",
      "data[emotion][0:4]:\n",
      " 388942     anticipation\n",
      "598931            anger\n",
      "967576              joy\n",
      "1374783           trust\n",
      "Name: emotion, dtype: object\n",
      "\n",
      " data[emotion].shape:  (4986,)\n",
      "\n",
      "\n",
      "## After convert\n",
      "data_label[0:4]:\n",
      " [[0. 1. 0. 0. 0. 0. 0. 0.]\n",
      " [1. 0. 0. 0. 0. 0. 0. 0.]\n",
      " [0. 0. 0. 0. 1. 0. 0. 0.]\n",
      " [0. 0. 0. 0. 0. 0. 0. 1.]]\n",
      "\n",
      " data_label.shape:  (4986, 8)\n"
     ]
    }
   ],
   "source": [
    "###Label encoding\n",
    "from sklearn import preprocessing\n",
    "le = preprocessing.LabelEncoder()\n",
    "le.fit(data['emotion'])\n",
    "print('check label: ', le.classes_)\n",
    "print('\\n## Before convert')\n",
    "print('data[emotion][0:4]:\\n', data['emotion'][0:4])\n",
    "print('\\n data[emotion].shape: ', data['emotion'].shape)\n",
    "#transform sentumental label to one-hot label\n",
    "def label_encode(le, labels):\n",
    "    enc = le.transform(labels)\n",
    "    return keras.utils.to_categorical(enc)\n",
    "def label_decode(le, one_hot_label):\n",
    "    dec = np.argmax(one_hot_label, axis=1)\n",
    "    return le.inverse_transform(dec)\n",
    "data_label = label_encode(le, data['emotion'])\n",
    "print('\\n\\n## After convert')\n",
    "print('data_label[0:4]:\\n', data_label[0:4])\n",
    "print('\\n data_label.shape: ', data_label.shape)"
   ]
  },
  {
   "cell_type": "code",
   "execution_count": 12,
   "metadata": {},
   "outputs": [],
   "source": [
    "###split train,valid set\n",
    "from sklearn.model_selection import train_test_split\n",
    "X_train, X_test, y_train, y_test = train_test_split(train, data_label, \n",
    "                                                    test_size=0.25,shuffle = True,random_state = 17)"
   ]
  },
  {
   "cell_type": "code",
   "execution_count": 13,
   "metadata": {},
   "outputs": [
    {
     "name": "stdout",
     "output_type": "stream",
     "text": [
      "input_shape:  8\n",
      "output_shape:  8\n"
     ]
    }
   ],
   "source": [
    "###deep learning\n",
    "#input is padded sequence,output is one-hot label\n",
    "input_shape = X_train.shape[1]\n",
    "print('input_shape: ', input_shape)\n",
    "output_shape = len(le.classes_)\n",
    "print('output_shape: ', output_shape)\n",
    "from keras.models import Model\n",
    "from keras.layers.core import Dense, Dropout\n",
    "from keras.layers.embeddings import Embedding\n",
    "from keras.layers import LSTM,Activation,concatenate,Input\n",
    "from keras.models import load_model\n",
    "from keras import optimizers \n",
    "from keras.layers.normalization import BatchNormalization\n",
    "from keras.layers.convolutional import Conv1D,MaxPooling1D\n",
    "from keras.callbacks import CSVLogger,EarlyStopping,ModelCheckpoint\n",
    "csv_logger = CSVLogger('training_log.csv')\n"
   ]
  },
  {
   "cell_type": "code",
   "execution_count": 14,
   "metadata": {},
   "outputs": [],
   "source": [
    "###use GPU to accelerate training\n",
    "#import os\n",
    "#os.environ[\"CUDA_DEVICE_ORDER\"] = \"PCI_BUS_ID\"\n",
    "#os.environ['CUDA_VISIBLE_DEVICES'] = '0'"
   ]
  },
  {
   "cell_type": "code",
   "execution_count": 15,
   "metadata": {},
   "outputs": [
    {
     "name": "stdout",
     "output_type": "stream",
     "text": [
      "__________________________________________________________________________________________________\n",
      "Layer (type)                    Output Shape         Param #     Connected to                     \n",
      "==================================================================================================\n",
      "input_1 (InputLayer)            (None, 8)            0                                            \n",
      "__________________________________________________________________________________________________\n",
      "embedding_1 (Embedding)         (None, 8, 32)        160032      input_1[0][0]                    \n",
      "__________________________________________________________________________________________________\n",
      "batch_normalization_1 (BatchNor (None, 8, 32)        128         embedding_1[0][0]                \n",
      "__________________________________________________________________________________________________\n",
      "conv1d_1 (Conv1D)               (None, 8, 64)        4160        batch_normalization_1[0][0]      \n",
      "__________________________________________________________________________________________________\n",
      "conv1d_2 (Conv1D)               (None, 8, 64)        6208        batch_normalization_1[0][0]      \n",
      "__________________________________________________________________________________________________\n",
      "conv1d_3 (Conv1D)               (None, 8, 64)        12352       batch_normalization_1[0][0]      \n",
      "__________________________________________________________________________________________________\n",
      "max_pooling1d_1 (MaxPooling1D)  (None, 4, 64)        0           conv1d_1[0][0]                   \n",
      "__________________________________________________________________________________________________\n",
      "max_pooling1d_2 (MaxPooling1D)  (None, 4, 64)        0           conv1d_2[0][0]                   \n",
      "__________________________________________________________________________________________________\n",
      "max_pooling1d_3 (MaxPooling1D)  (None, 8, 64)        0           conv1d_3[0][0]                   \n",
      "__________________________________________________________________________________________________\n",
      "concatenate_1 (Concatenate)     (None, 16, 64)       0           max_pooling1d_1[0][0]            \n",
      "                                                                 max_pooling1d_2[0][0]            \n",
      "                                                                 max_pooling1d_3[0][0]            \n",
      "__________________________________________________________________________________________________\n",
      "lstm_1 (LSTM)                   (None, 128)          98816       concatenate_1[0][0]              \n",
      "__________________________________________________________________________________________________\n",
      "batch_normalization_2 (BatchNor (None, 128)          512         lstm_1[0][0]                     \n",
      "__________________________________________________________________________________________________\n",
      "dense_1 (Dense)                 (None, 512)          66048       batch_normalization_2[0][0]      \n",
      "__________________________________________________________________________________________________\n",
      "batch_normalization_3 (BatchNor (None, 512)          2048        dense_1[0][0]                    \n",
      "__________________________________________________________________________________________________\n",
      "activation_1 (Activation)       (None, 512)          0           batch_normalization_3[0][0]      \n",
      "__________________________________________________________________________________________________\n",
      "dropout_1 (Dropout)             (None, 512)          0           activation_1[0][0]               \n",
      "__________________________________________________________________________________________________\n",
      "dense_2 (Dense)                 (None, 8)            4104        dropout_1[0][0]                  \n",
      "==================================================================================================\n",
      "Total params: 354,408\n",
      "Trainable params: 353,064\n",
      "Non-trainable params: 1,344\n",
      "__________________________________________________________________________________________________\n",
      "None\n"
     ]
    }
   ],
   "source": [
    "#hyper parameters\n",
    "learning_rate = 0.001\n",
    "epochs = 50\n",
    "batch_size = 512\n",
    "#build CNN-LSTM model\n",
    "model_input = Input(shape = (input_shape,))\n",
    "embed = Embedding(output_dim=32,\n",
    "                    input_dim=vocabulary_size+1, \n",
    "                    input_length=input_shape)(model_input)\n",
    "BN1 = BatchNormalization()(embed)\n",
    "cnn2=Conv1D(filters=64, kernel_size=2,padding='same',activation='relu')(BN1)                     \n",
    "MP2 = MaxPooling1D(pool_size=2)(cnn2)\n",
    "cnn3=Conv1D(filters=64, kernel_size=3,padding='same',activation='relu')(BN1)                \n",
    "MP3 = MaxPooling1D(pool_size=2)(cnn3)\n",
    "cnnn=Conv1D(filters=64, kernel_size=6,padding='same',activation='relu')(BN1)                    \n",
    "MPn = MaxPooling1D(pool_size=1)(cnnn)\n",
    "cnn_out = concatenate([MP2,MP3,MPn], axis=-2)\n",
    "LSTM1 = LSTM(units=128,unroll = True, recurrent_initializer='orthogonal',\n",
    "             return_sequences=False,\n",
    "               dropout=0.2, recurrent_dropout=0.2)(cnn_out)\n",
    "LSTM1_BN = BatchNormalization()(LSTM1)\n",
    "FC1 = Dense(units=512)(LSTM1_BN)\n",
    "FC1_BN = BatchNormalization()(FC1)\n",
    "Activate  = Activation('relu')(FC1_BN)\n",
    "Drop = Dropout(0.5)(Activate)\n",
    "FC2 = Dense(units=output_shape,activation='softmax' )(Drop)\n",
    "model = Model(inputs=model_input, outputs=FC2)\n",
    "print(model.summary())\n"
   ]
  },
  {
   "cell_type": "code",
   "execution_count": 16,
   "metadata": {},
   "outputs": [],
   "source": [
    "# define loss function & optimizer\n",
    "adam = optimizers.Adam(lr=learning_rate)\n",
    "model.compile(optimizer='adam',\n",
    "              loss='categorical_crossentropy',\n",
    "              metrics=['accuracy'])"
   ]
  },
  {
   "cell_type": "code",
   "execution_count": 17,
   "metadata": {},
   "outputs": [],
   "source": [
    "###callback csv_logger,Modelcheckpoint and Earlystopping\n",
    "earlystopping=EarlyStopping(monitor='val_loss', patience=5, verbose=0, mode='auto')\n",
    "#BEST_MODEL_DIR = \"C:/Users/user/Downloads/DMHW2/best_lstm.h5\"\n",
    "#save_best = ModelCheckpoint(BEST_MODEL_DIR, monitor='val_loss', verbose=0,\n",
    "#                            save_best_only=True, save_weights_only=False, mode='auto', period=1)"
   ]
  },
  {
   "cell_type": "code",
   "execution_count": 18,
   "metadata": {},
   "outputs": [
    {
     "name": "stdout",
     "output_type": "stream",
     "text": [
      "Train on 3739 samples, validate on 1247 samples\n",
      "Epoch 1/50\n",
      "3739/3739 [==============================] - 11s 3ms/step - loss: 2.4323 - acc: 0.2129 - val_loss: 1.8246 - val_acc: 0.3536\n",
      "Epoch 2/50\n",
      "3739/3739 [==============================] - 1s 271us/step - loss: 2.1146 - acc: 0.3012 - val_loss: 1.8005 - val_acc: 0.3424\n",
      "Epoch 3/50\n",
      "3739/3739 [==============================] - 1s 266us/step - loss: 1.9868 - acc: 0.3038 - val_loss: 1.7928 - val_acc: 0.3561\n",
      "Epoch 4/50\n",
      "3739/3739 [==============================] - 1s 265us/step - loss: 1.8687 - acc: 0.3472 - val_loss: 1.7874 - val_acc: 0.3536\n",
      "Epoch 5/50\n",
      "3739/3739 [==============================] - 1s 265us/step - loss: 1.7257 - acc: 0.3918 - val_loss: 1.7780 - val_acc: 0.3561\n",
      "Epoch 6/50\n",
      "3739/3739 [==============================] - 1s 266us/step - loss: 1.5583 - acc: 0.4474 - val_loss: 1.8059 - val_acc: 0.3657\n",
      "Epoch 7/50\n",
      "3739/3739 [==============================] - 1s 266us/step - loss: 1.4154 - acc: 0.4980 - val_loss: 1.8456 - val_acc: 0.3553\n",
      "Epoch 8/50\n",
      "3739/3739 [==============================] - 1s 265us/step - loss: 1.2832 - acc: 0.5424 - val_loss: 1.9027 - val_acc: 0.3721\n",
      "training finish\n"
     ]
    }
   ],
   "source": [
    "#train the model\n",
    "history = model.fit(X_train, y_train, \n",
    "                    epochs=epochs, \n",
    "                    batch_size=batch_size, \n",
    "                    callbacks=[csv_logger,earlystopping],\n",
    "                    validation_data = (X_test, y_test))\n",
    "print('training finish')"
   ]
  },
  {
   "cell_type": "code",
   "execution_count": 22,
   "metadata": {},
   "outputs": [
    {
     "data": {
      "image/png": "[encoded data removed]",
      "text/plain": [
       "<Figure size 432x288 with 1 Axes>"
      ]
     },
     "metadata": {},
     "output_type": "display_data"
    },
    {
     "data": {
      "image/png": "[encoded data removed]",
      "text/plain": [
       "<Figure size 432x288 with 1 Axes>"
      ]
     },
     "metadata": {},
     "output_type": "display_data"
    }
   ],
   "source": [
    "def show_train_history(train_history, train, validation):\n",
    "    fig = plt.figure()\n",
    "    plt.plot(train_history.history[train])\n",
    "    plt.plot(train_history.history[validation])\n",
    "    plt.title('Train History')\n",
    "    plt.ylabel(train)\n",
    "    plt.xlabel('Epoch')\n",
    "    plt.legend(['train', 'validation'], loc='best')\n",
    "    \n",
    "\n",
    "\n",
    "show_train_history(history, 'acc', 'val_acc',)\n",
    "show_train_history(history, 'loss', 'val_loss')"
   ]
  },
  {
   "cell_type": "code",
   "execution_count": 19,
   "metadata": {},
   "outputs": [],
   "source": [
    "###predict on public test set and creat submission file\n",
    "###load the model\n",
    "#SAVE_MODEL_DIR = \"best_lstm.h5\"\n",
    "#model = load_model(SAVE_MODEL_DIR)"
   ]
  },
  {
   "cell_type": "code",
   "execution_count": 20,
   "metadata": {},
   "outputs": [],
   "source": [
    "###tokenize test data and generate the sequence \n",
    "test_sequences = tokenizer.texts_to_sequences(testdata['text'])\n",
    "_testdata = pad_sequences(test_sequences, maxlen=sequence_len)\n",
    "pred_result = model.predict(_testdata, batch_size=512)\n",
    "pred_result = label_decode(le, pred_result)\n",
    "pred = pd.Series(pred_result)\n",
    "testdata['emotion']=pred\n",
    "testdata.drop(['text'],axis = 1,inplace = True)\n",
    "#testdata.to_csv('prediction.csv',index = 0)"
   ]
  },
  {
   "cell_type": "markdown",
   "metadata": {},
   "source": [
    "I finally got 0.44076 acc on kaggle competition.\n",
    "\n",
    "At first, I tried to stack serval Dense layers to build a fully-connected model,but it got bad performance(0.40~0.42)\n",
    "\n",
    "So I tried SimpleRNN , LSTM,Bidirectional LSTM ,it slightly increase the acc(0.42~0.44) ,but it took longer time(about 30mins/epoch)\n",
    "\n",
    "At last,I decided to cascade CNN and LSTM together to accelerare convergence speed,and keep the performance.\n",
    "\n",
    "I discovered that different embedding output_dim(I thought that refer to the dimentionality of data),different units of each layer(CNN,LSTM,Dense),different hyperparameter(learning rate,batchsize),and use Early stopping in order to prevent from over-fitting\n",
    "\n",
    "but it seems not very effective,it really disappoint me\n",
    "\n",
    "this competition is quite challenging for me, but inspire me a lot\n",
    "\n",
    "Hope that I could do better in final project 👍"
   ]
  }
 ],
 "metadata": {
  "kernelspec": {
   "display_name": "Python 3",
   "language": "python",
   "name": "python3"
  },
  "language_info": {
   "codemirror_mode": {
    "name": "ipython",
    "version": 3
   },
   "file_extension": ".py",
   "mimetype": "text/x-python",
   "name": "python",
   "nbconvert_exporter": "python",
   "pygments_lexer": "ipython3",
   "version": "3.6.5"
  },
  "varInspector": {
   "cols": {
    "lenName": 16,
    "lenType": 16,
    "lenVar": 40
   },
   "kernels_config": {
    "python": {
     "delete_cmd_postfix": "",
     "delete_cmd_prefix": "del ",
     "library": "var_list.py",
     "varRefreshCmd": "print(var_dic_list())"
    },
    "r": {
     "delete_cmd_postfix": ") ",
     "delete_cmd_prefix": "rm(",
     "library": "var_list.r",
     "varRefreshCmd": "cat(var_dic_list()) "
    }
   },
   "types_to_exclude": [
    "module",
    "function",
    "builtin_function_or_method",
    "instance",
    "_Feature"
   ],
   "window_display": false
  }
 },
 "nbformat": 4,
 "nbformat_minor": 2
}
