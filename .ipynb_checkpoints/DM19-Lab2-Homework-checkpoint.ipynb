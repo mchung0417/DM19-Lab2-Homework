{
 "cells": [
  {
   "cell_type": "markdown",
   "metadata": {},
   "source": [
    "### Student Information\n",
    "Name:\n",
    "鍾明遠\n",
    "\n",
    "Student ID:\n",
    "108011557\n",
    "\n",
    "GitHub ID:\n",
    "mchung0417\n",
    "\n",
    "Kaggle name:\n",
    "mchung0417\n",
    "\n",
    "Kaggle private scoreboard snapshot:\n",
    "\n",
    "[Snapshot](pic0.png)\n",
    "\n",
    "<td><img src=\"pic0.png\" style=\"width: 900px;\"/> </td>"
   ]
  },
  {
   "cell_type": "markdown",
   "metadata": {},
   "source": [
    "---"
   ]
  },
  {
   "cell_type": "markdown",
   "metadata": {},
   "source": [
    "### Instructions"
   ]
  },
  {
   "cell_type": "markdown",
   "metadata": {},
   "source": [
    "1. First: __This part is worth 30% of your grade.__ Do the **take home** exercises in the [DM19-Lab2-Master Repo](https://github.com/EvaArevalo/DM19-Lab2-Master). You may need to copy some cells from the Lab notebook to this notebook. \n",
    "\n",
    "\n",
    "2. Second: __This part is worth 30% of your grade.__ Participate in the in-class [Kaggle Competition](https://www.kaggle.com/t/179d01d4dd984fc5ac45a894822479dd) regarding Emotion Recognition on Twitter. The scoring will be given according to your place in the Private Leaderboard ranking: \n",
    "    - **Bottom 40%**: Get 20% of the score (ie. 20% of 30% )\n",
    "\n",
    "    - **Top 41% - 100%**: Get (101-x)% of the score, where x is your ranking in the leaderboard (ie. (101-x)% of 30% )   \n",
    "    Submit your last submission __BEFORE the deadline (Nov. 23rd 11:59 pm, Saturday)__. Make sure to take a screenshot of your position at the end of the competition and store it as '''pic0.png''' under the **img** folder of this repository and rerun the cell **Student Information**.\n",
    "    \n",
    "\n",
    "3. Third: __This part is worth 30% of your grade.__ A report of your work developping the model for the competition (You can use code and comment it). This report should include what your preprocessing steps, the feature engineering steps and an explanation of your model. You can also mention different things you tried and insights you gained. \n",
    "\n",
    "\n",
    "4. Fourth: __This part is worth 10% of your grade.__ It's hard for us to follow if your code is messy :'(, so please **tidy up your notebook** and **add minimal comments where needed**.\n",
    "\n",
    "\n",
    "You can submit your homework following these guidelines: [Git Intro & How to hand your homework](https://github.com/EvaArevalo/DM19-Lab1-Master/blob/master/Git%20Intro%20%26%20How%20to%20hand%20your%20homework.ipynb), but make sure to fork the [DM19-Lab2-Homework](https://github.com/EvaArevalo/DM19-Lab2-Homework) repository this time! Also please __DON´T UPLOAD HUGE DOCUMENTS__, please use Git ignore for that.\n",
    "\n",
    "Make sure to commit and save your changes to your repository __BEFORE the deadline (Nov. 26th 11:59 pm, Tuesday)__. "
   ]
  },
  {
   "cell_type": "markdown",
   "metadata": {},
   "source": [
    "---\n",
    "### First-take home excercise"
   ]
  },
  {
   "cell_type": "markdown",
   "metadata": {},
   "source": [
    "---\n",
    "### ** >Exercise 1 (Take home): **  \n",
    "Plot word frequency for Top 30 words in both train and test dataset. (Hint: refer to DM lab 1)\n"
   ]
  },
  {
   "cell_type": "code",
   "execution_count": 1,
   "metadata": {},
   "outputs": [
    {
     "data": {
      "text/html": [
       "<div>\n",
       "<style scoped>\n",
       "    .dataframe tbody tr th:only-of-type {\n",
       "        vertical-align: middle;\n",
       "    }\n",
       "\n",
       "    .dataframe tbody tr th {\n",
       "        vertical-align: top;\n",
       "    }\n",
       "\n",
       "    .dataframe thead th {\n",
       "        text-align: right;\n",
       "    }\n",
       "</style>\n",
       "<table border=\"1\" class=\"dataframe\">\n",
       "  <thead>\n",
       "    <tr style=\"text-align: right;\">\n",
       "      <th></th>\n",
       "      <th>id</th>\n",
       "      <th>text</th>\n",
       "      <th>emotion</th>\n",
       "      <th>intensity</th>\n",
       "    </tr>\n",
       "  </thead>\n",
       "  <tbody>\n",
       "    <tr>\n",
       "      <th>0</th>\n",
       "      <td>10000</td>\n",
       "      <td>How the fu*k! Who the heck! moved my fridge!.....</td>\n",
       "      <td>anger</td>\n",
       "      <td>0.938</td>\n",
       "    </tr>\n",
       "    <tr>\n",
       "      <th>1</th>\n",
       "      <td>10001</td>\n",
       "      <td>So my Indian Uber driver just called someone t...</td>\n",
       "      <td>anger</td>\n",
       "      <td>0.896</td>\n",
       "    </tr>\n",
       "    <tr>\n",
       "      <th>2</th>\n",
       "      <td>10002</td>\n",
       "      <td>@DPD_UK I asked for my parcel to be delivered ...</td>\n",
       "      <td>anger</td>\n",
       "      <td>0.896</td>\n",
       "    </tr>\n",
       "    <tr>\n",
       "      <th>3</th>\n",
       "      <td>10003</td>\n",
       "      <td>so ef whichever butt wipe pulled the fire alar...</td>\n",
       "      <td>anger</td>\n",
       "      <td>0.896</td>\n",
       "    </tr>\n",
       "    <tr>\n",
       "      <th>4</th>\n",
       "      <td>10004</td>\n",
       "      <td>Don't join @BTCare they put the phone down on ...</td>\n",
       "      <td>anger</td>\n",
       "      <td>0.896</td>\n",
       "    </tr>\n",
       "  </tbody>\n",
       "</table>\n",
       "</div>"
      ],
      "text/plain": [
       "      id                                               text emotion  intensity\n",
       "0  10000  How the fu*k! Who the heck! moved my fridge!.....   anger      0.938\n",
       "1  10001  So my Indian Uber driver just called someone t...   anger      0.896\n",
       "2  10002  @DPD_UK I asked for my parcel to be delivered ...   anger      0.896\n",
       "3  10003  so ef whichever butt wipe pulled the fire alar...   anger      0.896\n",
       "4  10004  Don't join @BTCare they put the phone down on ...   anger      0.896"
      ]
     },
     "execution_count": 1,
     "metadata": {},
     "output_type": "execute_result"
    }
   ],
   "source": [
    "import pandas as pd\n",
    "\n",
    "### training data\n",
    "anger_train = pd.read_csv(\"data/semeval/train/anger-ratings-0to1.train.txt\",\n",
    "                         sep=\"\\t\", header=None,names=[\"id\", \"text\", \"emotion\", \"intensity\"])\n",
    "sadness_train = pd.read_csv(\"data/semeval/train/sadness-ratings-0to1.train.txt\",\n",
    "                         sep=\"\\t\", header=None, names=[\"id\", \"text\", \"emotion\", \"intensity\"])\n",
    "fear_train = pd.read_csv(\"data/semeval/train/fear-ratings-0to1.train.txt\",\n",
    "                         sep=\"\\t\", header=None, names=[\"id\", \"text\", \"emotion\", \"intensity\"])\n",
    "joy_train = pd.read_csv(\"data/semeval/train/joy-ratings-0to1.train.txt\",\n",
    "                         sep=\"\\t\", header=None, names=[\"id\", \"text\", \"emotion\", \"intensity\"])\n",
    "# combine 4 sub-dataset\n",
    "train_df = pd.concat([anger_train, fear_train, joy_train, sadness_train], ignore_index=True)\n",
    "### testing data\n",
    "anger_test = pd.read_csv(\"data/semeval/dev/anger-ratings-0to1.dev.gold.txt\",\n",
    "                         sep=\"\\t\", header=None, names=[\"id\", \"text\", \"emotion\", \"intensity\"])\n",
    "sadness_test = pd.read_csv(\"data/semeval/dev/sadness-ratings-0to1.dev.gold.txt\",\n",
    "                         sep=\"\\t\", header=None, names=[\"id\", \"text\", \"emotion\", \"intensity\"])\n",
    "fear_test = pd.read_csv(\"data/semeval/dev/fear-ratings-0to1.dev.gold.txt\",\n",
    "                         sep=\"\\t\", header=None, names=[\"id\", \"text\", \"emotion\", \"intensity\"])\n",
    "joy_test = pd.read_csv(\"data/semeval/dev/joy-ratings-0to1.dev.gold.txt\",\n",
    "                         sep=\"\\t\", header=None, names=[\"id\", \"text\", \"emotion\", \"intensity\"])\n",
    "\n",
    "# combine 4 sub-dataset\n",
    "test_df = pd.concat([anger_test, fear_test, joy_test, sadness_test], ignore_index=True)\n",
    "train_df.head()"
   ]
  },
  {
   "cell_type": "code",
   "execution_count": 2,
   "metadata": {},
   "outputs": [
    {
     "name": "stdout",
     "output_type": "stream",
     "text": [
      "Shape of Training df:  (3613, 4)\n",
      "Shape of Testing df:  (347, 4)\n"
     ]
    }
   ],
   "source": [
    "# shuffle dataset\n",
    "train_df = train_df.sample(frac=1)\n",
    "test_df = test_df.sample(frac=1)\n",
    "print(\"Shape of Training df: \", train_df.shape)\n",
    "print(\"Shape of Testing df: \", test_df.shape)"
   ]
  },
  {
   "cell_type": "code",
   "execution_count": 29,
   "metadata": {},
   "outputs": [
    {
     "data": {
      "image/png": "[encoded data removed]",
      "text/plain": [
       "<Figure size 864x720 with 1 Axes>"
      ]
     },
     "metadata": {},
     "output_type": "display_data"
    }
   ],
   "source": [
    "from sklearn.feature_extraction.text import CountVectorizer\n",
    "import matplotlib.pyplot as plt\n",
    "vectorizer = CountVectorizer()\n",
    "train_vec = vectorizer.fit_transform(train_df.text)\n",
    "train_word = vectorizer.get_feature_names()\n",
    "\n",
    "words = {}\n",
    "for i in range(len(train_word)):\n",
    "    words[i]=train_word[i]\n",
    "tf = pd.DataFrame(train_vec.toarray())\n",
    "tf = tf.rename(words,axis = 1)\n",
    "tf.loc['frequency']=tf.sum(axis = 0)\n",
    "\n",
    "tf_= pd.DataFrame(tf.loc['frequency'])\n",
    "tf_.sort_values(by = 'frequency',ascending=False,inplace = True)\n",
    "tf_ = tf_.apply(lambda x :x/tf_['frequency'].sum())\n",
    "\n",
    "tf_[0:30].plot.bar(figsize = (12,10))\n",
    "plt.xticks(rotation=45)\n",
    "plt.title('train_df word frequency')\n",
    "plt.show()"
   ]
  },
  {
   "cell_type": "code",
   "execution_count": 4,
   "metadata": {},
   "outputs": [
    {
     "data": {
      "image/png": "[encoded data removed]",
      "text/plain": [
       "<Figure size 864x720 with 1 Axes>"
      ]
     },
     "metadata": {},
     "output_type": "display_data"
    }
   ],
   "source": [
    "test_vec = vectorizer.fit_transform(test_df.text)\n",
    "test_word = vectorizer.get_feature_names()\n",
    "\n",
    "test_words = {}\n",
    "for i in range(len(test_word)):\n",
    "    test_words[i]=test_word[i]\n",
    "test_tf = pd.DataFrame(test_vec.toarray())\n",
    "test_tf = test_tf.rename(test_words,axis = 1)\n",
    "test_tf.loc['frequency']=test_tf.sum(axis = 0)\n",
    "\n",
    "test_tf_= pd.DataFrame(test_tf.loc['frequency'])\n",
    "test_tf_.sort_values(by = 'frequency',ascending=False,inplace = True)\n",
    "test_tf_ = test_tf_.apply(lambda x :x/test_tf_['frequency'].sum())\n",
    "\n",
    "test_tf_[0:30].plot.bar(figsize = (12,10))\n",
    "plt.xticks(rotation=45)\n",
    "plt.title('test_df word frequency')\n",
    "plt.show()"
   ]
  },
  {
   "cell_type": "markdown",
   "metadata": {},
   "source": [
    "---\n",
    "### ** >Exercise 2 (Take home): **  \n",
    "Generate an embedding using the TF-IDF vectorizer instead of th BOW one with 1000 features and show the feature names for features [100:110]."
   ]
  },
  {
   "cell_type": "code",
   "execution_count": 5,
   "metadata": {},
   "outputs": [
    {
     "data": {
      "text/plain": [
       "(3613, 1000)"
      ]
     },
     "execution_count": 5,
     "metadata": {},
     "output_type": "execute_result"
    }
   ],
   "source": [
    "from sklearn.feature_extraction.text import TfidfVectorizer\n",
    "import nltk\n",
    "Tfidf_vectorizer = TfidfVectorizer(max_features=1000,tokenizer = nltk.word_tokenize,use_idf=True)\n",
    "train_tfidf_vec = Tfidf_vectorizer.fit_transform(train_df.text)\n",
    "train_tfidf_word = Tfidf_vectorizer.get_feature_names()\n",
    "train_tfidf_vec.shape"
   ]
  },
  {
   "cell_type": "code",
   "execution_count": 6,
   "metadata": {},
   "outputs": [
    {
     "data": {
      "text/plain": [
       "array([[0.        , 0.        , 0.        , ..., 0.        , 0.        ,\n",
       "        0.        ],\n",
       "       [0.        , 0.        , 0.        , ..., 0.        , 0.        ,\n",
       "        0.        ],\n",
       "       [0.        , 0.        , 0.        , ..., 0.        , 0.        ,\n",
       "        0.        ],\n",
       "       ...,\n",
       "       [0.        , 0.        , 0.        , ..., 0.        , 0.        ,\n",
       "        0.        ],\n",
       "       [0.        , 0.18187923, 0.        , ..., 0.        , 0.        ,\n",
       "        0.        ],\n",
       "       [0.14634094, 0.        , 0.        , ..., 0.        , 0.        ,\n",
       "        0.        ]])"
      ]
     },
     "execution_count": 6,
     "metadata": {},
     "output_type": "execute_result"
    }
   ],
   "source": [
    "train_tfidf_vec.toarray()"
   ]
  },
  {
   "cell_type": "code",
   "execution_count": 7,
   "metadata": {},
   "outputs": [
    {
     "data": {
      "text/plain": [
       "['awful', 'b', 'baby', 'back', 'bad', 'ball', 'balls', 'bb18', 'bc', 'bday']"
      ]
     },
     "execution_count": 7,
     "metadata": {},
     "output_type": "execute_result"
    }
   ],
   "source": [
    "train_tfidf_word[100:110]"
   ]
  },
  {
   "cell_type": "markdown",
   "metadata": {},
   "source": [
    "---\n",
    "### ** > Exercise 3 (Take home): **  \n",
    "Can you interpret the results above? What do they mean?"
   ]
  },
  {
   "cell_type": "code",
   "execution_count": 8,
   "metadata": {},
   "outputs": [
    {
     "name": "stdout",
     "output_type": "stream",
     "text": [
      "X_train.shape:  (3613, 500)\n",
      "y_train.shape:  (3613,)\n",
      "X_test.shape:  (347, 500)\n",
      "y_test.shape:  (347,)\n"
     ]
    },
    {
     "data": {
      "text/plain": [
       "array(['fear', 'anger', 'anger', 'sadness', 'fear', 'joy', 'anger',\n",
       "       'fear', 'anger', 'fear'], dtype=object)"
      ]
     },
     "execution_count": 8,
     "metadata": {},
     "output_type": "execute_result"
    }
   ],
   "source": [
    "import nltk\n",
    "\n",
    "# build analyzers (bag-of-words)\n",
    "BOW_500 = CountVectorizer(max_features=500, tokenizer=nltk.word_tokenize) \n",
    "\n",
    "# apply analyzer to training data\n",
    "BOW_500.fit(train_df['text'])\n",
    "\n",
    "train_data_BOW_features_500 = BOW_500.transform(train_df['text'])\n",
    "\n",
    "from sklearn.tree import DecisionTreeClassifier\n",
    "\n",
    "# for a classificaiton problem, you need to provide both training & testing data\n",
    "X_train = BOW_500.transform(train_df['text'])\n",
    "y_train = train_df['emotion']\n",
    "\n",
    "X_test = BOW_500.transform(test_df['text'])\n",
    "y_test = test_df['emotion']\n",
    "\n",
    "## take a look at data dimension is a good habbit  :)\n",
    "print('X_train.shape: ', X_train.shape)\n",
    "print('y_train.shape: ', y_train.shape)\n",
    "print('X_test.shape: ', X_test.shape)\n",
    "print('y_test.shape: ', y_test.shape)\n",
    "## build DecisionTree model\n",
    "DT_model = DecisionTreeClassifier(random_state=0)\n",
    "\n",
    "## training!\n",
    "DT_model = DT_model.fit(X_train, y_train)\n",
    "\n",
    "## predict!\n",
    "y_train_pred = DT_model.predict(X_train)\n",
    "y_test_pred = DT_model.predict(X_test)\n",
    "\n",
    "## so we get the pred result\n",
    "y_test_pred[:10]"
   ]
  },
  {
   "cell_type": "code",
   "execution_count": 9,
   "metadata": {},
   "outputs": [
    {
     "name": "stdout",
     "output_type": "stream",
     "text": [
      "training accuracy: 0.99\n",
      "testing accuracy: 0.64\n",
      "              precision    recall  f1-score   support\n",
      "\n",
      "       anger       0.65      0.65      0.65        84\n",
      "        fear       0.62      0.64      0.63       110\n",
      "         joy       0.67      0.68      0.68        79\n",
      "     sadness       0.61      0.57      0.59        74\n",
      "\n",
      "    accuracy                           0.64       347\n",
      "   macro avg       0.64      0.64      0.64       347\n",
      "weighted avg       0.64      0.64      0.64       347\n",
      "\n"
     ]
    }
   ],
   "source": [
    "## accuracy\n",
    "from sklearn.metrics import accuracy_score\n",
    "\n",
    "acc_train = accuracy_score(y_true=y_train, y_pred=y_train_pred)\n",
    "acc_test = accuracy_score(y_true=y_test, y_pred=y_test_pred)\n",
    "\n",
    "print('training accuracy: {}'.format(round(acc_train, 2)))\n",
    "print('testing accuracy: {}'.format(round(acc_test, 2)))\n",
    "## precision, recall, f1-score,\n",
    "from sklearn.metrics import classification_report\n",
    "\n",
    "print(classification_report(y_true=y_test, y_pred=y_test_pred))\n",
    "from sklearn.metrics import confusion_matrix\n",
    "\n",
    "cm = confusion_matrix(y_true=y_test, y_pred=y_test_pred) "
   ]
  },
  {
   "cell_type": "code",
   "execution_count": 10,
   "metadata": {},
   "outputs": [],
   "source": [
    "# Funciton for visualizing confusion_matrix\n",
    "import matplotlib.pyplot as plt\n",
    "import seaborn as sns\n",
    "import numpy as np\n",
    "import itertools\n",
    "\n",
    "def plot_confusion_matrix(cm, classes, title='Confusion matrix',\n",
    "                          cmap=sns.cubehelix_palette(as_cmap=True)):\n",
    "    \"\"\"\n",
    "    This function is modified from: \n",
    "    http://scikit-learn.org/stable/auto_examples/model_selection/plot_confusion_matrix.html\n",
    "    \"\"\"\n",
    "    classes.sort()\n",
    "    tick_marks = np.arange(len(classes))    \n",
    "    \n",
    "    fig, ax = plt.subplots(figsize=(5,5))\n",
    "    im = ax.imshow(cm, interpolation='nearest', cmap=cmap)\n",
    "    ax.figure.colorbar(im, ax=ax)\n",
    "    ax.set(xticks=np.arange(cm.shape[1]),\n",
    "           yticks=np.arange(cm.shape[0]),\n",
    "           xticklabels = classes,\n",
    "           yticklabels = classes,\n",
    "           title = title,\n",
    "           xlabel = 'True label',\n",
    "           ylabel = 'Predicted label')\n",
    "\n",
    "    fmt = 'd'\n",
    "    thresh = cm.max() / 2.\n",
    "    for i, j in itertools.product(range(cm.shape[0]), range(cm.shape[1])):\n",
    "        plt.text(j, i, format(cm[i, j], fmt), horizontalalignment=\"center\", color=\"white\" if cm[i, j] > thresh else \"black\")\n",
    "    ylim_top = len(classes) - 0.5\n",
    "    plt.ylim([ylim_top, -.5])\n",
    "    plt.tight_layout()\n",
    "    plt.show()"
   ]
  },
  {
   "cell_type": "code",
   "execution_count": 11,
   "metadata": {},
   "outputs": [
    {
     "data": {
      "image/png": "[encoded data removed]",
      "text/plain": [
       "<Figure size 360x360 with 2 Axes>"
      ]
     },
     "metadata": {},
     "output_type": "display_data"
    }
   ],
   "source": [
    "# plot your confusion matrix\n",
    "my_tags = ['anger', 'fear', 'joy', 'sadness']\n",
    "plot_confusion_matrix(cm, classes=my_tags, title='Confusion matrix')"
   ]
  },
  {
   "cell_type": "markdown",
   "metadata": {},
   "source": [
    "explaination:\n",
    "\n",
    "the confution matrix shows the prediction result compares with ground truth\n",
    "\n",
    "from the plot,for example,we can observe that the misjudgement rate of ['sadness' label  to 'fear'] is higher than others\n",
    "\n",
    "So,we can assume that 'sadness' and 'fear' two categories maybe has some covariance\n",
    "\n",
    "that will give us some direction to enhance our pre-processing method to further improve model's performence\n",
    "\n"
   ]
  },
  {
   "cell_type": "markdown",
   "metadata": {},
   "source": [
    "### ** > Exercise 4 (Take home): **  "
   ]
  },
  {
   "cell_type": "code",
   "execution_count": 12,
   "metadata": {},
   "outputs": [
    {
     "name": "stdout",
     "output_type": "stream",
     "text": [
      "              precision    recall  f1-score   support\n",
      "\n",
      "       anger       0.71      0.65      0.68        84\n",
      "        fear       0.74      0.83      0.78       110\n",
      "         joy       0.76      0.71      0.73        79\n",
      "     sadness       0.65      0.64      0.64        74\n",
      "\n",
      "    accuracy                           0.72       347\n",
      "   macro avg       0.71      0.71      0.71       347\n",
      "weighted avg       0.72      0.72      0.72       347\n",
      "\n"
     ]
    },
    {
     "data": {
      "image/png": "[encoded data removed]",
      "text/plain": [
       "<Figure size 360x360 with 2 Axes>"
      ]
     },
     "metadata": {},
     "output_type": "display_data"
    }
   ],
   "source": [
    "from sklearn.naive_bayes import MultinomialNB\n",
    "nb = MultinomialNB()\n",
    "nb.fit(X_train,y_train)\n",
    "nb_y_test_pred = nb.predict(X_test)\n",
    "print(classification_report(y_true=y_test, y_pred=nb_y_test_pred))\n",
    "nb_cm = confusion_matrix(y_true=y_test, y_pred=nb_y_test_pred) \n",
    "plot_confusion_matrix(nb_cm, classes=my_tags, title='Naive NB Confusion matrix')"
   ]
  },
  {
   "cell_type": "markdown",
   "metadata": {},
   "source": [
    "---\n",
    "### ** > Exercise 5 (Take home): **  \n",
    "\n",
    "How do the results from the Naive Bayes model and the Decision Tree model compare? How do you interpret these differences? Use the theoretical background covered in class to try and explain these differences."
   ]
  },
  {
   "cell_type": "markdown",
   "metadata": {},
   "source": [
    "explanation:\n",
    "\n",
    "we can observe that the accuracy of NB is better than DecisionTree. \n",
    "\n",
    "I thought that because of scale of the dataset.\n",
    "\n",
    "NB assume that each features is independent,so it can directly map the feature to the label ,but it won't consider the covariance between the features.\n",
    "\n",
    "DecisionTree is based on conditional probability,but it tends to over-fit the small data set"
   ]
  },
  {
   "cell_type": "markdown",
   "metadata": {},
   "source": [
    "### ** > Exercise 6(Take home): **  \n",
    "Plot the Training and Validation Accuracy and Loss (different plots), just like the images below (Note: the pictures below are an example from a different model). How to interpret the graphs you got? How are they related to the concept of overfitting/underfitting covered in class?\n",
    "<table><tr>\n",
    "    <td><img src=\"pics/pic3.png\" style=\"width: 300px;\"/> </td>\n",
    "    <td><img src=\"pics/pic4.png\" style=\"width: 300px;\"/> </td>\n",
    "</tr></table>"
   ]
  },
  {
   "cell_type": "code",
   "execution_count": 13,
   "metadata": {},
   "outputs": [
    {
     "name": "stderr",
     "output_type": "stream",
     "text": [
      "E:\\Anaconda3\\lib\\site-packages\\h5py\\__init__.py:36: FutureWarning: Conversion of the second argument of issubdtype from `float` to `np.floating` is deprecated. In future, it will be treated as `np.float64 == np.dtype(float).type`.\n",
      "  from ._conv import register_converters as _register_converters\n",
      "Using TensorFlow backend.\n"
     ]
    },
    {
     "name": "stdout",
     "output_type": "stream",
     "text": [
      "X_train.shape:  (3613, 500)\n",
      "y_train.shape:  (3613,)\n",
      "X_test.shape:  (347, 500)\n",
      "y_test.shape:  (347,)\n"
     ]
    }
   ],
   "source": [
    "import keras\n",
    "\n",
    "# standardize name (X, y) \n",
    "X_train = BOW_500.transform(train_df['text'])\n",
    "y_train = train_df['emotion']\n",
    "\n",
    "X_test = BOW_500.transform(test_df['text'])\n",
    "y_test = test_df['emotion']\n",
    "\n",
    "## check dimension is a good habbit \n",
    "print('X_train.shape: ', X_train.shape)\n",
    "print('y_train.shape: ', y_train.shape)\n",
    "print('X_test.shape: ', X_test.shape)\n",
    "print('y_test.shape: ', y_test.shape)"
   ]
  },
  {
   "cell_type": "code",
   "execution_count": 14,
   "metadata": {},
   "outputs": [
    {
     "name": "stdout",
     "output_type": "stream",
     "text": [
      "check label:  ['anger' 'fear' 'joy' 'sadness']\n",
      "\n",
      "## Before convert\n",
      "y_train[0:4]:\n",
      " 62        anger\n",
      "2982    sadness\n",
      "3121    sadness\n",
      "3281    sadness\n",
      "Name: emotion, dtype: object\n",
      "\n",
      "y_train.shape:  (3613,)\n",
      "y_test.shape:  (347,)\n",
      "\n",
      "\n",
      "## After convert\n",
      "y_train[0:4]:\n",
      " [[1. 0. 0. 0.]\n",
      " [0. 0. 0. 1.]\n",
      " [0. 0. 0. 1.]\n",
      " [0. 0. 0. 1.]]\n",
      "\n",
      "y_train.shape:  (3613, 4)\n",
      "y_test.shape:  (347, 4)\n",
      "input_shape:  500\n",
      "output_shape:  4\n"
     ]
    }
   ],
   "source": [
    "## deal with label (string -> one-hot)\n",
    "\n",
    "from sklearn.preprocessing import LabelEncoder\n",
    "\n",
    "label_encoder = LabelEncoder()\n",
    "label_encoder.fit(y_train)\n",
    "print('check label: ', label_encoder.classes_)\n",
    "print('\\n## Before convert')\n",
    "print('y_train[0:4]:\\n', y_train[0:4])\n",
    "print('\\ny_train.shape: ', y_train.shape)\n",
    "print('y_test.shape: ', y_test.shape)\n",
    "\n",
    "def label_encode(le, labels):\n",
    "    enc = le.transform(labels)\n",
    "    return keras.utils.to_categorical(enc)\n",
    "\n",
    "def label_decode(le, one_hot_label):\n",
    "    dec = np.argmax(one_hot_label, axis=1)\n",
    "    return le.inverse_transform(dec)\n",
    "\n",
    "y_train = label_encode(label_encoder, y_train)\n",
    "y_test = label_encode(label_encoder, y_test)\n",
    "\n",
    "print('\\n\\n## After convert')\n",
    "print('y_train[0:4]:\\n', y_train[0:4])\n",
    "print('\\ny_train.shape: ', y_train.shape)\n",
    "print('y_test.shape: ', y_test.shape)\n",
    "\n",
    "# I/O check\n",
    "input_shape = X_train.shape[1]\n",
    "print('input_shape: ', input_shape)\n",
    "\n",
    "output_shape = len(label_encoder.classes_)\n",
    "print('output_shape: ', output_shape)"
   ]
  },
  {
   "cell_type": "code",
   "execution_count": 15,
   "metadata": {},
   "outputs": [
    {
     "name": "stdout",
     "output_type": "stream",
     "text": [
      "_________________________________________________________________\n",
      "Layer (type)                 Output Shape              Param #   \n",
      "=================================================================\n",
      "input_1 (InputLayer)         (None, 500)               0         \n",
      "_________________________________________________________________\n",
      "dense_1 (Dense)              (None, 64)                32064     \n",
      "_________________________________________________________________\n",
      "re_lu_1 (ReLU)               (None, 64)                0         \n",
      "_________________________________________________________________\n",
      "dense_2 (Dense)              (None, 64)                4160      \n",
      "_________________________________________________________________\n",
      "re_lu_2 (ReLU)               (None, 64)                0         \n",
      "_________________________________________________________________\n",
      "dense_3 (Dense)              (None, 4)                 260       \n",
      "_________________________________________________________________\n",
      "softmax_1 (Softmax)          (None, 4)                 0         \n",
      "=================================================================\n",
      "Total params: 36,484\n",
      "Trainable params: 36,484\n",
      "Non-trainable params: 0\n",
      "_________________________________________________________________\n"
     ]
    }
   ],
   "source": [
    "from keras.models import Model\n",
    "from keras.layers import Input, Dense\n",
    "from keras.layers import ReLU, Softmax\n",
    "\n",
    "# input layer\n",
    "model_input = Input(shape=(input_shape, ))  # 500\n",
    "X = model_input\n",
    "\n",
    "# 1st hidden layer\n",
    "X_W1 = Dense(units=64)(X)  # 64\n",
    "H1 = ReLU()(X_W1)\n",
    "\n",
    "# 2nd hidden layer\n",
    "H1_W2 = Dense(units=64)(H1)  # 64\n",
    "H2 = ReLU()(H1_W2)\n",
    "\n",
    "# output layer\n",
    "H2_W3 = Dense(units=output_shape)(H2)  # 4\n",
    "H3 = Softmax()(H2_W3)\n",
    "\n",
    "model_output = H3\n",
    "\n",
    "# create model\n",
    "model = Model(inputs=[model_input], outputs=[model_output])\n",
    "\n",
    "# loss function & optimizer\n",
    "model.compile(optimizer='adam',\n",
    "              loss='categorical_crossentropy',\n",
    "              metrics=['accuracy'])\n",
    "\n",
    "# show model construction\n",
    "model.summary()"
   ]
  },
  {
   "cell_type": "code",
   "execution_count": 16,
   "metadata": {},
   "outputs": [
    {
     "name": "stdout",
     "output_type": "stream",
     "text": [
      "Train on 3613 samples, validate on 347 samples\n",
      "Epoch 1/25\n",
      "3613/3613 [==============================] - 16s 4ms/step - loss: 1.3367 - acc: 0.3548 - val_loss: 1.2792 - val_acc: 0.3948\n",
      "Epoch 2/25\n",
      "3613/3613 [==============================] - 1s 261us/step - loss: 0.9974 - acc: 0.6438 - val_loss: 0.9039 - val_acc: 0.6513\n",
      "Epoch 3/25\n",
      "3613/3613 [==============================] - 1s 220us/step - loss: 0.5690 - acc: 0.7993 - val_loss: 0.7711 - val_acc: 0.6859\n",
      "Epoch 4/25\n",
      "3613/3613 [==============================] - 1s 218us/step - loss: 0.4093 - acc: 0.8492 - val_loss: 0.7669 - val_acc: 0.6859\n",
      "Epoch 5/25\n",
      "3613/3613 [==============================] - 1s 204us/step - loss: 0.3227 - acc: 0.8774 - val_loss: 0.8076 - val_acc: 0.6945\n",
      "Epoch 6/25\n",
      "3613/3613 [==============================] - 1s 216us/step - loss: 0.2680 - acc: 0.9056 - val_loss: 0.8674 - val_acc: 0.6830\n",
      "Epoch 7/25\n",
      "3613/3613 [==============================] - 1s 219us/step - loss: 0.2245 - acc: 0.9217 - val_loss: 0.9134 - val_acc: 0.6945\n",
      "Epoch 8/25\n",
      "3613/3613 [==============================] - 1s 214us/step - loss: 0.1838 - acc: 0.9413 - val_loss: 0.9707 - val_acc: 0.6916\n",
      "Epoch 9/25\n",
      "3613/3613 [==============================] - 1s 224us/step - loss: 0.1556 - acc: 0.9505 - val_loss: 1.0736 - val_acc: 0.6628\n",
      "Epoch 10/25\n",
      "3613/3613 [==============================] - 1s 222us/step - loss: 0.1357 - acc: 0.9574 - val_loss: 1.0826 - val_acc: 0.7003\n",
      "Epoch 11/25\n",
      "3613/3613 [==============================] - 1s 207us/step - loss: 0.1225 - acc: 0.9632 - val_loss: 1.1513 - val_acc: 0.6888\n",
      "Epoch 12/25\n",
      "3613/3613 [==============================] - 1s 221us/step - loss: 0.1078 - acc: 0.9671 - val_loss: 1.1692 - val_acc: 0.6945\n",
      "Epoch 13/25\n",
      "3613/3613 [==============================] - 1s 260us/step - loss: 0.0962 - acc: 0.9715 - val_loss: 1.3009 - val_acc: 0.6715\n",
      "Epoch 14/25\n",
      "3613/3613 [==============================] - 1s 327us/step - loss: 0.1027 - acc: 0.9698 - val_loss: 1.2801 - val_acc: 0.6715\n",
      "Epoch 15/25\n",
      "3613/3613 [==============================] - 1s 323us/step - loss: 0.0896 - acc: 0.9732 - val_loss: 1.3059 - val_acc: 0.6888\n",
      "Epoch 16/25\n",
      "3613/3613 [==============================] - 1s 257us/step - loss: 0.0861 - acc: 0.9743 - val_loss: 1.3579 - val_acc: 0.6772\n",
      "Epoch 17/25\n",
      "3613/3613 [==============================] - 1s 252us/step - loss: 0.0815 - acc: 0.9765 - val_loss: 1.3842 - val_acc: 0.6888\n",
      "Epoch 18/25\n",
      "3613/3613 [==============================] - 1s 278us/step - loss: 0.0747 - acc: 0.9754 - val_loss: 1.4412 - val_acc: 0.6772\n",
      "Epoch 19/25\n",
      "3613/3613 [==============================] - 1s 221us/step - loss: 0.0760 - acc: 0.9759 - val_loss: 1.4418 - val_acc: 0.6744\n",
      "Epoch 20/25\n",
      "3613/3613 [==============================] - 1s 263us/step - loss: 0.0665 - acc: 0.9776 - val_loss: 1.4728 - val_acc: 0.6772\n",
      "Epoch 21/25\n",
      "3613/3613 [==============================] - 1s 231us/step - loss: 0.0764 - acc: 0.9756 - val_loss: 1.4937 - val_acc: 0.6715\n",
      "Epoch 22/25\n",
      "3613/3613 [==============================] - 1s 222us/step - loss: 0.0679 - acc: 0.9787 - val_loss: 1.5450 - val_acc: 0.6830\n",
      "Epoch 23/25\n",
      "3613/3613 [==============================] - 1s 217us/step - loss: 0.0642 - acc: 0.9790 - val_loss: 1.5440 - val_acc: 0.6859\n",
      "Epoch 24/25\n",
      "3613/3613 [==============================] - 1s 209us/step - loss: 0.0632 - acc: 0.9768 - val_loss: 1.6012 - val_acc: 0.6571\n",
      "Epoch 25/25\n",
      "3613/3613 [==============================] - 1s 230us/step - loss: 0.0620 - acc: 0.9787 - val_loss: 1.6149 - val_acc: 0.6888\n",
      "training finish\n"
     ]
    }
   ],
   "source": [
    "from keras.callbacks import CSVLogger\n",
    "\n",
    "csv_logger = CSVLogger('exercise6_training_log.csv')\n",
    "\n",
    "# training setting\n",
    "epochs = 25\n",
    "batch_size = 32\n",
    "\n",
    "# training!\n",
    "history = model.fit(X_train, y_train, \n",
    "                    epochs=epochs, \n",
    "                    batch_size=batch_size, \n",
    "                    callbacks=[csv_logger],\n",
    "                    validation_data = (X_test, y_test))\n",
    "print('training finish')"
   ]
  },
  {
   "cell_type": "code",
   "execution_count": 17,
   "metadata": {},
   "outputs": [
    {
     "data": {
      "text/plain": [
       "array([[3.6850055e-05, 9.9495548e-01, 4.9977803e-05, 4.9576135e-03],\n",
       "       [9.6651924e-01, 6.3563511e-04, 6.9853638e-07, 3.2844443e-02],\n",
       "       [9.9909759e-01, 7.0519926e-04, 1.8692692e-04, 1.0306839e-05],\n",
       "       [1.0725959e-01, 1.3052790e-03, 7.1727425e-01, 1.7416090e-01],\n",
       "       [9.1137644e-03, 9.9068052e-01, 1.7436199e-04, 3.1411520e-05]],\n",
       "      dtype=float32)"
      ]
     },
     "execution_count": 17,
     "metadata": {},
     "output_type": "execute_result"
    }
   ],
   "source": [
    "## predict\n",
    "pred_result = model.predict(X_test, batch_size=128)\n",
    "pred_result[:5]"
   ]
  },
  {
   "cell_type": "code",
   "execution_count": 18,
   "metadata": {},
   "outputs": [
    {
     "data": {
      "text/plain": [
       "array(['fear', 'anger', 'anger', 'joy', 'fear'], dtype=object)"
      ]
     },
     "execution_count": 18,
     "metadata": {},
     "output_type": "execute_result"
    }
   ],
   "source": [
    "pred_result = label_decode(label_encoder, pred_result)\n",
    "pred_result[:5]"
   ]
  },
  {
   "cell_type": "code",
   "execution_count": 19,
   "metadata": {},
   "outputs": [
    {
     "name": "stdout",
     "output_type": "stream",
     "text": [
      "testing accuracy: 0.69\n"
     ]
    }
   ],
   "source": [
    "from sklearn.metrics import accuracy_score\n",
    "\n",
    "print('testing accuracy: {}'.format(round(accuracy_score(label_decode(label_encoder, y_test), pred_result), 2)))"
   ]
  },
  {
   "cell_type": "code",
   "execution_count": 20,
   "metadata": {},
   "outputs": [
    {
     "data": {
      "text/html": [
       "<div>\n",
       "<style scoped>\n",
       "    .dataframe tbody tr th:only-of-type {\n",
       "        vertical-align: middle;\n",
       "    }\n",
       "\n",
       "    .dataframe tbody tr th {\n",
       "        vertical-align: top;\n",
       "    }\n",
       "\n",
       "    .dataframe thead th {\n",
       "        text-align: right;\n",
       "    }\n",
       "</style>\n",
       "<table border=\"1\" class=\"dataframe\">\n",
       "  <thead>\n",
       "    <tr style=\"text-align: right;\">\n",
       "      <th></th>\n",
       "      <th>epoch</th>\n",
       "      <th>acc</th>\n",
       "      <th>loss</th>\n",
       "      <th>val_acc</th>\n",
       "      <th>val_loss</th>\n",
       "    </tr>\n",
       "  </thead>\n",
       "  <tbody>\n",
       "    <tr>\n",
       "      <th>0</th>\n",
       "      <td>0</td>\n",
       "      <td>0.349848</td>\n",
       "      <td>1.333412</td>\n",
       "      <td>0.438040</td>\n",
       "      <td>1.290668</td>\n",
       "    </tr>\n",
       "    <tr>\n",
       "      <th>1</th>\n",
       "      <td>1</td>\n",
       "      <td>0.616662</td>\n",
       "      <td>1.017402</td>\n",
       "      <td>0.631124</td>\n",
       "      <td>0.973613</td>\n",
       "    </tr>\n",
       "    <tr>\n",
       "      <th>2</th>\n",
       "      <td>2</td>\n",
       "      <td>0.792139</td>\n",
       "      <td>0.599234</td>\n",
       "      <td>0.697406</td>\n",
       "      <td>0.805977</td>\n",
       "    </tr>\n",
       "    <tr>\n",
       "      <th>3</th>\n",
       "      <td>3</td>\n",
       "      <td>0.856075</td>\n",
       "      <td>0.408494</td>\n",
       "      <td>0.706052</td>\n",
       "      <td>0.819154</td>\n",
       "    </tr>\n",
       "    <tr>\n",
       "      <th>4</th>\n",
       "      <td>4</td>\n",
       "      <td>0.889289</td>\n",
       "      <td>0.317536</td>\n",
       "      <td>0.680115</td>\n",
       "      <td>0.829515</td>\n",
       "    </tr>\n",
       "    <tr>\n",
       "      <th>5</th>\n",
       "      <td>5</td>\n",
       "      <td>0.915859</td>\n",
       "      <td>0.253498</td>\n",
       "      <td>0.677233</td>\n",
       "      <td>0.853639</td>\n",
       "    </tr>\n",
       "    <tr>\n",
       "      <th>6</th>\n",
       "      <td>6</td>\n",
       "      <td>0.934404</td>\n",
       "      <td>0.201381</td>\n",
       "      <td>0.654179</td>\n",
       "      <td>0.974444</td>\n",
       "    </tr>\n",
       "    <tr>\n",
       "      <th>7</th>\n",
       "      <td>7</td>\n",
       "      <td>0.947412</td>\n",
       "      <td>0.168846</td>\n",
       "      <td>0.700288</td>\n",
       "      <td>0.977787</td>\n",
       "    </tr>\n",
       "    <tr>\n",
       "      <th>8</th>\n",
       "      <td>8</td>\n",
       "      <td>0.950457</td>\n",
       "      <td>0.150403</td>\n",
       "      <td>0.671470</td>\n",
       "      <td>1.067882</td>\n",
       "    </tr>\n",
       "    <tr>\n",
       "      <th>9</th>\n",
       "      <td>9</td>\n",
       "      <td>0.963465</td>\n",
       "      <td>0.127094</td>\n",
       "      <td>0.680115</td>\n",
       "      <td>1.144580</td>\n",
       "    </tr>\n",
       "    <tr>\n",
       "      <th>10</th>\n",
       "      <td>10</td>\n",
       "      <td>0.965403</td>\n",
       "      <td>0.113676</td>\n",
       "      <td>0.682997</td>\n",
       "      <td>1.164006</td>\n",
       "    </tr>\n",
       "    <tr>\n",
       "      <th>11</th>\n",
       "      <td>11</td>\n",
       "      <td>0.968170</td>\n",
       "      <td>0.102876</td>\n",
       "      <td>0.691643</td>\n",
       "      <td>1.195914</td>\n",
       "    </tr>\n",
       "    <tr>\n",
       "      <th>12</th>\n",
       "      <td>12</td>\n",
       "      <td>0.970661</td>\n",
       "      <td>0.094129</td>\n",
       "      <td>0.682997</td>\n",
       "      <td>1.233783</td>\n",
       "    </tr>\n",
       "    <tr>\n",
       "      <th>13</th>\n",
       "      <td>13</td>\n",
       "      <td>0.973429</td>\n",
       "      <td>0.087123</td>\n",
       "      <td>0.685879</td>\n",
       "      <td>1.286405</td>\n",
       "    </tr>\n",
       "    <tr>\n",
       "      <th>14</th>\n",
       "      <td>14</td>\n",
       "      <td>0.973983</td>\n",
       "      <td>0.085508</td>\n",
       "      <td>0.682997</td>\n",
       "      <td>1.356129</td>\n",
       "    </tr>\n",
       "    <tr>\n",
       "      <th>15</th>\n",
       "      <td>15</td>\n",
       "      <td>0.974260</td>\n",
       "      <td>0.080079</td>\n",
       "      <td>0.674352</td>\n",
       "      <td>1.382489</td>\n",
       "    </tr>\n",
       "    <tr>\n",
       "      <th>16</th>\n",
       "      <td>16</td>\n",
       "      <td>0.974536</td>\n",
       "      <td>0.071741</td>\n",
       "      <td>0.674352</td>\n",
       "      <td>1.422162</td>\n",
       "    </tr>\n",
       "    <tr>\n",
       "      <th>17</th>\n",
       "      <td>17</td>\n",
       "      <td>0.975090</td>\n",
       "      <td>0.074365</td>\n",
       "      <td>0.688761</td>\n",
       "      <td>1.411371</td>\n",
       "    </tr>\n",
       "    <tr>\n",
       "      <th>18</th>\n",
       "      <td>18</td>\n",
       "      <td>0.975090</td>\n",
       "      <td>0.070342</td>\n",
       "      <td>0.691643</td>\n",
       "      <td>1.446481</td>\n",
       "    </tr>\n",
       "    <tr>\n",
       "      <th>19</th>\n",
       "      <td>19</td>\n",
       "      <td>0.976751</td>\n",
       "      <td>0.067587</td>\n",
       "      <td>0.697406</td>\n",
       "      <td>1.439259</td>\n",
       "    </tr>\n",
       "    <tr>\n",
       "      <th>20</th>\n",
       "      <td>20</td>\n",
       "      <td>0.977027</td>\n",
       "      <td>0.065435</td>\n",
       "      <td>0.694524</td>\n",
       "      <td>1.502346</td>\n",
       "    </tr>\n",
       "    <tr>\n",
       "      <th>21</th>\n",
       "      <td>21</td>\n",
       "      <td>0.975090</td>\n",
       "      <td>0.066163</td>\n",
       "      <td>0.682997</td>\n",
       "      <td>1.501104</td>\n",
       "    </tr>\n",
       "    <tr>\n",
       "      <th>22</th>\n",
       "      <td>22</td>\n",
       "      <td>0.978135</td>\n",
       "      <td>0.060533</td>\n",
       "      <td>0.685879</td>\n",
       "      <td>1.607980</td>\n",
       "    </tr>\n",
       "    <tr>\n",
       "      <th>23</th>\n",
       "      <td>23</td>\n",
       "      <td>0.978411</td>\n",
       "      <td>0.058377</td>\n",
       "      <td>0.682997</td>\n",
       "      <td>1.523049</td>\n",
       "    </tr>\n",
       "    <tr>\n",
       "      <th>24</th>\n",
       "      <td>24</td>\n",
       "      <td>0.978965</td>\n",
       "      <td>0.061446</td>\n",
       "      <td>0.694524</td>\n",
       "      <td>1.564245</td>\n",
       "    </tr>\n",
       "  </tbody>\n",
       "</table>\n",
       "</div>"
      ],
      "text/plain": [
       "    epoch       acc      loss   val_acc  val_loss\n",
       "0       0  0.349848  1.333412  0.438040  1.290668\n",
       "1       1  0.616662  1.017402  0.631124  0.973613\n",
       "2       2  0.792139  0.599234  0.697406  0.805977\n",
       "3       3  0.856075  0.408494  0.706052  0.819154\n",
       "4       4  0.889289  0.317536  0.680115  0.829515\n",
       "5       5  0.915859  0.253498  0.677233  0.853639\n",
       "6       6  0.934404  0.201381  0.654179  0.974444\n",
       "7       7  0.947412  0.168846  0.700288  0.977787\n",
       "8       8  0.950457  0.150403  0.671470  1.067882\n",
       "9       9  0.963465  0.127094  0.680115  1.144580\n",
       "10     10  0.965403  0.113676  0.682997  1.164006\n",
       "11     11  0.968170  0.102876  0.691643  1.195914\n",
       "12     12  0.970661  0.094129  0.682997  1.233783\n",
       "13     13  0.973429  0.087123  0.685879  1.286405\n",
       "14     14  0.973983  0.085508  0.682997  1.356129\n",
       "15     15  0.974260  0.080079  0.674352  1.382489\n",
       "16     16  0.974536  0.071741  0.674352  1.422162\n",
       "17     17  0.975090  0.074365  0.688761  1.411371\n",
       "18     18  0.975090  0.070342  0.691643  1.446481\n",
       "19     19  0.976751  0.067587  0.697406  1.439259\n",
       "20     20  0.977027  0.065435  0.694524  1.502346\n",
       "21     21  0.975090  0.066163  0.682997  1.501104\n",
       "22     22  0.978135  0.060533  0.685879  1.607980\n",
       "23     23  0.978411  0.058377  0.682997  1.523049\n",
       "24     24  0.978965  0.061446  0.694524  1.564245"
      ]
     },
     "execution_count": 20,
     "metadata": {},
     "output_type": "execute_result"
    }
   ],
   "source": [
    "#Let's take a look at the training log\n",
    "training_log = pd.DataFrame()\n",
    "training_log = pd.read_csv(\"logs/training_log.csv\")\n",
    "training_log"
   ]
  },
  {
   "cell_type": "code",
   "execution_count": 21,
   "metadata": {},
   "outputs": [
    {
     "data": {
      "image/png": "[encoded data removed]",
      "text/plain": [
       "<Figure size 432x288 with 1 Axes>"
      ]
     },
     "metadata": {},
     "output_type": "display_data"
    },
    {
     "data": {
      "image/png": "[encoded data removed]",
      "text/plain": [
       "<Figure size 432x288 with 1 Axes>"
      ]
     },
     "metadata": {},
     "output_type": "display_data"
    }
   ],
   "source": [
    "def show_train_history(train_history, train, validation):\n",
    "    fig = plt.figure()\n",
    "    plt.plot(train_history.history[train])\n",
    "    plt.plot(train_history.history[validation])\n",
    "    plt.title('Train History')\n",
    "    plt.ylabel(train)\n",
    "    plt.xlabel('Epoch')\n",
    "    plt.legend(['train', 'validation'], loc='best')\n",
    "    \n",
    "\n",
    "\n",
    "show_train_history(history, 'acc', 'val_acc',)\n",
    "show_train_history(history, 'loss', 'val_loss')"
   ]
  },
  {
   "cell_type": "markdown",
   "metadata": {},
   "source": [
    "explanation:\n",
    "\n",
    "from the grapth I found that the training loss keeps decreasing that means there is no under-fitting problem at training.\n",
    "\n",
    "but since 3rd epoch,the validation loss keeps increasing that means the model is over-fitting to the training dataset,that is the reason that model got bad performence in validation dataset.\n",
    "\n",
    "If I have to choose a model to implement on my task I will choose the 3rd epoch."
   ]
  },
  {
   "cell_type": "markdown",
   "metadata": {},
   "source": [
    "---\n",
    "### ** > Exercise 7 (Take home): **  \n",
    "\n",
    "Now, we have the word vectors, but our input data is a sequence of words (or say sentence). \n",
    "How can we utilize these \"word\" vectors to represent the sentence data and train our model?\n"
   ]
  },
  {
   "cell_type": "code",
   "execution_count": 22,
   "metadata": {},
   "outputs": [
    {
     "data": {
      "text/html": [
       "<div>\n",
       "<style scoped>\n",
       "    .dataframe tbody tr th:only-of-type {\n",
       "        vertical-align: middle;\n",
       "    }\n",
       "\n",
       "    .dataframe tbody tr th {\n",
       "        vertical-align: top;\n",
       "    }\n",
       "\n",
       "    .dataframe thead th {\n",
       "        text-align: right;\n",
       "    }\n",
       "</style>\n",
       "<table border=\"1\" class=\"dataframe\">\n",
       "  <thead>\n",
       "    <tr style=\"text-align: right;\">\n",
       "      <th></th>\n",
       "      <th>id</th>\n",
       "      <th>text</th>\n",
       "      <th>text_tokenized</th>\n",
       "    </tr>\n",
       "  </thead>\n",
       "  <tbody>\n",
       "    <tr>\n",
       "      <th>62</th>\n",
       "      <td>10062</td>\n",
       "      <td>So angry I wanna cry😢😢😢</td>\n",
       "      <td>[So, angry, I, wan, na, cry😢😢😢]</td>\n",
       "    </tr>\n",
       "    <tr>\n",
       "      <th>2982</th>\n",
       "      <td>40155</td>\n",
       "      <td>I was in the dark room for 58 minutes and fail...</td>\n",
       "      <td>[I, was, in, the, dark, room, for, 58, minutes...</td>\n",
       "    </tr>\n",
       "    <tr>\n",
       "      <th>3121</th>\n",
       "      <td>40294</td>\n",
       "      <td>The new lock sound is grim</td>\n",
       "      <td>[The, new, lock, sound, is, grim]</td>\n",
       "    </tr>\n",
       "    <tr>\n",
       "      <th>3281</th>\n",
       "      <td>40454</td>\n",
       "      <td>So I tried to give her time to sober up, while...</td>\n",
       "      <td>[So, I, tried, to, give, her, time, to, sober,...</td>\n",
       "    </tr>\n",
       "    <tr>\n",
       "      <th>3330</th>\n",
       "      <td>40503</td>\n",
       "      <td>Candice's pout gets more preposterous by the w...</td>\n",
       "      <td>[Candice, 's, pout, gets, more, preposterous, ...</td>\n",
       "    </tr>\n",
       "  </tbody>\n",
       "</table>\n",
       "</div>"
      ],
      "text/plain": [
       "         id                                               text  \\\n",
       "62    10062                            So angry I wanna cry😢😢😢   \n",
       "2982  40155  I was in the dark room for 58 minutes and fail...   \n",
       "3121  40294                         The new lock sound is grim   \n",
       "3281  40454  So I tried to give her time to sober up, while...   \n",
       "3330  40503  Candice's pout gets more preposterous by the w...   \n",
       "\n",
       "                                         text_tokenized  \n",
       "62                      [So, angry, I, wan, na, cry😢😢😢]  \n",
       "2982  [I, was, in, the, dark, room, for, 58, minutes...  \n",
       "3121                  [The, new, lock, sound, is, grim]  \n",
       "3281  [So, I, tried, to, give, her, time, to, sober,...  \n",
       "3330  [Candice, 's, pout, gets, more, preposterous, ...  "
      ]
     },
     "execution_count": 22,
     "metadata": {},
     "output_type": "execute_result"
    }
   ],
   "source": [
    "## check library\n",
    "import gensim\n",
    "\n",
    "## ignore warnings\n",
    "import warnings\n",
    "warnings.filterwarnings('ignore')\n",
    "\n",
    "# # if you want to see the training messages, you can use it\n",
    "# import logging\n",
    "# logging.basicConfig(format='%(asctime)s : %(levelname)s : %(message)s', level=logging.INFO)\n",
    "\n",
    "## the input type\n",
    "train_df['text_tokenized'] = train_df['text'].apply(lambda x: nltk.word_tokenize(x))\n",
    "train_df[['id', 'text', 'text_tokenized']].head()"
   ]
  },
  {
   "cell_type": "code",
   "execution_count": 23,
   "metadata": {},
   "outputs": [
    {
     "data": {
      "text/plain": [
       "array([list(['So', 'angry', 'I', 'wan', 'na', 'cry😢😢😢']),\n",
       "       list(['I', 'was', 'in', 'the', 'dark', 'room', 'for', '58', 'minutes', 'and', 'failed', 'every', 'time', 'I', 'tried', 'developing', 'a', 'photo', 'I', \"'m\", 'so', 'frustrated', 'with', 'myself', ':', \"'\", ')']),\n",
       "       list(['The', 'new', 'lock', 'sound', 'is', 'grim'])], dtype=object)"
      ]
     },
     "execution_count": 23,
     "metadata": {},
     "output_type": "execute_result"
    }
   ],
   "source": [
    "## create the training corpus\n",
    "training_corpus = train_df['text_tokenized'].values\n",
    "training_corpus[:3]"
   ]
  },
  {
   "cell_type": "code",
   "execution_count": 24,
   "metadata": {},
   "outputs": [
    {
     "data": {
      "text/html": [
       "<div>\n",
       "<style scoped>\n",
       "    .dataframe tbody tr th:only-of-type {\n",
       "        vertical-align: middle;\n",
       "    }\n",
       "\n",
       "    .dataframe tbody tr th {\n",
       "        vertical-align: top;\n",
       "    }\n",
       "\n",
       "    .dataframe thead th {\n",
       "        text-align: right;\n",
       "    }\n",
       "</style>\n",
       "<table border=\"1\" class=\"dataframe\">\n",
       "  <thead>\n",
       "    <tr style=\"text-align: right;\">\n",
       "      <th></th>\n",
       "      <th>id</th>\n",
       "      <th>text</th>\n",
       "      <th>text_tokenized</th>\n",
       "    </tr>\n",
       "  </thead>\n",
       "  <tbody>\n",
       "    <tr>\n",
       "      <th>62</th>\n",
       "      <td>10062</td>\n",
       "      <td>So angry I wanna cry😢😢😢</td>\n",
       "      <td>[So, angry, I, wan, na, cry😢😢😢]</td>\n",
       "    </tr>\n",
       "    <tr>\n",
       "      <th>2982</th>\n",
       "      <td>40155</td>\n",
       "      <td>I was in the dark room for 58 minutes and fail...</td>\n",
       "      <td>[I, was, in, the, dark, room, for, 58, minutes...</td>\n",
       "    </tr>\n",
       "    <tr>\n",
       "      <th>3121</th>\n",
       "      <td>40294</td>\n",
       "      <td>The new lock sound is grim</td>\n",
       "      <td>[The, new, lock, sound, is, grim]</td>\n",
       "    </tr>\n",
       "    <tr>\n",
       "      <th>3281</th>\n",
       "      <td>40454</td>\n",
       "      <td>So I tried to give her time to sober up, while...</td>\n",
       "      <td>[So, I, tried, to, give, her, time, to, sober,...</td>\n",
       "    </tr>\n",
       "    <tr>\n",
       "      <th>3330</th>\n",
       "      <td>40503</td>\n",
       "      <td>Candice's pout gets more preposterous by the w...</td>\n",
       "      <td>[Candice, 's, pout, gets, more, preposterous, ...</td>\n",
       "    </tr>\n",
       "  </tbody>\n",
       "</table>\n",
       "</div>"
      ],
      "text/plain": [
       "         id                                               text  \\\n",
       "62    10062                            So angry I wanna cry😢😢😢   \n",
       "2982  40155  I was in the dark room for 58 minutes and fail...   \n",
       "3121  40294                         The new lock sound is grim   \n",
       "3281  40454  So I tried to give her time to sober up, while...   \n",
       "3330  40503  Candice's pout gets more preposterous by the w...   \n",
       "\n",
       "                                         text_tokenized  \n",
       "62                      [So, angry, I, wan, na, cry😢😢😢]  \n",
       "2982  [I, was, in, the, dark, room, for, 58, minutes...  \n",
       "3121                  [The, new, lock, sound, is, grim]  \n",
       "3281  [So, I, tried, to, give, her, time, to, sober,...  \n",
       "3330  [Candice, 's, pout, gets, more, preposterous, ...  "
      ]
     },
     "execution_count": 24,
     "metadata": {},
     "output_type": "execute_result"
    }
   ],
   "source": [
    "## the input type\n",
    "train_df['text_tokenized'] = train_df['text'].apply(lambda x: nltk.word_tokenize(x))\n",
    "train_df[['id', 'text', 'text_tokenized']].head()"
   ]
  },
  {
   "cell_type": "code",
   "execution_count": 25,
   "metadata": {},
   "outputs": [],
   "source": [
    "from gensim.models import Word2Vec\n",
    "\n",
    "## setting\n",
    "vector_dim = 100\n",
    "window_size = 5\n",
    "min_count = 1\n",
    "training_iter = 20\n",
    "\n",
    "## model\n",
    "word2vec_model = Word2Vec(sentences=training_corpus, \n",
    "                          size=vector_dim, window=window_size, \n",
    "                          min_count=min_count, iter=training_iter)"
   ]
  },
  {
   "cell_type": "code",
   "execution_count": 26,
   "metadata": {},
   "outputs": [
    {
     "data": {
      "text/plain": [
       "array([ 3.13710421e-01, -5.79342902e-01, -4.45840299e-01,  1.09504724e+00,\n",
       "        1.28186475e-02, -4.96625066e-01, -3.45668852e-01, -4.86282080e-01,\n",
       "       -4.65150684e-01,  4.83451396e-01, -5.56095183e-01, -5.49184620e-01,\n",
       "       -7.87780344e-01,  7.66101003e-01, -1.86473727e-02,  1.11470068e+00,\n",
       "        3.91694665e-01,  1.81558415e-01, -7.67633379e-01,  3.99274707e-01,\n",
       "        1.83728039e-01, -5.05923986e-01, -5.44963181e-01,  2.75461674e-01,\n",
       "        3.53839517e-01, -1.22322291e-01,  3.48305225e-01, -1.27266550e+00,\n",
       "       -2.76651848e-02,  6.03321731e-01,  2.69069970e-01,  2.20619678e-01,\n",
       "        4.06186163e-01,  4.94185299e-01, -7.23489165e-01,  6.08544707e-01,\n",
       "        3.10932156e-02,  4.39866260e-02,  3.62550318e-02,  2.21740171e-01,\n",
       "        3.62822860e-01, -2.76579019e-02,  2.62169898e-01, -6.20963871e-01,\n",
       "        3.03301275e-01,  2.65546422e-02,  8.63407031e-02,  1.82139426e-02,\n",
       "        5.76543212e-01, -2.68538177e-01, -3.44085336e-01, -2.78661512e-02,\n",
       "       -3.73190910e-01, -3.56905580e-01, -5.80659270e-01, -6.24217749e-01,\n",
       "        9.09317881e-02, -1.72439027e+00, -7.68638611e-01,  9.60280001e-01,\n",
       "       -3.62188704e-02, -1.18913159e-01, -4.13835049e-01,  3.88243914e-01,\n",
       "        6.10794246e-01,  2.13312373e-01, -3.31792653e-01,  9.06793773e-02,\n",
       "       -3.29360187e-01, -3.43712628e-01, -6.21320128e-01, -4.57230330e-01,\n",
       "        3.17714870e-01, -1.26778054e+00,  1.15251772e-01, -8.64170671e-01,\n",
       "       -4.18565929e-01,  3.07528585e-01,  1.72078952e-01, -3.95290144e-02,\n",
       "       -1.54203117e-01,  5.52416816e-02,  9.30076540e-02, -1.16297275e-01,\n",
       "       -6.74539804e-02,  1.10513461e+00, -3.96989852e-01, -1.87856138e-01,\n",
       "       -4.73944455e-01, -2.63653427e-01,  3.36387336e-01,  4.35942292e-01,\n",
       "        1.52160257e-01, -9.10938978e-01, -1.45339500e-03, -9.33452249e-01,\n",
       "       -5.77383161e-01,  4.31304663e-01, -8.54595974e-02,  4.95476663e-01],\n",
       "      dtype=float32)"
      ]
     },
     "execution_count": 26,
     "metadata": {},
     "output_type": "execute_result"
    }
   ],
   "source": [
    "# get the corresponding vector of a word\n",
    "word_vec = word2vec_model.wv['happy']\n",
    "word_vec"
   ]
  },
  {
   "cell_type": "code",
   "execution_count": 27,
   "metadata": {},
   "outputs": [
    {
     "data": {
      "text/plain": [
       "[('candy', 0.9934147596359253),\n",
       " ('3x', 0.9925948977470398),\n",
       " ('Brad', 0.992171049118042),\n",
       " ('overtime', 0.9907786846160889),\n",
       " ('1.', 0.990588903427124),\n",
       " ('complete', 0.9903865456581116),\n",
       " ('hanging', 0.9901512861251831),\n",
       " ('investigated', 0.9901058077812195),\n",
       " ('afternoon', 0.9900699257850647),\n",
       " ('stories', 0.9897726774215698)]"
      ]
     },
     "execution_count": 27,
     "metadata": {},
     "output_type": "execute_result"
    }
   ],
   "source": [
    "# Get the most similar words\n",
    "word = 'Yo'\n",
    "topn = 10\n",
    "word2vec_model.most_similar(word, topn=topn)"
   ]
  },
  {
   "cell_type": "markdown",
   "metadata": {},
   "source": [
    "---\n",
    "utilize word vector:\n",
    "\n",
    "use the trained word2vec model 'word2vec_model',and apply it on each sentence to generate the word vector\n",
    "\n",
    "in order to train our model"
   ]
  },
  {
   "cell_type": "code",
   "execution_count": 28,
   "metadata": {},
   "outputs": [
    {
     "data": {
      "text/html": [
       "<div>\n",
       "<style scoped>\n",
       "    .dataframe tbody tr th:only-of-type {\n",
       "        vertical-align: middle;\n",
       "    }\n",
       "\n",
       "    .dataframe tbody tr th {\n",
       "        vertical-align: top;\n",
       "    }\n",
       "\n",
       "    .dataframe thead th {\n",
       "        text-align: right;\n",
       "    }\n",
       "</style>\n",
       "<table border=\"1\" class=\"dataframe\">\n",
       "  <thead>\n",
       "    <tr style=\"text-align: right;\">\n",
       "      <th></th>\n",
       "      <th>text_tokenized</th>\n",
       "      <th>text_data_vec</th>\n",
       "    </tr>\n",
       "  </thead>\n",
       "  <tbody>\n",
       "    <tr>\n",
       "      <th>62</th>\n",
       "      <td>[So, angry, I, wan, na, cry😢😢😢]</td>\n",
       "      <td>[[0.22607876, -0.39028662, -0.237006, 0.602128...</td>\n",
       "    </tr>\n",
       "    <tr>\n",
       "      <th>2982</th>\n",
       "      <td>[I, was, in, the, dark, room, for, 58, minutes...</td>\n",
       "      <td>[[0.15847088, -0.3839421, -0.63711953, 1.27564...</td>\n",
       "    </tr>\n",
       "    <tr>\n",
       "      <th>3121</th>\n",
       "      <td>[The, new, lock, sound, is, grim]</td>\n",
       "      <td>[[0.19676913, -0.14002934, -0.4970077, 0.89667...</td>\n",
       "    </tr>\n",
       "    <tr>\n",
       "      <th>3281</th>\n",
       "      <td>[So, I, tried, to, give, her, time, to, sober,...</td>\n",
       "      <td>[[0.22607876, -0.39028662, -0.237006, 0.602128...</td>\n",
       "    </tr>\n",
       "    <tr>\n",
       "      <th>3330</th>\n",
       "      <td>[Candice, 's, pout, gets, more, preposterous, ...</td>\n",
       "      <td>[[0.017361844, -0.15883952, -0.13095145, 0.317...</td>\n",
       "    </tr>\n",
       "  </tbody>\n",
       "</table>\n",
       "</div>"
      ],
      "text/plain": [
       "                                         text_tokenized  \\\n",
       "62                      [So, angry, I, wan, na, cry😢😢😢]   \n",
       "2982  [I, was, in, the, dark, room, for, 58, minutes...   \n",
       "3121                  [The, new, lock, sound, is, grim]   \n",
       "3281  [So, I, tried, to, give, her, time, to, sober,...   \n",
       "3330  [Candice, 's, pout, gets, more, preposterous, ...   \n",
       "\n",
       "                                          text_data_vec  \n",
       "62    [[0.22607876, -0.39028662, -0.237006, 0.602128...  \n",
       "2982  [[0.15847088, -0.3839421, -0.63711953, 1.27564...  \n",
       "3121  [[0.19676913, -0.14002934, -0.4970077, 0.89667...  \n",
       "3281  [[0.22607876, -0.39028662, -0.237006, 0.602128...  \n",
       "3330  [[0.017361844, -0.15883952, -0.13095145, 0.317...  "
      ]
     },
     "execution_count": 28,
     "metadata": {},
     "output_type": "execute_result"
    }
   ],
   "source": [
    "train_df['text_data_vec'] = train_df['text_tokenized'].apply(lambda x :word2vec_model.wv[x])\n",
    "train_df[['text_tokenized','text_data_vec']].head()"
   ]
  },
  {
   "cell_type": "markdown",
   "metadata": {},
   "source": [
    "---\n",
    "### ** > Exercise 8 (Take home): **  \n",
    "\n",
    "Generate a t-SNE visualization to show the 15 words most related to the words \"angry\", \"happy\", \"sad\", \"fear\" (60 words total)."
   ]
  },
  {
   "cell_type": "code",
   "execution_count": 1,
   "metadata": {},
   "outputs": [
    {
     "name": "stdout",
     "output_type": "stream",
     "text": [
      "load ok\n"
     ]
    }
   ],
   "source": [
    "from gensim.models import KeyedVectors\n",
    "\n",
    "## Note: this model is very huge, this will take some time ...\n",
    "model_path = \"GoogleNews-vectors-negative300.bin.\"\n",
    "w2v_google_model = KeyedVectors.load_word2vec_format(model_path, binary=True)\n",
    "print('load ok')"
   ]
  },
  {
   "cell_type": "code",
   "execution_count": 2,
   "metadata": {},
   "outputs": [
    {
     "name": "stdout",
     "output_type": "stream",
     "text": [
      "\n",
      "target words: \n",
      "angry_words:  ['angry', 'irate', 'enraged', 'indignant', 'incensed', 'annoyed', 'agitated', 'frustrated', 'furious', 'unhappy', 'outraged', 'livid', 'irritated', 'exasperated', 'angrier', 'Angry']\n",
      "happy_words:  ['happy', 'glad', 'pleased', 'ecstatic', 'overjoyed', 'thrilled', 'satisfied', 'proud', 'delighted', 'disappointed', 'excited', 'happier', 'Said_Hirschbeck', 'elated', 'thankful', 'unhappy']\n",
      "sad_words:  ['sad', 'saddening', 'Sad', 'saddened', 'heartbreaking', 'disheartening', 'Meny_Friedman', 'parishioner_Pat_Patello', 'saddens_me', 'distressing', 'reminders_bobbing', 'Turkoman_Shiites', 'saddest', 'unfortunate', 'sorry', 'bittersweet']\n",
      "fear_words:  ['fear', 'fearful', 'fears', 'Fear', 'fearing', 'worry', 'dread', 'feared', 'anxiety', 'apprehension', 'afraid', 'worries', 'concern', 'distrust', 'worried', 'Fearful']\n",
      "\n",
      "color list:\n",
      "['b', 'b', 'b', 'b', 'b', 'b', 'b', 'b', 'b', 'b', 'b', 'b', 'b', 'b', 'b', 'b', 'g', 'g', 'g', 'g', 'g', 'g', 'g', 'g', 'g', 'g', 'g', 'g', 'g', 'g', 'g', 'g', 'r', 'r', 'r', 'r', 'r', 'r', 'r', 'r', 'r', 'r', 'r', 'r', 'r', 'r', 'r', 'r', 'y', 'y', 'y', 'y', 'y', 'y', 'y', 'y', 'y', 'y', 'y', 'y', 'y', 'y', 'y', 'y']\n"
     ]
    }
   ],
   "source": [
    "word_list = ['angry','happy', 'sad', 'fear']\n",
    "\n",
    "topn = 15\n",
    "angry_words = ['angry'] + [word_ for word_, sim_ in w2v_google_model.most_similar('angry', topn=topn)] \n",
    "happy_words = ['happy'] + [word_ for word_, sim_ in w2v_google_model.most_similar('happy', topn=topn)]\n",
    "sad_words = ['sad'] + [word_ for word_, sim_ in w2v_google_model.most_similar('sad', topn=topn)]        \n",
    "fear_words = ['fear'] + [word_ for word_, sim_ in w2v_google_model.most_similar('fear', topn=topn)]        \n",
    "print('\\ntarget words: ')\n",
    "print('angry_words: ', angry_words)\n",
    "print('happy_words: ', happy_words)\n",
    "print('sad_words: ', sad_words)\n",
    "print('fear_words: ', fear_words)\n",
    "\n",
    "target_words = angry_words+happy_words+sad_words+fear_words\n",
    "\n",
    "print('\\ncolor list:')\n",
    "cn = topn + 1\n",
    "color = ['b'] * cn + ['g'] * cn + ['r'] * cn + ['y'] * cn\n",
    "print(color)"
   ]
  },
  {
   "cell_type": "code",
   "execution_count": 3,
   "metadata": {},
   "outputs": [
    {
     "data": {
      "image/png": "[encoded data removed]",
      "text/plain": [
       "<Figure size 862.5x862.5 with 1 Axes>"
      ]
     },
     "metadata": {},
     "output_type": "display_data"
    }
   ],
   "source": [
    "%matplotlib inline\n",
    "import matplotlib.pyplot as plt\n",
    "from sklearn.manifold import TSNE\n",
    "\n",
    "## w2v model\n",
    "model = w2v_google_model\n",
    "\n",
    "## prepare training word vectors\n",
    "size = 200\n",
    "target_size = len(target_words)\n",
    "all_word = list(model.vocab.keys())\n",
    "word_train = target_words + all_word[:size]\n",
    "X_train = model[word_train]\n",
    "\n",
    "## t-SNE model\n",
    "tsne = TSNE(n_components=2, metric='cosine', random_state=28)\n",
    "\n",
    "## training\n",
    "X_tsne = tsne.fit_transform(X_train)\n",
    "\n",
    "## plot the result\n",
    "plt.figure(figsize=(7.5, 7.5), dpi=115)\n",
    "plt.scatter(X_tsne[:target_size, 0], X_tsne[:target_size, 1], c=color)\n",
    "for label, x, y in zip(target_words, X_tsne[:target_size, 0], X_tsne[:target_size, 1]):\n",
    "    plt.annotate(label, xy=(x,y), xytext=(0,0),  textcoords='offset points')\n",
    "plt.show()"
   ]
  },
  {
   "cell_type": "markdown",
   "metadata": {},
   "source": [
    "---\n",
    "\n",
    "### Second,Third -kaggle competition report"
   ]
  },
  {
   "cell_type": "markdown",
   "metadata": {},
   "source": [
    "before pre-processing, I do some privious work to generate the raw dataset from tweet_DM.json\n",
    "\n",
    "step 1 :load tweet_DM.json and translate into raw set that only have 'tweet_id' and 'text' column\n",
    "\n",
    "step 2 :according to 'data_identification.csv' spilt raw set into train set and test set\n",
    "\n",
    "step 3 :merge 'emotion.csv' and train set on 'tweet_id',then it's time to do some pre-processing"
   ]
  },
  {
   "cell_type": "code",
   "execution_count": 1,
   "metadata": {},
   "outputs": [
    {
     "data": {
      "text/html": [
       "<div>\n",
       "<style scoped>\n",
       "    .dataframe tbody tr th:only-of-type {\n",
       "        vertical-align: middle;\n",
       "    }\n",
       "\n",
       "    .dataframe tbody tr th {\n",
       "        vertical-align: top;\n",
       "    }\n",
       "\n",
       "    .dataframe thead th {\n",
       "        text-align: right;\n",
       "    }\n",
       "</style>\n",
       "<table border=\"1\" class=\"dataframe\">\n",
       "  <thead>\n",
       "    <tr style=\"text-align: right;\">\n",
       "      <th></th>\n",
       "      <th>id</th>\n",
       "      <th>text</th>\n",
       "      <th>emotion</th>\n",
       "    </tr>\n",
       "  </thead>\n",
       "  <tbody>\n",
       "    <tr>\n",
       "      <th>0</th>\n",
       "      <td>0x1c7f10</td>\n",
       "      <td>o m g Shut Up And Dance though #BlackMirror &lt;L...</td>\n",
       "      <td>joy\\r</td>\n",
       "    </tr>\n",
       "    <tr>\n",
       "      <th>1</th>\n",
       "      <td>0x1c7f11</td>\n",
       "      <td>On #twitch &lt;LH&gt; on the #Destinybeta #Destiny #...</td>\n",
       "      <td>anticipation\\r</td>\n",
       "    </tr>\n",
       "    <tr>\n",
       "      <th>2</th>\n",
       "      <td>0x1c7f14</td>\n",
       "      <td>A nice sunny wak this morning not many &lt;LH&gt; ar...</td>\n",
       "      <td>joy\\r</td>\n",
       "    </tr>\n",
       "    <tr>\n",
       "      <th>3</th>\n",
       "      <td>0x1c7f15</td>\n",
       "      <td>I'm one of those people who love candy corn......</td>\n",
       "      <td>joy\\r</td>\n",
       "    </tr>\n",
       "    <tr>\n",
       "      <th>4</th>\n",
       "      <td>0x1c7f16</td>\n",
       "      <td>@metmuseum What are these? They look like some...</td>\n",
       "      <td>disgust\\r</td>\n",
       "    </tr>\n",
       "  </tbody>\n",
       "</table>\n",
       "</div>"
      ],
      "text/plain": [
       "         id                                               text         emotion\n",
       "0  0x1c7f10  o m g Shut Up And Dance though #BlackMirror <L...           joy\\r\n",
       "1  0x1c7f11  On #twitch <LH> on the #Destinybeta #Destiny #...  anticipation\\r\n",
       "2  0x1c7f14  A nice sunny wak this morning not many <LH> ar...           joy\\r\n",
       "3  0x1c7f15  I'm one of those people who love candy corn......           joy\\r\n",
       "4  0x1c7f16  @metmuseum What are these? They look like some...       disgust\\r"
      ]
     },
     "execution_count": 1,
     "metadata": {},
     "output_type": "execute_result"
    }
   ],
   "source": [
    "###pre-processing\n",
    "import pandas as pd\n",
    "df = pd.read_csv('trainset.csv',lineterminator = '\\n')\n",
    "#df = pd.read_csv('testset_sample.csv',lineterminator = '\\n')\n",
    "df.columns = ['id','text','emotion']\n",
    "df[0:5]"
   ]
  },
  {
   "cell_type": "code",
   "execution_count": 2,
   "metadata": {},
   "outputs": [
    {
     "data": {
      "text/html": [
       "<div>\n",
       "<style scoped>\n",
       "    .dataframe tbody tr th:only-of-type {\n",
       "        vertical-align: middle;\n",
       "    }\n",
       "\n",
       "    .dataframe tbody tr th {\n",
       "        vertical-align: top;\n",
       "    }\n",
       "\n",
       "    .dataframe thead th {\n",
       "        text-align: right;\n",
       "    }\n",
       "</style>\n",
       "<table border=\"1\" class=\"dataframe\">\n",
       "  <thead>\n",
       "    <tr style=\"text-align: right;\">\n",
       "      <th></th>\n",
       "      <th>id</th>\n",
       "      <th>text</th>\n",
       "      <th>emotion</th>\n",
       "    </tr>\n",
       "  </thead>\n",
       "  <tbody>\n",
       "    <tr>\n",
       "      <th>0</th>\n",
       "      <td>0x1c7f10</td>\n",
       "      <td>o m g Shut Up And Dance though #BlackMirror &lt;L...</td>\n",
       "      <td>joy</td>\n",
       "    </tr>\n",
       "    <tr>\n",
       "      <th>1</th>\n",
       "      <td>0x1c7f11</td>\n",
       "      <td>On #twitch &lt;LH&gt; on the #Destinybeta #Destiny #...</td>\n",
       "      <td>anticipation</td>\n",
       "    </tr>\n",
       "    <tr>\n",
       "      <th>2</th>\n",
       "      <td>0x1c7f14</td>\n",
       "      <td>A nice sunny wak this morning not many &lt;LH&gt; ar...</td>\n",
       "      <td>joy</td>\n",
       "    </tr>\n",
       "    <tr>\n",
       "      <th>3</th>\n",
       "      <td>0x1c7f15</td>\n",
       "      <td>I'm one of those people who love candy corn......</td>\n",
       "      <td>joy</td>\n",
       "    </tr>\n",
       "    <tr>\n",
       "      <th>4</th>\n",
       "      <td>0x1c7f16</td>\n",
       "      <td>@metmuseum What are these? They look like some...</td>\n",
       "      <td>disgust</td>\n",
       "    </tr>\n",
       "  </tbody>\n",
       "</table>\n",
       "</div>"
      ],
      "text/plain": [
       "         id                                               text       emotion\n",
       "0  0x1c7f10  o m g Shut Up And Dance though #BlackMirror <L...           joy\n",
       "1  0x1c7f11  On #twitch <LH> on the #Destinybeta #Destiny #...  anticipation\n",
       "2  0x1c7f14  A nice sunny wak this morning not many <LH> ar...           joy\n",
       "3  0x1c7f15  I'm one of those people who love candy corn......           joy\n",
       "4  0x1c7f16  @metmuseum What are these? They look like some...       disgust"
      ]
     },
     "execution_count": 2,
     "metadata": {},
     "output_type": "execute_result"
    }
   ],
   "source": [
    "df['emotion']=df['emotion'].apply(lambda x:x.replace('\\r',''))\n",
    "df[0:5]"
   ]
  },
  {
   "cell_type": "code",
   "execution_count": 3,
   "metadata": {},
   "outputs": [
    {
     "data": {
      "text/html": [
       "<div>\n",
       "<style scoped>\n",
       "    .dataframe tbody tr th:only-of-type {\n",
       "        vertical-align: middle;\n",
       "    }\n",
       "\n",
       "    .dataframe tbody tr th {\n",
       "        vertical-align: top;\n",
       "    }\n",
       "\n",
       "    .dataframe thead th {\n",
       "        text-align: right;\n",
       "    }\n",
       "</style>\n",
       "<table border=\"1\" class=\"dataframe\">\n",
       "  <thead>\n",
       "    <tr style=\"text-align: right;\">\n",
       "      <th></th>\n",
       "      <th>id</th>\n",
       "      <th>text</th>\n",
       "      <th>emotion</th>\n",
       "    </tr>\n",
       "  </thead>\n",
       "  <tbody>\n",
       "    <tr>\n",
       "      <th>0</th>\n",
       "      <td>0x1c7f10</td>\n",
       "      <td>o m g Shut Up And Dance though  BlackMirror  \\r</td>\n",
       "      <td>joy</td>\n",
       "    </tr>\n",
       "    <tr>\n",
       "      <th>1</th>\n",
       "      <td>0x1c7f11</td>\n",
       "      <td>On  twitch   on the  Destinybeta  Destiny  Des...</td>\n",
       "      <td>anticipation</td>\n",
       "    </tr>\n",
       "    <tr>\n",
       "      <th>2</th>\n",
       "      <td>0x1c7f14</td>\n",
       "      <td>A nice sunny wak this morning not many   aroud...</td>\n",
       "      <td>joy</td>\n",
       "    </tr>\n",
       "    <tr>\n",
       "      <th>3</th>\n",
       "      <td>0x1c7f15</td>\n",
       "      <td>I'm one of those people who love candy corn......</td>\n",
       "      <td>joy</td>\n",
       "    </tr>\n",
       "    <tr>\n",
       "      <th>4</th>\n",
       "      <td>0x1c7f16</td>\n",
       "      <td>What are these? They look like something tod...</td>\n",
       "      <td>disgust</td>\n",
       "    </tr>\n",
       "  </tbody>\n",
       "</table>\n",
       "</div>"
      ],
      "text/plain": [
       "         id                                               text       emotion\n",
       "0  0x1c7f10    o m g Shut Up And Dance though  BlackMirror  \\r           joy\n",
       "1  0x1c7f11  On  twitch   on the  Destinybeta  Destiny  Des...  anticipation\n",
       "2  0x1c7f14  A nice sunny wak this morning not many   aroud...           joy\n",
       "3  0x1c7f15  I'm one of those people who love candy corn......           joy\n",
       "4  0x1c7f16    What are these? They look like something tod...       disgust"
      ]
     },
     "execution_count": 3,
     "metadata": {},
     "output_type": "execute_result"
    }
   ],
   "source": [
    "###remove @blahblah ,numbers,hashtag and <LH>\n",
    "import re\n",
    "import numpy as np\n",
    "def remove_pattern(input_txt,pattern):\n",
    "    r = re.findall(pattern,input_txt)\n",
    "    for i in r:\n",
    "        input_txt = re.sub(i,' ',input_txt)\n",
    "    return input_txt\n",
    "df['text']=np.vectorize(remove_pattern)(df['text'],'@[\\w]*')\n",
    "df['text']=np.vectorize(remove_pattern)(df['text'],'<LH>')\n",
    "df['text']=np.vectorize(remove_pattern)(df['text'],'#')\n",
    "df['text']=np.vectorize(remove_pattern)(df['text'],'[0-9]')\n",
    "df[0:5]"
   ]
  },
  {
   "cell_type": "code",
   "execution_count": 4,
   "metadata": {},
   "outputs": [
    {
     "data": {
      "text/html": [
       "<div>\n",
       "<style scoped>\n",
       "    .dataframe tbody tr th:only-of-type {\n",
       "        vertical-align: middle;\n",
       "    }\n",
       "\n",
       "    .dataframe tbody tr th {\n",
       "        vertical-align: top;\n",
       "    }\n",
       "\n",
       "    .dataframe thead th {\n",
       "        text-align: right;\n",
       "    }\n",
       "</style>\n",
       "<table border=\"1\" class=\"dataframe\">\n",
       "  <thead>\n",
       "    <tr style=\"text-align: right;\">\n",
       "      <th></th>\n",
       "      <th>id</th>\n",
       "      <th>text</th>\n",
       "      <th>emotion</th>\n",
       "    </tr>\n",
       "  </thead>\n",
       "  <tbody>\n",
       "    <tr>\n",
       "      <th>0</th>\n",
       "      <td>0x1c7f10</td>\n",
       "      <td>[o, m, g, shut, up, and, dance, though, blackm...</td>\n",
       "      <td>joy</td>\n",
       "    </tr>\n",
       "    <tr>\n",
       "      <th>1</th>\n",
       "      <td>0x1c7f11</td>\n",
       "      <td>[on, twitch, on, the, destinybeta, destiny, de...</td>\n",
       "      <td>anticipation</td>\n",
       "    </tr>\n",
       "    <tr>\n",
       "      <th>2</th>\n",
       "      <td>0x1c7f14</td>\n",
       "      <td>[a, nice, sunny, wak, this, morning, not, many...</td>\n",
       "      <td>joy</td>\n",
       "    </tr>\n",
       "    <tr>\n",
       "      <th>3</th>\n",
       "      <td>0x1c7f15</td>\n",
       "      <td>[i'm, one, of, those, people, who, love, candy...</td>\n",
       "      <td>joy</td>\n",
       "    </tr>\n",
       "    <tr>\n",
       "      <th>4</th>\n",
       "      <td>0x1c7f16</td>\n",
       "      <td>[what, are, these, ?, they, look, like, someth...</td>\n",
       "      <td>disgust</td>\n",
       "    </tr>\n",
       "  </tbody>\n",
       "</table>\n",
       "</div>"
      ],
      "text/plain": [
       "         id                                               text       emotion\n",
       "0  0x1c7f10  [o, m, g, shut, up, and, dance, though, blackm...           joy\n",
       "1  0x1c7f11  [on, twitch, on, the, destinybeta, destiny, de...  anticipation\n",
       "2  0x1c7f14  [a, nice, sunny, wak, this, morning, not, many...           joy\n",
       "3  0x1c7f15  [i'm, one, of, those, people, who, love, candy...           joy\n",
       "4  0x1c7f16  [what, are, these, ?, they, look, like, someth...       disgust"
      ]
     },
     "execution_count": 4,
     "metadata": {},
     "output_type": "execute_result"
    }
   ],
   "source": [
    "###tokenization,use tweet tokenizer\n",
    "from nltk.tokenize import TweetTokenizer\n",
    "token = TweetTokenizer(reduce_len = True)\n",
    "df['text']=df['text'].str.lower()\n",
    "df['text']=df['text'].apply(lambda x :token.tokenize(x))\n",
    "df[0:5]"
   ]
  },
  {
   "cell_type": "code",
   "execution_count": 5,
   "metadata": {},
   "outputs": [
    {
     "data": {
      "text/html": [
       "<div>\n",
       "<style scoped>\n",
       "    .dataframe tbody tr th:only-of-type {\n",
       "        vertical-align: middle;\n",
       "    }\n",
       "\n",
       "    .dataframe tbody tr th {\n",
       "        vertical-align: top;\n",
       "    }\n",
       "\n",
       "    .dataframe thead th {\n",
       "        text-align: right;\n",
       "    }\n",
       "</style>\n",
       "<table border=\"1\" class=\"dataframe\">\n",
       "  <thead>\n",
       "    <tr style=\"text-align: right;\">\n",
       "      <th></th>\n",
       "      <th>id</th>\n",
       "      <th>text</th>\n",
       "      <th>emotion</th>\n",
       "    </tr>\n",
       "  </thead>\n",
       "  <tbody>\n",
       "    <tr>\n",
       "      <th>0</th>\n",
       "      <td>0x1c7f10</td>\n",
       "      <td>[g, shut, dance, though, blackmirror]</td>\n",
       "      <td>joy</td>\n",
       "    </tr>\n",
       "    <tr>\n",
       "      <th>1</th>\n",
       "      <td>0x1c7f11</td>\n",
       "      <td>[twitch, destinybeta, destiny, destiny, destin...</td>\n",
       "      <td>anticipation</td>\n",
       "    </tr>\n",
       "    <tr>\n",
       "      <th>2</th>\n",
       "      <td>0x1c7f14</td>\n",
       "      <td>[nice, sunny, wak, morning, many, aroud, white...</td>\n",
       "      <td>joy</td>\n",
       "    </tr>\n",
       "    <tr>\n",
       "      <th>3</th>\n",
       "      <td>0x1c7f15</td>\n",
       "      <td>[i'm, one, people, love, candy, corn, lot, 😁, ...</td>\n",
       "      <td>joy</td>\n",
       "    </tr>\n",
       "    <tr>\n",
       "      <th>4</th>\n",
       "      <td>0x1c7f16</td>\n",
       "      <td>[look, like, something, toddlers, make, summer...</td>\n",
       "      <td>disgust</td>\n",
       "    </tr>\n",
       "  </tbody>\n",
       "</table>\n",
       "</div>"
      ],
      "text/plain": [
       "         id                                               text       emotion\n",
       "0  0x1c7f10              [g, shut, dance, though, blackmirror]           joy\n",
       "1  0x1c7f11  [twitch, destinybeta, destiny, destiny, destin...  anticipation\n",
       "2  0x1c7f14  [nice, sunny, wak, morning, many, aroud, white...           joy\n",
       "3  0x1c7f15  [i'm, one, people, love, candy, corn, lot, 😁, ...           joy\n",
       "4  0x1c7f16  [look, like, something, toddlers, make, summer...       disgust"
      ]
     },
     "execution_count": 5,
     "metadata": {},
     "output_type": "execute_result"
    }
   ],
   "source": [
    "###remove stopwords and punctuation \n",
    "from nltk.corpus import stopwords\n",
    "import string\n",
    "stop = stopwords.words('english')\n",
    "df['text']=df['text'].apply(lambda x :[item for item in x if item not in stop])\n",
    "punctuation = list(string.punctuation)\n",
    "punctuation.append('...')\n",
    "df['text']=df['text'].apply(lambda x :[item for item in x if item not in punctuation])\n",
    "df[0:5]"
   ]
  },
  {
   "cell_type": "code",
   "execution_count": 6,
   "metadata": {},
   "outputs": [
    {
     "data": {
      "text/plain": [
       "0                [g, shut, dance, though, blackmirror]\n",
       "1    [twitch, destinybeta, destiny, destiny, destin...\n",
       "2    [nice, sunny, wak, morning, many, aroud, white...\n",
       "3    [i'm, one, people, love, candy, corn, lot, 😁, ...\n",
       "4    [look, like, something, toddler, make, summer,...\n",
       "Name: text, dtype: object"
      ]
     },
     "execution_count": 6,
     "metadata": {},
     "output_type": "execute_result"
    }
   ],
   "source": [
    "###lemmatize\n",
    "from nltk.stem import WordNetLemmatizer\n",
    "lemmatizer = WordNetLemmatizer()\n",
    "df['text']=df['text'].apply(lambda x:[lemmatizer.lemmatize(item) for item in x])\n",
    "df['text'][0:5]"
   ]
  },
  {
   "cell_type": "code",
   "execution_count": 7,
   "metadata": {},
   "outputs": [],
   "source": [
    "###save the clean set in order to train\n",
    "#df.to_csv('cleantrain_set_lem.csv',index = 0)\n",
    "#df.to_csv('cleantest_set_lem.csv',index = 0)"
   ]
  },
  {
   "cell_type": "markdown",
   "metadata": {},
   "source": [
    "after pre-processing, I try to build a LSTM-CNN model to do the task\n",
    "\n",
    "and use GoogleNews-vectors-negative300.bin pre-trained word2vec model for embedding "
   ]
  },
  {
   "cell_type": "code",
   "execution_count": 8,
   "metadata": {},
   "outputs": [
    {
     "name": "stderr",
     "output_type": "stream",
     "text": [
      "Using TensorFlow backend.\n"
     ]
    },
    {
     "name": "stdout",
     "output_type": "stream",
     "text": [
      "null in data:\n",
      " id            0\n",
      "text       4466\n",
      "emotion       8\n",
      "dtype: int64\n",
      "null in testdata:\n",
      " id       0\n",
      "text    37\n",
      "dtype: int64\n"
     ]
    }
   ],
   "source": [
    "import keras\n",
    "###load training,testing set,dealwith null value(due to pre-processing)\n",
    "data = pd.read_csv('cleantrain_set_lem.csv')\n",
    "testdata = pd.read_csv('cleantest_set_lem.csv')\n",
    "\n",
    "print('null in data:\\n',np.sum(data.isnull()))\n",
    "print('null in testdata:\\n',np.sum(testdata.isnull()))"
   ]
  },
  {
   "cell_type": "code",
   "execution_count": 9,
   "metadata": {},
   "outputs": [
    {
     "name": "stdout",
     "output_type": "stream",
     "text": [
      "null in data:\n",
      " id         0\n",
      "text       0\n",
      "emotion    0\n",
      "dtype: int64\n",
      "null in testdata:\n",
      " id      0\n",
      "text    0\n",
      "dtype: int64\n"
     ]
    }
   ],
   "source": [
    "data.dropna(inplace = True)\n",
    "testdata.fillna('thisisnull',inplace=True)\n",
    "print('null in data:\\n',np.sum(data.isnull()))\n",
    "print('null in testdata:\\n',np.sum(testdata.isnull()))"
   ]
  },
  {
   "cell_type": "code",
   "execution_count": 10,
   "metadata": {},
   "outputs": [
    {
     "name": "stdout",
     "output_type": "stream",
     "text": [
      "successful load\n"
     ]
    }
   ],
   "source": [
    "###load pre-trained word2vec model\n",
    "import gensim.models.keyedvectors as word2vec\n",
    "w2vModel = word2vec.KeyedVectors.load_word2vec_format('GoogleNews-vectors-negative300.bin', binary=True,limit=500000)\n",
    "print('successful load')"
   ]
  },
  {
   "cell_type": "code",
   "execution_count": 11,
   "metadata": {},
   "outputs": [
    {
     "data": {
      "text/plain": [
       "[[710, 1308, 1060, 368, 21554],\n",
       " [2126,\n",
       "  62451,\n",
       "  1243,\n",
       "  1243,\n",
       "  49064,\n",
       "  6084,\n",
       "  6278,\n",
       "  27326,\n",
       "  1243,\n",
       "  27327,\n",
       "  4542,\n",
       "  1243,\n",
       "  4542,\n",
       "  474],\n",
       " [268, 2376, 54535, 74, 103, 74187, 332, 13, 2064, 41280, 48, 614],\n",
       " [9, 12, 16, 1, 2523, 4201, 44, 264, 20, 3709, 26373, 8485, 15321],\n",
       " [63, 8, 119, 4022, 17, 527, 2279, 4901, 14538]]"
      ]
     },
     "execution_count": 11,
     "metadata": {},
     "output_type": "execute_result"
    }
   ],
   "source": [
    "### Create sequence\n",
    "from keras.preprocessing.text import Tokenizer\n",
    "#take most often 100000 words to word_dic\n",
    "vocabulary_size = 100000 \n",
    "tokenizer = Tokenizer(num_words= vocabulary_size)\n",
    "tokenizer.fit_on_texts(data['text'])\n",
    "#transform words to a sequence\n",
    "sequences = tokenizer.texts_to_sequences(data['text'])\n",
    "sequences[0:5]"
   ]
  },
  {
   "cell_type": "code",
   "execution_count": 12,
   "metadata": {},
   "outputs": [
    {
     "data": {
      "text/plain": [
       "<Figure size 800x600 with 0 Axes>"
      ]
     },
     "metadata": {},
     "output_type": "display_data"
    },
    {
     "data": {
      "text/plain": [
       "<Figure size 640x480 with 1 Axes>"
      ]
     },
     "metadata": {},
     "output_type": "display_data"
    }
   ],
   "source": [
    "###check length of sequence\n",
    "import matplotlib.pyplot as plt\n",
    "text_len = [len(x) for x in sequences]\n",
    "histo = pd.Series(text_len).value_counts()\n",
    "histo.sort_index(inplace=True)\n",
    "histo = pd.DataFrame(histo,columns = ['counts'])\n",
    "plt.figure(figsize=(8,6))\n",
    "histo[0:25].plot.bar()\n",
    "plt.xticks(rotation=360)\n",
    "plt.title('sequences length')\n",
    "plt.show()"
   ]
  },
  {
   "cell_type": "code",
   "execution_count": 13,
   "metadata": {},
   "outputs": [
    {
     "data": {
      "text/plain": [
       "array([[    0,     0,     0,     0,     0,     0,     0,     0,     0,\n",
       "            0,     0,     0,     0,     0,     0,     0,     0,     0,\n",
       "            0,     0,     0,     0,     0,     0,     0,     0,     0,\n",
       "            0,     0,     0,     0,     0,     0,     0,     0,     0,\n",
       "            0,     0,     0,     0,     0,     0,     0,     0,     0,\n",
       "          710,  1308,  1060,   368, 21554],\n",
       "       [    0,     0,     0,     0,     0,     0,     0,     0,     0,\n",
       "            0,     0,     0,     0,     0,     0,     0,     0,     0,\n",
       "            0,     0,     0,     0,     0,     0,     0,     0,     0,\n",
       "            0,     0,     0,     0,     0,     0,     0,     0,     0,\n",
       "         2126, 62451,  1243,  1243, 49064,  6084,  6278, 27326,  1243,\n",
       "        27327,  4542,  1243,  4542,   474],\n",
       "       [    0,     0,     0,     0,     0,     0,     0,     0,     0,\n",
       "            0,     0,     0,     0,     0,     0,     0,     0,     0,\n",
       "            0,     0,     0,     0,     0,     0,     0,     0,     0,\n",
       "            0,     0,     0,     0,     0,     0,     0,     0,     0,\n",
       "            0,     0,   268,  2376, 54535,    74,   103, 74187,   332,\n",
       "           13,  2064, 41280,    48,   614],\n",
       "       [    0,     0,     0,     0,     0,     0,     0,     0,     0,\n",
       "            0,     0,     0,     0,     0,     0,     0,     0,     0,\n",
       "            0,     0,     0,     0,     0,     0,     0,     0,     0,\n",
       "            0,     0,     0,     0,     0,     0,     0,     0,     0,\n",
       "            0,     9,    12,    16,     1,  2523,  4201,    44,   264,\n",
       "           20,  3709, 26373,  8485, 15321]])"
      ]
     },
     "execution_count": 13,
     "metadata": {},
     "output_type": "execute_result"
    }
   ],
   "source": [
    "#pad or cut each sequence to proper length\n",
    "sequence_len = int(50) \n",
    "from keras.preprocessing.sequence import pad_sequences\n",
    "train = pad_sequences(sequences, maxlen=sequence_len)\n",
    "train[0:4]"
   ]
  },
  {
   "cell_type": "code",
   "execution_count": 14,
   "metadata": {},
   "outputs": [
    {
     "name": "stdout",
     "output_type": "stream",
     "text": [
      "check label: \n",
      " ['anger' 'anticipation' 'disgust' 'fear' 'joy' 'sadness' 'surprise'\n",
      " 'trust']\n",
      "\n",
      "### Before convert\n",
      "data[emotion]:\n",
      " 0             joy\n",
      "1    anticipation\n",
      "2             joy\n",
      "3             joy\n",
      "4         disgust\n",
      "Name: emotion, dtype: object\n",
      "\n",
      " data[emotion].shape:  (1451093,)\n",
      "\n",
      "\n",
      "### After convert\n",
      "data_label:\n",
      " [[0. 0. 0. 0. 1. 0. 0. 0.]\n",
      " [0. 1. 0. 0. 0. 0. 0. 0.]\n",
      " [0. 0. 0. 0. 1. 0. 0. 0.]\n",
      " [0. 0. 0. 0. 1. 0. 0. 0.]\n",
      " [0. 0. 1. 0. 0. 0. 0. 0.]]\n",
      "\n",
      " data_label.shape:  (1451093, 8)\n"
     ]
    }
   ],
   "source": [
    "###Label encoding\n",
    "from sklearn import preprocessing\n",
    "le = preprocessing.LabelEncoder()\n",
    "le.fit(data['emotion'])\n",
    "print('check label: \\n', le.classes_)\n",
    "print('\\n### Before convert')\n",
    "print('data[emotion]:\\n', data['emotion'][0:5])\n",
    "print('\\n data[emotion].shape: ', data['emotion'].shape)\n",
    "#transform sentumental label to one-hot label\n",
    "def label_encode(le, labels):\n",
    "    enc = le.transform(labels)\n",
    "    return keras.utils.to_categorical(enc)\n",
    "def label_decode(le, one_hot_label):\n",
    "    dec = np.argmax(one_hot_label, axis=1)\n",
    "    return le.inverse_transform(dec)\n",
    "data_label = label_encode(le, data['emotion'])\n",
    "print('\\n\\n### After convert')\n",
    "print('data_label:\\n', data_label[0:5])\n",
    "print('\\n data_label.shape: ', data_label.shape)"
   ]
  },
  {
   "cell_type": "code",
   "execution_count": 15,
   "metadata": {},
   "outputs": [
    {
     "name": "stdout",
     "output_type": "stream",
     "text": [
      "train data_size: (1015765, 50)\n",
      "test data_size: (435328, 50)\n"
     ]
    }
   ],
   "source": [
    "###split train,valid set\n",
    "from sklearn.model_selection import train_test_split\n",
    "X_train, X_test, y_train, y_test = train_test_split(train, data_label, \n",
    "                                                    test_size=0.3,shuffle = True,random_state = 10)\n",
    "print('train data_size:', X_train.shape)\n",
    "print('test data_size:', X_test.shape)"
   ]
  },
  {
   "cell_type": "code",
   "execution_count": 16,
   "metadata": {},
   "outputs": [
    {
     "name": "stdout",
     "output_type": "stream",
     "text": [
      "input_shape:  50\n",
      "output_shape:  8\n"
     ]
    }
   ],
   "source": [
    "###deep learning\n",
    "#input is padded sequence,output is one-hot label\n",
    "input_shape = X_train.shape[1]\n",
    "print('input_shape: ', input_shape)\n",
    "output_shape = len(le.classes_)\n",
    "print('output_shape: ', output_shape)"
   ]
  },
  {
   "cell_type": "code",
   "execution_count": 17,
   "metadata": {},
   "outputs": [],
   "source": [
    "#import the package we needed\n",
    "from keras.models import Model\n",
    "from keras.layers.core import Dense, Dropout\n",
    "from keras.layers.embeddings import Embedding\n",
    "from keras.layers import LSTM,Activation,concatenate,Input\n",
    "from keras.models import load_model\n",
    "from keras import optimizers \n",
    "from keras.layers.normalization import BatchNormalization\n",
    "from keras.layers.convolutional import Conv1D\n",
    "from keras.layers.pooling import MaxPooling1D,GlobalAveragePooling1D,GlobalMaxPooling1D\n",
    "from keras.callbacks import CSVLogger,EarlyStopping,ModelCheckpoint\n",
    "csv_logger = CSVLogger('training_log.csv')"
   ]
  },
  {
   "cell_type": "code",
   "execution_count": 18,
   "metadata": {},
   "outputs": [],
   "source": [
    "###use GPU to accelerate training\n",
    "import os\n",
    "os.environ[\"CUDA_DEVICE_ORDER\"] = \"PCI_BUS_ID\"\n",
    "os.environ['CUDA_VISIBLE_DEVICES'] = '0'"
   ]
  },
  {
   "cell_type": "code",
   "execution_count": 19,
   "metadata": {},
   "outputs": [
    {
     "name": "stderr",
     "output_type": "stream",
     "text": [
      "C:\\Users\\user\\Anaconda3\\lib\\site-packages\\ipykernel_launcher.py:7: DeprecationWarning: Call to deprecated `syn0` (Attribute will be removed in 4.0.0, use self.vectors instead).\n",
      "  import sys\n",
      "C:\\Users\\user\\Anaconda3\\lib\\site-packages\\ipykernel_launcher.py:8: DeprecationWarning: Call to deprecated `syn0` (Attribute will be removed in 4.0.0, use self.vectors instead).\n",
      "  \n",
      "C:\\Users\\user\\Anaconda3\\lib\\site-packages\\ipykernel_launcher.py:9: DeprecationWarning: Call to deprecated `syn0` (Attribute will be removed in 4.0.0, use self.vectors instead).\n",
      "  if __name__ == '__main__':\n"
     ]
    },
    {
     "name": "stdout",
     "output_type": "stream",
     "text": [
      "__________________________________________________________________________________________________\n",
      "Layer (type)                    Output Shape         Param #     Connected to                     \n",
      "==================================================================================================\n",
      "input_1 (InputLayer)            (None, 50)           0                                            \n",
      "__________________________________________________________________________________________________\n",
      "embedding_1 (Embedding)         (None, 50, 300)      150000000   input_1[0][0]                    \n",
      "__________________________________________________________________________________________________\n",
      "batch_normalization_1 (BatchNor (None, 50, 300)      1200        embedding_1[0][0]                \n",
      "__________________________________________________________________________________________________\n",
      "dropout_1 (Dropout)             (None, 50, 300)      0           batch_normalization_1[0][0]      \n",
      "__________________________________________________________________________________________________\n",
      "lstm_1 (LSTM)                   (None, 50, 256)      570368      dropout_1[0][0]                  \n",
      "__________________________________________________________________________________________________\n",
      "batch_normalization_2 (BatchNor (None, 50, 256)      1024        lstm_1[0][0]                     \n",
      "__________________________________________________________________________________________________\n",
      "conv1d_1 (Conv1D)               (None, 49, 128)      65664       batch_normalization_2[0][0]      \n",
      "__________________________________________________________________________________________________\n",
      "conv1d_2 (Conv1D)               (None, 48, 128)      98432       batch_normalization_2[0][0]      \n",
      "__________________________________________________________________________________________________\n",
      "conv1d_3 (Conv1D)               (None, 46, 128)      163968      batch_normalization_2[0][0]      \n",
      "__________________________________________________________________________________________________\n",
      "global_average_pooling1d_1 (Glo (None, 128)          0           conv1d_1[0][0]                   \n",
      "__________________________________________________________________________________________________\n",
      "global_average_pooling1d_2 (Glo (None, 128)          0           conv1d_2[0][0]                   \n",
      "__________________________________________________________________________________________________\n",
      "global_average_pooling1d_3 (Glo (None, 128)          0           conv1d_3[0][0]                   \n",
      "__________________________________________________________________________________________________\n",
      "concatenate_1 (Concatenate)     (None, 384)          0           global_average_pooling1d_1[0][0] \n",
      "                                                                 global_average_pooling1d_2[0][0] \n",
      "                                                                 global_average_pooling1d_3[0][0] \n",
      "__________________________________________________________________________________________________\n",
      "dense_1 (Dense)                 (None, 8)            3080        concatenate_1[0][0]              \n",
      "==================================================================================================\n",
      "Total params: 150,903,736\n",
      "Trainable params: 150,902,624\n",
      "Non-trainable params: 1,112\n",
      "__________________________________________________________________________________________________\n",
      "None\n"
     ]
    }
   ],
   "source": [
    "#hyper parameters\n",
    "learning_rate = 0.001\n",
    "epochs = 50\n",
    "batch_size = 512\n",
    "#build CNN-LSTM model\n",
    "model_input = Input(shape = (input_shape,))\n",
    "embed = Embedding(input_dim=w2vModel.syn0.shape[0], \n",
    "                            output_dim=w2vModel.syn0.shape[1],\n",
    "                            weights=[w2vModel.syn0],\n",
    "                            input_length=input_shape)(model_input)\n",
    "BN1 = BatchNormalization()(embed)\n",
    "em_Drop = Dropout(0.5)(BN1)\n",
    "\n",
    "LSTM1 = LSTM(units=256,unroll = True, recurrent_initializer='orthogonal',\n",
    "             return_sequences=True,dropout=0.5, recurrent_dropout=0.5)(em_Drop)\n",
    "LSTM_BN = BatchNormalization()(LSTM1)\n",
    "cnn2=Conv1D(filters=128, kernel_size=2,padding='valid',activation='relu')(LSTM_BN)                     \n",
    "GAP2 = GlobalAveragePooling1D()(cnn2)\n",
    "cnn3=Conv1D(filters=128, kernel_size=3,padding='valid',activation='relu')(LSTM_BN)                \n",
    "GAP3 = GlobalAveragePooling1D()(cnn3)\n",
    "cnn5=Conv1D(filters=128, kernel_size=5,padding='valid',activation='relu')(LSTM_BN)\n",
    "GAP5 = GlobalAveragePooling1D()(cnn5)\n",
    "GAP_out = concatenate([GAP2,GAP3,GAP5], axis=-1)\n",
    "\n",
    "\n",
    "FC = Dense(units=output_shape,activation='softmax' )(GAP_out)\n",
    "model = Model(inputs=model_input, outputs=FC)\n",
    "print(model.summary())\n"
   ]
  },
  {
   "cell_type": "code",
   "execution_count": 20,
   "metadata": {},
   "outputs": [],
   "source": [
    "# define loss function & optimizer\n",
    "adam = optimizers.Adam(lr=learning_rate)\n",
    "model.compile(optimizer='adam',\n",
    "              loss='categorical_crossentropy',\n",
    "              metrics=['accuracy'])"
   ]
  },
  {
   "cell_type": "code",
   "execution_count": 21,
   "metadata": {},
   "outputs": [],
   "source": [
    "###callback csv_logger,Modelcheckpoint and Earlystopping\n",
    "earlystopping=EarlyStopping(monitor='val_loss', patience=3, verbose=0, mode='auto')\n",
    "BEST_MODEL_DIR = \"C:/Users/user/Downloads/DMHW2/best_val_loss.h5\"\n",
    "save_best = ModelCheckpoint(BEST_MODEL_DIR, monitor='val_loss', verbose=0,\n",
    "                            save_best_only=True, save_weights_only=False, mode='auto', period=1)"
   ]
  },
  {
   "cell_type": "code",
   "execution_count": 22,
   "metadata": {},
   "outputs": [
    {
     "name": "stderr",
     "output_type": "stream",
     "text": [
      "C:\\Users\\user\\AppData\\Roaming\\Python\\Python36\\site-packages\\tensorflow\\python\\ops\\gradients_impl.py:97: UserWarning: Converting sparse IndexedSlices to a dense Tensor with 150000000 elements. This may consume a large amount of memory.\n",
      "  num_elements)\n"
     ]
    },
    {
     "name": "stdout",
     "output_type": "stream",
     "text": [
      "Train on 1015765 samples, validate on 435328 samples\n",
      "Epoch 1/50\n",
      "1015765/1015765 [==============================] - 371s 365us/step - loss: 1.4702 - acc: 0.4649 - val_loss: 1.5627 - val_acc: 0.5042\n",
      "Epoch 2/50\n",
      "1015765/1015765 [==============================] - 346s 340us/step - loss: 1.3173 - acc: 0.5251 - val_loss: 1.3329 - val_acc: 0.5328\n",
      "Epoch 3/50\n",
      "1015765/1015765 [==============================] - 350s 345us/step - loss: 1.2711 - acc: 0.5427 - val_loss: 1.2595 - val_acc: 0.5507\n",
      "Epoch 4/50\n",
      "1015765/1015765 [==============================] - 352s 346us/step - loss: 1.2391 - acc: 0.5552 - val_loss: 1.2509 - val_acc: 0.5539\n",
      "Epoch 5/50\n",
      "1015765/1015765 [==============================] - 354s 348us/step - loss: 1.2136 - acc: 0.5645 - val_loss: 1.2517 - val_acc: 0.5546\n",
      "Epoch 6/50\n",
      "1015765/1015765 [==============================] - 341s 336us/step - loss: 1.1906 - acc: 0.5728 - val_loss: 1.2483 - val_acc: 0.5569\n",
      "Epoch 7/50\n",
      "1015765/1015765 [==============================] - 350s 345us/step - loss: 1.1703 - acc: 0.5805 - val_loss: 1.2521 - val_acc: 0.5555\n",
      "Epoch 8/50\n",
      "1015765/1015765 [==============================] - 346s 341us/step - loss: 1.1531 - acc: 0.5867 - val_loss: 1.2597 - val_acc: 0.5550\n",
      "Epoch 9/50\n",
      "1015765/1015765 [==============================] - 348s 342us/step - loss: 1.1373 - acc: 0.5922 - val_loss: 1.2713 - val_acc: 0.5527\n",
      "training finish\n"
     ]
    }
   ],
   "source": [
    "#train the model\n",
    "history = model.fit(X_train, y_train, \n",
    "                    epochs=epochs, \n",
    "                    batch_size=batch_size, \n",
    "                    callbacks=[csv_logger,earlystopping,save_best],\n",
    "                    validation_data = (X_test, y_test))\n",
    "print('training finish')"
   ]
  },
  {
   "cell_type": "code",
   "execution_count": 23,
   "metadata": {},
   "outputs": [
    {
     "data": {
      "image/png": "[encoded data removed]",
      "text/plain": [
       "<Figure size 432x288 with 1 Axes>"
      ]
     },
     "metadata": {},
     "output_type": "display_data"
    },
    {
     "data": {
      "image/png": "[encoded data removed]",
      "text/plain": [
       "<Figure size 432x288 with 1 Axes>"
      ]
     },
     "metadata": {},
     "output_type": "display_data"
    }
   ],
   "source": [
    "def show_train_history(train_history, train, validation):\n",
    "    fig = plt.figure()\n",
    "    plt.plot(train_history.history[train])\n",
    "    plt.plot(train_history.history[validation])\n",
    "    plt.title('Train History')\n",
    "    plt.ylabel(train)\n",
    "    plt.xlabel('Epoch')\n",
    "    plt.legend(['train', 'validation'], loc='best')\n",
    "    \n",
    "\n",
    "\n",
    "show_train_history(history, 'acc', 'val_acc',)\n",
    "show_train_history(history, 'loss', 'val_loss')"
   ]
  },
  {
   "cell_type": "code",
   "execution_count": 24,
   "metadata": {},
   "outputs": [
    {
     "name": "stderr",
     "output_type": "stream",
     "text": [
      "C:\\Users\\user\\AppData\\Roaming\\Python\\Python36\\site-packages\\tensorflow\\python\\ops\\gradients_impl.py:97: UserWarning: Converting sparse IndexedSlices to a dense Tensor with 150000000 elements. This may consume a large amount of memory.\n",
      "  num_elements)\n"
     ]
    }
   ],
   "source": [
    "###predict on public test set and creat submission file\n",
    "###load the model\n",
    "SAVE_MODEL_DIR = \"best_val_loss.h5\"\n",
    "model = load_model(SAVE_MODEL_DIR)"
   ]
  },
  {
   "cell_type": "code",
   "execution_count": 25,
   "metadata": {},
   "outputs": [
    {
     "name": "stdout",
     "output_type": "stream",
     "text": [
      "              anger  anticipation  disgust  fear     joy  sadness  surprise  \\\n",
      "anger          3858           602     1824   114    2675     2496       108   \n",
      "anticipation    372         42399     2214   647   20885     4484       340   \n",
      "disgust        1219          1923    17416   498    9072    10074       507   \n",
      "fear            193          1499     1133  7467    5833     2337       175   \n",
      "joy             743         12027     4664  1324  118304     8765       763   \n",
      "sadness        1107          3127     7256   654   14332    29757       608   \n",
      "surprise        158           992     1567   258    4824     2643      3783   \n",
      "trust           290          6865     2245   417   28358     3546       272   \n",
      "\n",
      "              trust  \n",
      "anger           237  \n",
      "anticipation   3048  \n",
      "disgust         934  \n",
      "fear            489  \n",
      "joy            7343  \n",
      "sadness        1378  \n",
      "surprise        418  \n",
      "trust         19468  \n",
      "              precision    recall  f1-score   support\n",
      "\n",
      "       anger       0.49      0.32      0.39     11914\n",
      "anticipation       0.61      0.57      0.59     74389\n",
      "     disgust       0.45      0.42      0.44     41643\n",
      "        fear       0.66      0.39      0.49     19126\n",
      "         joy       0.58      0.77      0.66    153933\n",
      "     sadness       0.46      0.51      0.49     58219\n",
      "    surprise       0.58      0.26      0.36     14643\n",
      "       trust       0.58      0.32      0.41     61461\n",
      "\n",
      "   micro avg       0.56      0.56      0.56    435328\n",
      "   macro avg       0.55      0.44      0.48    435328\n",
      "weighted avg       0.56      0.56      0.54    435328\n",
      "\n"
     ]
    }
   ],
   "source": [
    "#confusion matrix\n",
    "from sklearn.metrics import confusion_matrix,classification_report\n",
    "y_true = label_decode(le,y_test)\n",
    "y_pred = model.predict(X_test, batch_size=512)\n",
    "y_pred = label_decode(le,y_pred)\n",
    "matrix = pd.DataFrame(confusion_matrix(y_true,y_pred,labels =le.classes_),\n",
    "                      index =le.classes_,columns =le.classes_)\n",
    "print(matrix)\n",
    "print(classification_report(y_true=y_true, y_pred=y_pred,target_names = le.classes_))"
   ]
  },
  {
   "cell_type": "code",
   "execution_count": 26,
   "metadata": {},
   "outputs": [
    {
     "data": {
      "text/html": [
       "<div>\n",
       "<style scoped>\n",
       "    .dataframe tbody tr th:only-of-type {\n",
       "        vertical-align: middle;\n",
       "    }\n",
       "\n",
       "    .dataframe tbody tr th {\n",
       "        vertical-align: top;\n",
       "    }\n",
       "\n",
       "    .dataframe thead th {\n",
       "        text-align: right;\n",
       "    }\n",
       "</style>\n",
       "<table border=\"1\" class=\"dataframe\">\n",
       "  <thead>\n",
       "    <tr style=\"text-align: right;\">\n",
       "      <th></th>\n",
       "      <th>index</th>\n",
       "      <th>id</th>\n",
       "      <th>emotion</th>\n",
       "    </tr>\n",
       "  </thead>\n",
       "  <tbody>\n",
       "    <tr>\n",
       "      <th>0</th>\n",
       "      <td>0</td>\n",
       "      <td>0x1c7f0f</td>\n",
       "      <td>disgust</td>\n",
       "    </tr>\n",
       "    <tr>\n",
       "      <th>1</th>\n",
       "      <td>1</td>\n",
       "      <td>0x1c7f12</td>\n",
       "      <td>joy</td>\n",
       "    </tr>\n",
       "    <tr>\n",
       "      <th>2</th>\n",
       "      <td>2</td>\n",
       "      <td>0x1c7f13</td>\n",
       "      <td>anticipation</td>\n",
       "    </tr>\n",
       "    <tr>\n",
       "      <th>3</th>\n",
       "      <td>3</td>\n",
       "      <td>0x1c7f17</td>\n",
       "      <td>anticipation</td>\n",
       "    </tr>\n",
       "    <tr>\n",
       "      <th>4</th>\n",
       "      <td>4</td>\n",
       "      <td>0x1c7f18</td>\n",
       "      <td>sadness</td>\n",
       "    </tr>\n",
       "  </tbody>\n",
       "</table>\n",
       "</div>"
      ],
      "text/plain": [
       "   index        id       emotion\n",
       "0      0  0x1c7f0f       disgust\n",
       "1      1  0x1c7f12           joy\n",
       "2      2  0x1c7f13  anticipation\n",
       "3      3  0x1c7f17  anticipation\n",
       "4      4  0x1c7f18       sadness"
      ]
     },
     "execution_count": 26,
     "metadata": {},
     "output_type": "execute_result"
    }
   ],
   "source": [
    "###tokenize test data and generate the sequence \n",
    "test_sequences = tokenizer.texts_to_sequences(testdata['text'])\n",
    "_testdata = pad_sequences(test_sequences, maxlen=sequence_len)\n",
    "pred_result = model.predict(_testdata, batch_size=512)\n",
    "pred_result = label_decode(le, pred_result)\n",
    "pred = pd.Series(pred_result)\n",
    "testdata.reset_index(inplace = True)\n",
    "testdata['emotion']=pred\n",
    "testdata.drop(['text'],axis = 1,inplace = True)\n",
    "testdata.to_csv('prediction.csv',index = 0)\n",
    "testdata[0:5]"
   ]
  },
  {
   "cell_type": "markdown",
   "metadata": {},
   "source": [
    "I finally got 0.44076 acc on kaggle competition.\n",
    "\n",
    "At first, I tried to stack serval Dense layers to build a fully-connected model,but it got bad performance(0.40~0.42)\n",
    "\n",
    "Then I tried SimpleRNN , LSTM,Bidirectional LSTM ,it slightly increase the acc(0.42~0.44)\n",
    "\n",
    "At last,I decided to cascade LSTM and CNN together and use the Google-news word2vec pre-trained model,because LSTM can learn the connection in texts,after that ,1D CNN can learn the spatial relationships in sequence.\n",
    "\n",
    "I use Dropout layer and GlobalAveragePooling layer ,in order to avoid from over-fitting.\n",
    "\n",
    "\n",
    "I discovered that different embedding output_dim(I thought that refer to the dimentionality of data),different units of each layer(CNN,LSTM,Dense),different hyperparameter(learning rate,batchsize),and use Early stopping in order to prevent from over-fitting\n",
    "\n",
    "this competition is quite challenging for me, but inspire me a lot\n",
    "\n",
    "Hope that I could do better in final project 👍"
   ]
  },
  {
   "cell_type": "markdown",
   "metadata": {},
   "source": [
    "###  > Forth - tidy up the code"
   ]
  },
  {
   "cell_type": "markdown",
   "metadata": {},
   "source": [
    "tks for watching"
   ]
  }
 ],
 "metadata": {
  "kernelspec": {
   "display_name": "Python 3",
   "language": "python",
   "name": "python3"
  },
  "language_info": {
   "codemirror_mode": {
    "name": "ipython",
    "version": 3
   },
   "file_extension": ".py",
   "mimetype": "text/x-python",
   "name": "python",
   "nbconvert_exporter": "python",
   "pygments_lexer": "ipython3",
   "version": "3.6.5"
  },
  "varInspector": {
   "cols": {
    "lenName": 16,
    "lenType": 16,
    "lenVar": 40
   },
   "kernels_config": {
    "python": {
     "delete_cmd_postfix": "",
     "delete_cmd_prefix": "del ",
     "library": "var_list.py",
     "varRefreshCmd": "print(var_dic_list())"
    },
    "r": {
     "delete_cmd_postfix": ") ",
     "delete_cmd_prefix": "rm(",
     "library": "var_list.r",
     "varRefreshCmd": "cat(var_dic_list()) "
    }
   },
   "types_to_exclude": [
    "module",
    "function",
    "builtin_function_or_method",
    "instance",
    "_Feature"
   ],
   "window_display": false
  }
 },
 "nbformat": 4,
 "nbformat_minor": 2
}
