{
 "cells": [
  {
   "cell_type": "markdown",
   "metadata": {},
   "source": [
    "### Student Information\n",
    "Name:\n",
    "鍾明遠\n",
    "\n",
    "Student ID:\n",
    "108011557\n",
    "\n",
    "GitHub ID:\n",
    "mchung0417\n",
    "\n",
    "Kaggle name:\n",
    "mchung0417\n",
    "\n",
    "Kaggle private scoreboard snapshot:\n",
    "\n",
    "[Snapshot](img/pic0.png)"
   ]
  },
  {
   "cell_type": "markdown",
   "metadata": {},
   "source": [
    "---"
   ]
  },
  {
   "cell_type": "markdown",
   "metadata": {},
   "source": [
    "### Instructions"
   ]
  },
  {
   "cell_type": "markdown",
   "metadata": {},
   "source": [
    "1. First: __This part is worth 30% of your grade.__ Do the **take home** exercises in the [DM19-Lab2-Master Repo](https://github.com/EvaArevalo/DM19-Lab2-Master). You may need to copy some cells from the Lab notebook to this notebook. \n",
    "\n",
    "\n",
    "2. Second: __This part is worth 30% of your grade.__ Participate in the in-class [Kaggle Competition](https://www.kaggle.com/t/179d01d4dd984fc5ac45a894822479dd) regarding Emotion Recognition on Twitter. The scoring will be given according to your place in the Private Leaderboard ranking: \n",
    "    - **Bottom 40%**: Get 20% of the score (ie. 20% of 30% )\n",
    "\n",
    "    - **Top 41% - 100%**: Get (101-x)% of the score, where x is your ranking in the leaderboard (ie. (101-x)% of 30% )   \n",
    "    Submit your last submission __BEFORE the deadline (Nov. 23rd 11:59 pm, Saturday)__. Make sure to take a screenshot of your position at the end of the competition and store it as '''pic0.png''' under the **img** folder of this repository and rerun the cell **Student Information**.\n",
    "    \n",
    "\n",
    "3. Third: __This part is worth 30% of your grade.__ A report of your work developping the model for the competition (You can use code and comment it). This report should include what your preprocessing steps, the feature engineering steps and an explanation of your model. You can also mention different things you tried and insights you gained. \n",
    "\n",
    "\n",
    "4. Fourth: __This part is worth 10% of your grade.__ It's hard for us to follow if your code is messy :'(, so please **tidy up your notebook** and **add minimal comments where needed**.\n",
    "\n",
    "\n",
    "You can submit your homework following these guidelines: [Git Intro & How to hand your homework](https://github.com/EvaArevalo/DM19-Lab1-Master/blob/master/Git%20Intro%20%26%20How%20to%20hand%20your%20homework.ipynb), but make sure to fork the [DM19-Lab2-Homework](https://github.com/EvaArevalo/DM19-Lab2-Homework) repository this time! Also please __DON´T UPLOAD HUGE DOCUMENTS__, please use Git ignore for that.\n",
    "\n",
    "Make sure to commit and save your changes to your repository __BEFORE the deadline (Nov. 26th 11:59 pm, Tuesday)__. "
   ]
  },
  {
   "cell_type": "code",
   "execution_count": 1,
   "metadata": {},
   "outputs": [],
   "source": [
    "### Begin Assignment Here"
   ]
  },
  {
   "cell_type": "markdown",
   "metadata": {},
   "source": [
    "### Second,Third -kaggle competition report"
   ]
  },
  {
   "cell_type": "markdown",
   "metadata": {},
   "source": [
    "before pre-processing, I do some privious work to generate the raw dataset from tweet_DM.json\n",
    "#step 1 :load tweet_DM.json and translate into raw set that only have 'tweet_id' and 'text' column\n",
    "#step 2 :according to 'data_identification.csv' spilt raw set into train set and test set\n",
    "#step 3 :merge 'emotion.csv' and train set on 'tweet_id',then it's time to do some pre-processing"
   ]
  },
  {
   "cell_type": "code",
   "execution_count": 5,
   "metadata": {},
   "outputs": [
    {
     "data": {
      "text/html": [
       "<div>\n",
       "<style scoped>\n",
       "    .dataframe tbody tr th:only-of-type {\n",
       "        vertical-align: middle;\n",
       "    }\n",
       "\n",
       "    .dataframe tbody tr th {\n",
       "        vertical-align: top;\n",
       "    }\n",
       "\n",
       "    .dataframe thead th {\n",
       "        text-align: right;\n",
       "    }\n",
       "</style>\n",
       "<table border=\"1\" class=\"dataframe\">\n",
       "  <thead>\n",
       "    <tr style=\"text-align: right;\">\n",
       "      <th></th>\n",
       "      <th>id</th>\n",
       "      <th>text</th>\n",
       "      <th>emotion</th>\n",
       "    </tr>\n",
       "  </thead>\n",
       "  <tbody>\n",
       "    <tr>\n",
       "      <th>0</th>\n",
       "      <td>0x30b1e3</td>\n",
       "      <td>Tomorrow is promised to no one, so cherish the...</td>\n",
       "      <td>anticipation\\r\\r</td>\n",
       "    </tr>\n",
       "    <tr>\n",
       "      <th>1</th>\n",
       "      <td>0x31dc09</td>\n",
       "      <td>In literature Snow symbolizes either death or ...</td>\n",
       "      <td>joy\\r\\r</td>\n",
       "    </tr>\n",
       "    <tr>\n",
       "      <th>2</th>\n",
       "      <td>0x36c550</td>\n",
       "      <td>@Rachael_Swindon We live in a godless world of...</td>\n",
       "      <td>joy\\r\\r</td>\n",
       "    </tr>\n",
       "    <tr>\n",
       "      <th>3</th>\n",
       "      <td>0x27fdae</td>\n",
       "      <td>When u forget to turn on ur alarm but a truck ...</td>\n",
       "      <td>joy\\r\\r</td>\n",
       "    </tr>\n",
       "    <tr>\n",
       "      <th>4</th>\n",
       "      <td>0x24c2e6</td>\n",
       "      <td>Who the fuck gives vegemite sandwiches and smi...</td>\n",
       "      <td>disgust\\r\\r</td>\n",
       "    </tr>\n",
       "  </tbody>\n",
       "</table>\n",
       "</div>"
      ],
      "text/plain": [
       "         id                                               text  \\\n",
       "0  0x30b1e3  Tomorrow is promised to no one, so cherish the...   \n",
       "1  0x31dc09  In literature Snow symbolizes either death or ...   \n",
       "2  0x36c550  @Rachael_Swindon We live in a godless world of...   \n",
       "3  0x27fdae  When u forget to turn on ur alarm but a truck ...   \n",
       "4  0x24c2e6  Who the fuck gives vegemite sandwiches and smi...   \n",
       "\n",
       "            emotion  \n",
       "0  anticipation\\r\\r  \n",
       "1           joy\\r\\r  \n",
       "2           joy\\r\\r  \n",
       "3           joy\\r\\r  \n",
       "4       disgust\\r\\r  "
      ]
     },
     "execution_count": 5,
     "metadata": {},
     "output_type": "execute_result"
    }
   ],
   "source": [
    "###pre-processing\n",
    "import pandas as pd\n",
    "df = pd.read_csv('trainset_sample.csv',lineterminator = '\\n')\n",
    "#df = pd.read_csv('testset_sample.csv',lineterminator = '\\n')\n",
    "df.columns = ['id','text','emotion']\n",
    "df[0:5]"
   ]
  },
  {
   "cell_type": "code",
   "execution_count": 7,
   "metadata": {},
   "outputs": [
    {
     "data": {
      "text/html": [
       "<div>\n",
       "<style scoped>\n",
       "    .dataframe tbody tr th:only-of-type {\n",
       "        vertical-align: middle;\n",
       "    }\n",
       "\n",
       "    .dataframe tbody tr th {\n",
       "        vertical-align: top;\n",
       "    }\n",
       "\n",
       "    .dataframe thead th {\n",
       "        text-align: right;\n",
       "    }\n",
       "</style>\n",
       "<table border=\"1\" class=\"dataframe\">\n",
       "  <thead>\n",
       "    <tr style=\"text-align: right;\">\n",
       "      <th></th>\n",
       "      <th>id</th>\n",
       "      <th>text</th>\n",
       "      <th>emotion</th>\n",
       "    </tr>\n",
       "  </thead>\n",
       "  <tbody>\n",
       "    <tr>\n",
       "      <th>0</th>\n",
       "      <td>0x30b1e3</td>\n",
       "      <td>Tomorrow is promised to no one, so cherish the...</td>\n",
       "      <td>anticipation</td>\n",
       "    </tr>\n",
       "    <tr>\n",
       "      <th>1</th>\n",
       "      <td>0x31dc09</td>\n",
       "      <td>In literature Snow symbolizes either death or ...</td>\n",
       "      <td>joy</td>\n",
       "    </tr>\n",
       "    <tr>\n",
       "      <th>2</th>\n",
       "      <td>0x36c550</td>\n",
       "      <td>@Rachael_Swindon We live in a godless world of...</td>\n",
       "      <td>joy</td>\n",
       "    </tr>\n",
       "    <tr>\n",
       "      <th>3</th>\n",
       "      <td>0x27fdae</td>\n",
       "      <td>When u forget to turn on ur alarm but a truck ...</td>\n",
       "      <td>joy</td>\n",
       "    </tr>\n",
       "    <tr>\n",
       "      <th>4</th>\n",
       "      <td>0x24c2e6</td>\n",
       "      <td>Who the fuck gives vegemite sandwiches and smi...</td>\n",
       "      <td>disgust</td>\n",
       "    </tr>\n",
       "  </tbody>\n",
       "</table>\n",
       "</div>"
      ],
      "text/plain": [
       "         id                                               text       emotion\n",
       "0  0x30b1e3  Tomorrow is promised to no one, so cherish the...  anticipation\n",
       "1  0x31dc09  In literature Snow symbolizes either death or ...           joy\n",
       "2  0x36c550  @Rachael_Swindon We live in a godless world of...           joy\n",
       "3  0x27fdae  When u forget to turn on ur alarm but a truck ...           joy\n",
       "4  0x24c2e6  Who the fuck gives vegemite sandwiches and smi...       disgust"
      ]
     },
     "execution_count": 7,
     "metadata": {},
     "output_type": "execute_result"
    }
   ],
   "source": [
    "df['emotion']=df['emotion'].apply(lambda x:x.replace('\\r',''))\n",
    "df[0:5]"
   ]
  },
  {
   "cell_type": "code",
   "execution_count": 8,
   "metadata": {},
   "outputs": [
    {
     "data": {
      "text/html": [
       "<div>\n",
       "<style scoped>\n",
       "    .dataframe tbody tr th:only-of-type {\n",
       "        vertical-align: middle;\n",
       "    }\n",
       "\n",
       "    .dataframe tbody tr th {\n",
       "        vertical-align: top;\n",
       "    }\n",
       "\n",
       "    .dataframe thead th {\n",
       "        text-align: right;\n",
       "    }\n",
       "</style>\n",
       "<table border=\"1\" class=\"dataframe\">\n",
       "  <thead>\n",
       "    <tr style=\"text-align: right;\">\n",
       "      <th></th>\n",
       "      <th>id</th>\n",
       "      <th>text</th>\n",
       "      <th>emotion</th>\n",
       "    </tr>\n",
       "  </thead>\n",
       "  <tbody>\n",
       "    <tr>\n",
       "      <th>0</th>\n",
       "      <td>0x30b1e3</td>\n",
       "      <td>Tomorrow is promised to no one, so cherish the...</td>\n",
       "      <td>anticipation</td>\n",
       "    </tr>\n",
       "    <tr>\n",
       "      <th>1</th>\n",
       "      <td>0x31dc09</td>\n",
       "      <td>In literature Snow symbolizes either death or ...</td>\n",
       "      <td>joy</td>\n",
       "    </tr>\n",
       "    <tr>\n",
       "      <th>2</th>\n",
       "      <td>0x36c550</td>\n",
       "      <td>We live in a godless world of  greed and  pe...</td>\n",
       "      <td>joy</td>\n",
       "    </tr>\n",
       "    <tr>\n",
       "      <th>3</th>\n",
       "      <td>0x27fdae</td>\n",
       "      <td>When u forget to turn on ur alarm but a truck ...</td>\n",
       "      <td>joy</td>\n",
       "    </tr>\n",
       "    <tr>\n",
       "      <th>4</th>\n",
       "      <td>0x24c2e6</td>\n",
       "      <td>Who the fuck gives vegemite sandwiches and smi...</td>\n",
       "      <td>disgust</td>\n",
       "    </tr>\n",
       "  </tbody>\n",
       "</table>\n",
       "</div>"
      ],
      "text/plain": [
       "         id                                               text       emotion\n",
       "0  0x30b1e3  Tomorrow is promised to no one, so cherish the...  anticipation\n",
       "1  0x31dc09  In literature Snow symbolizes either death or ...           joy\n",
       "2  0x36c550    We live in a godless world of  greed and  pe...           joy\n",
       "3  0x27fdae  When u forget to turn on ur alarm but a truck ...           joy\n",
       "4  0x24c2e6  Who the fuck gives vegemite sandwiches and smi...       disgust"
      ]
     },
     "execution_count": 8,
     "metadata": {},
     "output_type": "execute_result"
    }
   ],
   "source": [
    "###remove @blahblah ,numbers,hashtag and <LH>\n",
    "import re\n",
    "import numpy as np\n",
    "def remove_pattern(input_txt,pattern):\n",
    "    r = re.findall(pattern,input_txt)\n",
    "    for i in r:\n",
    "        input_txt = re.sub(i,' ',input_txt)\n",
    "    return input_txt\n",
    "df['text']=np.vectorize(remove_pattern)(df['text'],'@[\\w]*')\n",
    "df['text']=np.vectorize(remove_pattern)(df['text'],'<LH>')\n",
    "df['text']=np.vectorize(remove_pattern)(df['text'],'#')\n",
    "df['text']=np.vectorize(remove_pattern)(df['text'],'[0-9]')\n",
    "df[0:5]"
   ]
  },
  {
   "cell_type": "code",
   "execution_count": 9,
   "metadata": {},
   "outputs": [
    {
     "data": {
      "text/html": [
       "<div>\n",
       "<style scoped>\n",
       "    .dataframe tbody tr th:only-of-type {\n",
       "        vertical-align: middle;\n",
       "    }\n",
       "\n",
       "    .dataframe tbody tr th {\n",
       "        vertical-align: top;\n",
       "    }\n",
       "\n",
       "    .dataframe thead th {\n",
       "        text-align: right;\n",
       "    }\n",
       "</style>\n",
       "<table border=\"1\" class=\"dataframe\">\n",
       "  <thead>\n",
       "    <tr style=\"text-align: right;\">\n",
       "      <th></th>\n",
       "      <th>id</th>\n",
       "      <th>text</th>\n",
       "      <th>emotion</th>\n",
       "    </tr>\n",
       "  </thead>\n",
       "  <tbody>\n",
       "    <tr>\n",
       "      <th>0</th>\n",
       "      <td>0x30b1e3</td>\n",
       "      <td>[tomorrow, is, promised, to, no, one, ,, so, c...</td>\n",
       "      <td>anticipation</td>\n",
       "    </tr>\n",
       "    <tr>\n",
       "      <th>1</th>\n",
       "      <td>0x31dc09</td>\n",
       "      <td>[in, literature, snow, symbolizes, either, dea...</td>\n",
       "      <td>joy</td>\n",
       "    </tr>\n",
       "    <tr>\n",
       "      <th>2</th>\n",
       "      <td>0x36c550</td>\n",
       "      <td>[we, live, in, a, godless, world, of, greed, a...</td>\n",
       "      <td>joy</td>\n",
       "    </tr>\n",
       "    <tr>\n",
       "      <th>3</th>\n",
       "      <td>0x27fdae</td>\n",
       "      <td>[when, u, forget, to, turn, on, ur, alarm, but...</td>\n",
       "      <td>joy</td>\n",
       "    </tr>\n",
       "    <tr>\n",
       "      <th>4</th>\n",
       "      <td>0x24c2e6</td>\n",
       "      <td>[who, the, fuck, gives, vegemite, sandwiches, ...</td>\n",
       "      <td>disgust</td>\n",
       "    </tr>\n",
       "  </tbody>\n",
       "</table>\n",
       "</div>"
      ],
      "text/plain": [
       "         id                                               text       emotion\n",
       "0  0x30b1e3  [tomorrow, is, promised, to, no, one, ,, so, c...  anticipation\n",
       "1  0x31dc09  [in, literature, snow, symbolizes, either, dea...           joy\n",
       "2  0x36c550  [we, live, in, a, godless, world, of, greed, a...           joy\n",
       "3  0x27fdae  [when, u, forget, to, turn, on, ur, alarm, but...           joy\n",
       "4  0x24c2e6  [who, the, fuck, gives, vegemite, sandwiches, ...       disgust"
      ]
     },
     "execution_count": 9,
     "metadata": {},
     "output_type": "execute_result"
    }
   ],
   "source": [
    "###tokenization,use tweet tokenizer\n",
    "from nltk.tokenize import TweetTokenizer\n",
    "token = TweetTokenizer(reduce_len = True)\n",
    "df['text']=df['text'].str.lower()\n",
    "df['text']=df['text'].apply(lambda x :token.tokenize(x))\n",
    "df[0:5]"
   ]
  },
  {
   "cell_type": "code",
   "execution_count": 10,
   "metadata": {},
   "outputs": [
    {
     "data": {
      "text/html": [
       "<div>\n",
       "<style scoped>\n",
       "    .dataframe tbody tr th:only-of-type {\n",
       "        vertical-align: middle;\n",
       "    }\n",
       "\n",
       "    .dataframe tbody tr th {\n",
       "        vertical-align: top;\n",
       "    }\n",
       "\n",
       "    .dataframe thead th {\n",
       "        text-align: right;\n",
       "    }\n",
       "</style>\n",
       "<table border=\"1\" class=\"dataframe\">\n",
       "  <thead>\n",
       "    <tr style=\"text-align: right;\">\n",
       "      <th></th>\n",
       "      <th>id</th>\n",
       "      <th>text</th>\n",
       "      <th>emotion</th>\n",
       "    </tr>\n",
       "  </thead>\n",
       "  <tbody>\n",
       "    <tr>\n",
       "      <th>0</th>\n",
       "      <td>0x30b1e3</td>\n",
       "      <td>[tomorrow, promised, one, cherish, people, pla...</td>\n",
       "      <td>anticipation</td>\n",
       "    </tr>\n",
       "    <tr>\n",
       "      <th>1</th>\n",
       "      <td>0x31dc09</td>\n",
       "      <td>[literature, snow, symbolizes, either, death, ...</td>\n",
       "      <td>joy</td>\n",
       "    </tr>\n",
       "    <tr>\n",
       "      <th>2</th>\n",
       "      <td>0x36c550</td>\n",
       "      <td>[live, godless, world, greed, perversion, into...</td>\n",
       "      <td>joy</td>\n",
       "    </tr>\n",
       "    <tr>\n",
       "      <th>3</th>\n",
       "      <td>0x27fdae</td>\n",
       "      <td>[u, forget, turn, ur, alarm, truck, starts, lo...</td>\n",
       "      <td>joy</td>\n",
       "    </tr>\n",
       "    <tr>\n",
       "      <th>4</th>\n",
       "      <td>0x24c2e6</td>\n",
       "      <td>[fuck, gives, vegemite, sandwiches, smiles, co...</td>\n",
       "      <td>disgust</td>\n",
       "    </tr>\n",
       "  </tbody>\n",
       "</table>\n",
       "</div>"
      ],
      "text/plain": [
       "         id                                               text       emotion\n",
       "0  0x30b1e3  [tomorrow, promised, one, cherish, people, pla...  anticipation\n",
       "1  0x31dc09  [literature, snow, symbolizes, either, death, ...           joy\n",
       "2  0x36c550  [live, godless, world, greed, perversion, into...           joy\n",
       "3  0x27fdae  [u, forget, turn, ur, alarm, truck, starts, lo...           joy\n",
       "4  0x24c2e6  [fuck, gives, vegemite, sandwiches, smiles, co...       disgust"
      ]
     },
     "execution_count": 10,
     "metadata": {},
     "output_type": "execute_result"
    }
   ],
   "source": [
    "###remove stopwords and punctuation \n",
    "from nltk.corpus import stopwords\n",
    "import string\n",
    "stop = stopwords.words('english')\n",
    "df['text']=df['text'].apply(lambda x :[item for item in x if item not in stop])\n",
    "punctuation = list(string.punctuation)\n",
    "punctuation.append('...')\n",
    "df['text']=df['text'].apply(lambda x :[item for item in x if item not in punctuation])\n",
    "df[0:5]"
   ]
  },
  {
   "cell_type": "code",
   "execution_count": 11,
   "metadata": {},
   "outputs": [
    {
     "data": {
      "text/html": [
       "<div>\n",
       "<style scoped>\n",
       "    .dataframe tbody tr th:only-of-type {\n",
       "        vertical-align: middle;\n",
       "    }\n",
       "\n",
       "    .dataframe tbody tr th {\n",
       "        vertical-align: top;\n",
       "    }\n",
       "\n",
       "    .dataframe thead th {\n",
       "        text-align: right;\n",
       "    }\n",
       "</style>\n",
       "<table border=\"1\" class=\"dataframe\">\n",
       "  <thead>\n",
       "    <tr style=\"text-align: right;\">\n",
       "      <th></th>\n",
       "      <th>id</th>\n",
       "      <th>text</th>\n",
       "      <th>emotion</th>\n",
       "    </tr>\n",
       "  </thead>\n",
       "  <tbody>\n",
       "    <tr>\n",
       "      <th>0</th>\n",
       "      <td>0x30b1e3</td>\n",
       "      <td>tomorrow promis one cherish peopl place life t...</td>\n",
       "      <td>anticipation</td>\n",
       "    </tr>\n",
       "    <tr>\n",
       "      <th>1</th>\n",
       "      <td>0x31dc09</td>\n",
       "      <td>literatur snow symbol either death new begin s...</td>\n",
       "      <td>joy</td>\n",
       "    </tr>\n",
       "    <tr>\n",
       "      <th>2</th>\n",
       "      <td>0x36c550</td>\n",
       "      <td>live godless world greed pervers intoler inste...</td>\n",
       "      <td>joy</td>\n",
       "    </tr>\n",
       "    <tr>\n",
       "      <th>3</th>\n",
       "      <td>0x27fdae</td>\n",
       "      <td>u forget turn ur alarm truck start loudli back...</td>\n",
       "      <td>joy</td>\n",
       "    </tr>\n",
       "    <tr>\n",
       "      <th>4</th>\n",
       "      <td>0x24c2e6</td>\n",
       "      <td>fuck give vegemit sandwich smile consid act ag...</td>\n",
       "      <td>disgust</td>\n",
       "    </tr>\n",
       "  </tbody>\n",
       "</table>\n",
       "</div>"
      ],
      "text/plain": [
       "         id                                               text       emotion\n",
       "0  0x30b1e3  tomorrow promis one cherish peopl place life t...  anticipation\n",
       "1  0x31dc09  literatur snow symbol either death new begin s...           joy\n",
       "2  0x36c550  live godless world greed pervers intoler inste...           joy\n",
       "3  0x27fdae  u forget turn ur alarm truck start loudli back...           joy\n",
       "4  0x24c2e6  fuck give vegemit sandwich smile consid act ag...       disgust"
      ]
     },
     "execution_count": 11,
     "metadata": {},
     "output_type": "execute_result"
    }
   ],
   "source": [
    "###stemming\n",
    "from nltk.stem.porter import PorterStemmer\n",
    "stemmer = PorterStemmer()\n",
    "df['text']=df['text'].apply(lambda x:[stemmer.stem(i) for i in x])\n",
    "df[0:5]\n",
    "#stitch tokens back together\n",
    "df['text']=df['text'].apply(lambda x:' '.join(x))\n",
    "df[0:5]"
   ]
  },
  {
   "cell_type": "code",
   "execution_count": 12,
   "metadata": {},
   "outputs": [],
   "source": [
    "###save the clean set in order to train\n",
    "#df.to_csv('cleantrain_set.csv',index = 0)\n",
    "#df.to_csv('cleantest_set.csv',index = 0)"
   ]
  },
  {
   "cell_type": "markdown",
   "metadata": {},
   "source": [
    "after pre-processing, I try to build a CNN-LSTM model to do the task\n",
    "\n",
    "but due to memory issue,I just sample a part of data to display my model"
   ]
  },
  {
   "cell_type": "code",
   "execution_count": 70,
   "metadata": {},
   "outputs": [
    {
     "name": "stdout",
     "output_type": "stream",
     "text": [
      "null in data:\n",
      " id          0\n",
      "text       13\n",
      "emotion     0\n",
      "dtype: int64\n",
      "null in testdata:\n",
      " id      0\n",
      "text    1\n",
      "dtype: int64\n"
     ]
    }
   ],
   "source": [
    "import keras\n",
    "###load training,testing set,dealwith null value(due to pre-processing)\n",
    "data = pd.read_csv('cleantrain_set.csv')\n",
    "data = data.sample(n=5000)\n",
    "testdata = pd.read_csv('cleantest_set.csv')\n",
    "testdata = testdata.sample(n=1000)\n",
    "\n",
    "print('null in data:\\n',np.sum(data.isnull()))\n",
    "print('null in testdata:\\n',np.sum(testdata.isnull()))"
   ]
  },
  {
   "cell_type": "code",
   "execution_count": 71,
   "metadata": {},
   "outputs": [
    {
     "name": "stdout",
     "output_type": "stream",
     "text": [
      "null in data:\n",
      " id         0\n",
      "text       0\n",
      "emotion    0\n",
      "dtype: int64\n",
      "null in testdata:\n",
      " id      0\n",
      "text    0\n",
      "dtype: int64\n"
     ]
    }
   ],
   "source": [
    "data.dropna(inplace = True)\n",
    "testdata.fillna('thisisnull',inplace=True)\n",
    "print('null in data:\\n',np.sum(data.isnull()))\n",
    "print('null in testdata:\\n',np.sum(testdata.isnull()))"
   ]
  },
  {
   "cell_type": "code",
   "execution_count": 72,
   "metadata": {},
   "outputs": [
    {
     "data": {
      "text/plain": [
       "[[2333, 518, 216, 389, 110],\n",
       " [1450, 519, 1051, 633, 3522, 1774, 769, 770, 3523, 634],\n",
       " [570, 3524, 692, 1216, 1775, 161, 1776, 362, 23, 54, 390, 693, 265, 1052],\n",
       " [2334, 694, 5, 2335, 301, 2336, 17, 17, 17, 2337, 771, 2338, 175, 931],\n",
       " [4, 9, 340, 772, 11, 571, 845, 443, 635]]"
      ]
     },
     "execution_count": 72,
     "metadata": {},
     "output_type": "execute_result"
    }
   ],
   "source": [
    "### Create sequence\n",
    "from keras.preprocessing.text import Tokenizer\n",
    "#take most often 5000 words to word_dic\n",
    "vocabulary_size = 5000 \n",
    "tokenizer = Tokenizer(num_words= vocabulary_size)\n",
    "tokenizer.fit_on_texts(data['text'])\n",
    "#transform words to a sequence\n",
    "sequences = tokenizer.texts_to_sequences(data['text'])\n",
    "sequences[0:5]"
   ]
  },
  {
   "cell_type": "code",
   "execution_count": 73,
   "metadata": {},
   "outputs": [
    {
     "data": {
      "text/plain": [
       "<Figure size 576x432 with 0 Axes>"
      ]
     },
     "metadata": {},
     "output_type": "display_data"
    },
    {
     "data": {
      "image/png": "[encoded data removed]",
      "text/plain": [
       "<Figure size 432x288 with 1 Axes>"
      ]
     },
     "metadata": {},
     "output_type": "display_data"
    }
   ],
   "source": [
    "###check length of sequence\n",
    "import matplotlib.pyplot as plt\n",
    "text_len = [len(x) for x in sequences]\n",
    "histo = pd.Series(text_len).value_counts()\n",
    "histo.sort_index(inplace=True)\n",
    "histo = pd.DataFrame(histo,columns = ['counts'])\n",
    "plt.figure(figsize=(8,6))\n",
    "histo[0:25].plot.bar()\n",
    "plt.xticks(rotation=360)\n",
    "plt.title('sequences length')\n",
    "plt.show()"
   ]
  },
  {
   "cell_type": "code",
   "execution_count": 74,
   "metadata": {},
   "outputs": [
    {
     "data": {
      "text/plain": [
       "array([[   0,    0,    0, 2333,  518,  216,  389,  110],\n",
       "       [1051,  633, 3522, 1774,  769,  770, 3523,  634],\n",
       "       [1776,  362,   23,   54,  390,  693,  265, 1052],\n",
       "       [  17,   17,   17, 2337,  771, 2338,  175,  931]])"
      ]
     },
     "execution_count": 74,
     "metadata": {},
     "output_type": "execute_result"
    }
   ],
   "source": [
    "#pad or cut each sequence to proper length\n",
    "sequence_len = int(8) \n",
    "from keras.preprocessing.sequence import pad_sequences\n",
    "train = pad_sequences(sequences, maxlen=sequence_len)\n",
    "train[0:4]"
   ]
  },
  {
   "cell_type": "code",
   "execution_count": 75,
   "metadata": {},
   "outputs": [
    {
     "name": "stdout",
     "output_type": "stream",
     "text": [
      "check label: \n",
      " ['anger' 'anticipation' 'disgust' 'fear' 'joy' 'sadness' 'surprise'\n",
      " 'trust']\n",
      "\n",
      "### Before convert\n",
      "data[emotion]:\n",
      " 1095175    anticipation\n",
      "1348611             joy\n",
      "1251743           anger\n",
      "14445               joy\n",
      "362125            anger\n",
      "Name: emotion, dtype: object\n",
      "\n",
      " data[emotion].shape:  (4987,)\n",
      "\n",
      "\n",
      "### After convert\n",
      "data_label:\n",
      " [[0. 1. 0. 0. 0. 0. 0. 0.]\n",
      " [0. 0. 0. 0. 1. 0. 0. 0.]\n",
      " [1. 0. 0. 0. 0. 0. 0. 0.]\n",
      " [0. 0. 0. 0. 1. 0. 0. 0.]\n",
      " [1. 0. 0. 0. 0. 0. 0. 0.]]\n",
      "\n",
      " data_label.shape:  (4987, 8)\n"
     ]
    }
   ],
   "source": [
    "###Label encoding\n",
    "from sklearn import preprocessing\n",
    "le = preprocessing.LabelEncoder()\n",
    "le.fit(data['emotion'])\n",
    "print('check label: \\n', le.classes_)\n",
    "print('\\n### Before convert')\n",
    "print('data[emotion]:\\n', data['emotion'][0:5])\n",
    "print('\\n data[emotion].shape: ', data['emotion'].shape)\n",
    "#transform sentumental label to one-hot label\n",
    "def label_encode(le, labels):\n",
    "    enc = le.transform(labels)\n",
    "    return keras.utils.to_categorical(enc)\n",
    "def label_decode(le, one_hot_label):\n",
    "    dec = np.argmax(one_hot_label, axis=1)\n",
    "    return le.inverse_transform(dec)\n",
    "data_label = label_encode(le, data['emotion'])\n",
    "print('\\n\\n### After convert')\n",
    "print('data_label:\\n', data_label[0:5])\n",
    "print('\\n data_label.shape: ', data_label.shape)"
   ]
  },
  {
   "cell_type": "code",
   "execution_count": 76,
   "metadata": {},
   "outputs": [
    {
     "name": "stdout",
     "output_type": "stream",
     "text": [
      "train data_size: (3740, 8)\n",
      "test data_size: (1247, 8)\n"
     ]
    }
   ],
   "source": [
    "###split train,valid set\n",
    "from sklearn.model_selection import train_test_split\n",
    "X_train, X_test, y_train, y_test = train_test_split(train, data_label, \n",
    "                                                    test_size=0.25,shuffle = True,random_state = 17)\n",
    "print('train data_size:', X_train.shape)\n",
    "print('test data_size:', X_test.shape)"
   ]
  },
  {
   "cell_type": "code",
   "execution_count": 77,
   "metadata": {},
   "outputs": [
    {
     "name": "stdout",
     "output_type": "stream",
     "text": [
      "input_shape:  8\n",
      "output_shape:  8\n"
     ]
    }
   ],
   "source": [
    "###deep learning\n",
    "#input is padded sequence,output is one-hot label\n",
    "input_shape = X_train.shape[1]\n",
    "print('input_shape: ', input_shape)\n",
    "output_shape = len(le.classes_)\n",
    "print('output_shape: ', output_shape)"
   ]
  },
  {
   "cell_type": "code",
   "execution_count": 78,
   "metadata": {},
   "outputs": [],
   "source": [
    "#import the package we needed\n",
    "from keras.models import Model\n",
    "from keras.layers.core import Dense, Dropout\n",
    "from keras.layers.embeddings import Embedding\n",
    "from keras.layers import LSTM,Activation,concatenate,Input\n",
    "from keras.models import load_model\n",
    "from keras import optimizers \n",
    "from keras.layers.normalization import BatchNormalization\n",
    "from keras.layers.convolutional import Conv1D,MaxPooling1D\n",
    "from keras.callbacks import CSVLogger,EarlyStopping,ModelCheckpoint\n",
    "csv_logger = CSVLogger('training_log.csv')"
   ]
  },
  {
   "cell_type": "code",
   "execution_count": 79,
   "metadata": {},
   "outputs": [],
   "source": [
    "###use GPU to accelerate training\n",
    "#import os\n",
    "#os.environ[\"CUDA_DEVICE_ORDER\"] = \"PCI_BUS_ID\"\n",
    "#os.environ['CUDA_VISIBLE_DEVICES'] = '0'"
   ]
  },
  {
   "cell_type": "code",
   "execution_count": 80,
   "metadata": {},
   "outputs": [
    {
     "name": "stdout",
     "output_type": "stream",
     "text": [
      "__________________________________________________________________________________________________\n",
      "Layer (type)                    Output Shape         Param #     Connected to                     \n",
      "==================================================================================================\n",
      "input_3 (InputLayer)            (None, 8)            0                                            \n",
      "__________________________________________________________________________________________________\n",
      "embedding_3 (Embedding)         (None, 8, 32)        160032      input_3[0][0]                    \n",
      "__________________________________________________________________________________________________\n",
      "batch_normalization_7 (BatchNor (None, 8, 32)        128         embedding_3[0][0]                \n",
      "__________________________________________________________________________________________________\n",
      "conv1d_7 (Conv1D)               (None, 8, 64)        4160        batch_normalization_7[0][0]      \n",
      "__________________________________________________________________________________________________\n",
      "conv1d_8 (Conv1D)               (None, 8, 64)        6208        batch_normalization_7[0][0]      \n",
      "__________________________________________________________________________________________________\n",
      "conv1d_9 (Conv1D)               (None, 8, 64)        12352       batch_normalization_7[0][0]      \n",
      "__________________________________________________________________________________________________\n",
      "max_pooling1d_7 (MaxPooling1D)  (None, 4, 64)        0           conv1d_7[0][0]                   \n",
      "__________________________________________________________________________________________________\n",
      "max_pooling1d_8 (MaxPooling1D)  (None, 4, 64)        0           conv1d_8[0][0]                   \n",
      "__________________________________________________________________________________________________\n",
      "max_pooling1d_9 (MaxPooling1D)  (None, 8, 64)        0           conv1d_9[0][0]                   \n",
      "__________________________________________________________________________________________________\n",
      "concatenate_3 (Concatenate)     (None, 16, 64)       0           max_pooling1d_7[0][0]            \n",
      "                                                                 max_pooling1d_8[0][0]            \n",
      "                                                                 max_pooling1d_9[0][0]            \n",
      "__________________________________________________________________________________________________\n",
      "lstm_3 (LSTM)                   (None, 128)          98816       concatenate_3[0][0]              \n",
      "__________________________________________________________________________________________________\n",
      "batch_normalization_8 (BatchNor (None, 128)          512         lstm_3[0][0]                     \n",
      "__________________________________________________________________________________________________\n",
      "dense_5 (Dense)                 (None, 512)          66048       batch_normalization_8[0][0]      \n",
      "__________________________________________________________________________________________________\n",
      "batch_normalization_9 (BatchNor (None, 512)          2048        dense_5[0][0]                    \n",
      "__________________________________________________________________________________________________\n",
      "activation_3 (Activation)       (None, 512)          0           batch_normalization_9[0][0]      \n",
      "__________________________________________________________________________________________________\n",
      "dropout_3 (Dropout)             (None, 512)          0           activation_3[0][0]               \n",
      "__________________________________________________________________________________________________\n",
      "dense_6 (Dense)                 (None, 8)            4104        dropout_3[0][0]                  \n",
      "==================================================================================================\n",
      "Total params: 354,408\n",
      "Trainable params: 353,064\n",
      "Non-trainable params: 1,344\n",
      "__________________________________________________________________________________________________\n",
      "None\n"
     ]
    }
   ],
   "source": [
    "#hyper parameters\n",
    "learning_rate = 0.001\n",
    "epochs = 50\n",
    "batch_size = 512\n",
    "#build CNN-LSTM model\n",
    "model_input = Input(shape = (input_shape,))\n",
    "embed = Embedding(output_dim=32,\n",
    "                    input_dim=vocabulary_size+1, \n",
    "                    input_length=input_shape)(model_input)\n",
    "BN1 = BatchNormalization()(embed)\n",
    "cnn2=Conv1D(filters=64, kernel_size=2,padding='same',activation='relu')(BN1)                     \n",
    "MP2 = MaxPooling1D(pool_size=2)(cnn2)\n",
    "cnn3=Conv1D(filters=64, kernel_size=3,padding='same',activation='relu')(BN1)                \n",
    "MP3 = MaxPooling1D(pool_size=2)(cnn3)\n",
    "cnnn=Conv1D(filters=64, kernel_size=6,padding='same',activation='relu')(BN1)                    \n",
    "MPn = MaxPooling1D(pool_size=1)(cnnn)\n",
    "cnn_out = concatenate([MP2,MP3,MPn], axis=-2)\n",
    "LSTM1 = LSTM(units=128,unroll = True, recurrent_initializer='orthogonal',\n",
    "             return_sequences=False,\n",
    "               dropout=0.2, recurrent_dropout=0.2)(cnn_out)\n",
    "LSTM1_BN = BatchNormalization()(LSTM1)\n",
    "FC1 = Dense(units=512)(LSTM1_BN)\n",
    "FC1_BN = BatchNormalization()(FC1)\n",
    "Activate  = Activation('relu')(FC1_BN)\n",
    "Drop = Dropout(0.5)(Activate)\n",
    "FC2 = Dense(units=output_shape,activation='softmax' )(Drop)\n",
    "model = Model(inputs=model_input, outputs=FC2)\n",
    "print(model.summary())\n"
   ]
  },
  {
   "cell_type": "code",
   "execution_count": 81,
   "metadata": {},
   "outputs": [],
   "source": [
    "# define loss function & optimizer\n",
    "adam = optimizers.Adam(lr=learning_rate)\n",
    "model.compile(optimizer='adam',\n",
    "              loss='categorical_crossentropy',\n",
    "              metrics=['accuracy'])"
   ]
  },
  {
   "cell_type": "code",
   "execution_count": 82,
   "metadata": {},
   "outputs": [],
   "source": [
    "###callback csv_logger,Modelcheckpoint and Earlystopping\n",
    "earlystopping=EarlyStopping(monitor='val_loss', patience=5, verbose=0, mode='auto')\n",
    "#BEST_MODEL_DIR = \"C:/Users/user/Downloads/DMHW2/best_lstm.h5\"\n",
    "#save_best = ModelCheckpoint(BEST_MODEL_DIR, monitor='val_loss', verbose=0,\n",
    "#                            save_best_only=True, save_weights_only=False, mode='auto', period=1)"
   ]
  },
  {
   "cell_type": "code",
   "execution_count": 83,
   "metadata": {},
   "outputs": [
    {
     "name": "stdout",
     "output_type": "stream",
     "text": [
      "Train on 3740 samples, validate on 1247 samples\n",
      "Epoch 1/50\n",
      "3740/3740 [==============================] - 9s 2ms/step - loss: 2.4977 - acc: 0.1797 - val_loss: 1.8246 - val_acc: 0.3336\n",
      "Epoch 2/50\n",
      "3740/3740 [==============================] - 1s 266us/step - loss: 2.1615 - acc: 0.3008 - val_loss: 1.7955 - val_acc: 0.3432\n",
      "Epoch 3/50\n",
      "3740/3740 [==============================] - 1s 267us/step - loss: 2.0022 - acc: 0.3190 - val_loss: 1.7735 - val_acc: 0.3376\n",
      "Epoch 4/50\n",
      "3740/3740 [==============================] - 1s 265us/step - loss: 1.8909 - acc: 0.3332 - val_loss: 1.7707 - val_acc: 0.3504\n",
      "Epoch 5/50\n",
      "3740/3740 [==============================] - 1s 265us/step - loss: 1.7625 - acc: 0.3751 - val_loss: 1.8235 - val_acc: 0.3665\n",
      "Epoch 6/50\n",
      "3740/3740 [==============================] - 1s 266us/step - loss: 1.6112 - acc: 0.4297 - val_loss: 1.8236 - val_acc: 0.3785\n",
      "Epoch 7/50\n",
      "3740/3740 [==============================] - 1s 265us/step - loss: 1.4521 - acc: 0.4888 - val_loss: 1.8457 - val_acc: 0.3713\n",
      "Epoch 8/50\n",
      "3740/3740 [==============================] - 1s 267us/step - loss: 1.2748 - acc: 0.5430 - val_loss: 1.9112 - val_acc: 0.3769\n",
      "Epoch 9/50\n",
      "3740/3740 [==============================] - 1s 269us/step - loss: 1.1309 - acc: 0.6059 - val_loss: 1.9913 - val_acc: 0.3801\n",
      "training finish\n"
     ]
    }
   ],
   "source": [
    "#train the model\n",
    "history = model.fit(X_train, y_train, \n",
    "                    epochs=epochs, \n",
    "                    batch_size=batch_size, \n",
    "                    callbacks=[csv_logger,earlystopping],\n",
    "                    validation_data = (X_test, y_test))\n",
    "print('training finish')"
   ]
  },
  {
   "cell_type": "code",
   "execution_count": 84,
   "metadata": {},
   "outputs": [
    {
     "data": {
      "image/png": "[encoded data removed]",
      "text/plain": [
       "<Figure size 432x288 with 1 Axes>"
      ]
     },
     "metadata": {},
     "output_type": "display_data"
    },
    {
     "data": {
      "image/png": "[encoded data removed]",
      "text/plain": [
       "<Figure size 432x288 with 1 Axes>"
      ]
     },
     "metadata": {},
     "output_type": "display_data"
    }
   ],
   "source": [
    "def show_train_history(train_history, train, validation):\n",
    "    fig = plt.figure()\n",
    "    plt.plot(train_history.history[train])\n",
    "    plt.plot(train_history.history[validation])\n",
    "    plt.title('Train History')\n",
    "    plt.ylabel(train)\n",
    "    plt.xlabel('Epoch')\n",
    "    plt.legend(['train', 'validation'], loc='best')\n",
    "    \n",
    "\n",
    "\n",
    "show_train_history(history, 'acc', 'val_acc',)\n",
    "show_train_history(history, 'loss', 'val_loss')"
   ]
  },
  {
   "cell_type": "code",
   "execution_count": 85,
   "metadata": {},
   "outputs": [],
   "source": [
    "###predict on public test set and creat submission file\n",
    "###load the model\n",
    "#SAVE_MODEL_DIR = \"best_lstm.h5\"\n",
    "#model = load_model(SAVE_MODEL_DIR)"
   ]
  },
  {
   "cell_type": "code",
   "execution_count": 86,
   "metadata": {},
   "outputs": [
    {
     "data": {
      "text/html": [
       "<div>\n",
       "<style scoped>\n",
       "    .dataframe tbody tr th:only-of-type {\n",
       "        vertical-align: middle;\n",
       "    }\n",
       "\n",
       "    .dataframe tbody tr th {\n",
       "        vertical-align: top;\n",
       "    }\n",
       "\n",
       "    .dataframe thead th {\n",
       "        text-align: right;\n",
       "    }\n",
       "</style>\n",
       "<table border=\"1\" class=\"dataframe\">\n",
       "  <thead>\n",
       "    <tr style=\"text-align: right;\">\n",
       "      <th></th>\n",
       "      <th>index</th>\n",
       "      <th>id</th>\n",
       "      <th>emotion</th>\n",
       "    </tr>\n",
       "  </thead>\n",
       "  <tbody>\n",
       "    <tr>\n",
       "      <th>0</th>\n",
       "      <td>61554</td>\n",
       "      <td>0x20bfd8</td>\n",
       "      <td>trust</td>\n",
       "    </tr>\n",
       "    <tr>\n",
       "      <th>1</th>\n",
       "      <td>65635</td>\n",
       "      <td>0x210901</td>\n",
       "      <td>trust</td>\n",
       "    </tr>\n",
       "    <tr>\n",
       "      <th>2</th>\n",
       "      <td>391500</td>\n",
       "      <td>0x37933a</td>\n",
       "      <td>sadness</td>\n",
       "    </tr>\n",
       "    <tr>\n",
       "      <th>3</th>\n",
       "      <td>377303</td>\n",
       "      <td>0x369348</td>\n",
       "      <td>anticipation</td>\n",
       "    </tr>\n",
       "    <tr>\n",
       "      <th>4</th>\n",
       "      <td>262054</td>\n",
       "      <td>0x2e9880</td>\n",
       "      <td>sadness</td>\n",
       "    </tr>\n",
       "  </tbody>\n",
       "</table>\n",
       "</div>"
      ],
      "text/plain": [
       "    index        id       emotion\n",
       "0   61554  0x20bfd8         trust\n",
       "1   65635  0x210901         trust\n",
       "2  391500  0x37933a       sadness\n",
       "3  377303  0x369348  anticipation\n",
       "4  262054  0x2e9880       sadness"
      ]
     },
     "execution_count": 86,
     "metadata": {},
     "output_type": "execute_result"
    }
   ],
   "source": [
    "###tokenize test data and generate the sequence \n",
    "test_sequences = tokenizer.texts_to_sequences(testdata['text'])\n",
    "_testdata = pad_sequences(test_sequences, maxlen=sequence_len)\n",
    "pred_result = model.predict(_testdata, batch_size=512)\n",
    "pred_result = label_decode(le, pred_result)\n",
    "pred = pd.Series(pred_result)\n",
    "testdata.reset_index(inplace = True)\n",
    "testdata['emotion']=pred\n",
    "#testdata.drop(['text'],axis = 1,inplace = True)\n",
    "#testdata.to_csv('prediction.csv',index = 0)\n",
    "testdata[0:5]"
   ]
  },
  {
   "cell_type": "markdown",
   "metadata": {},
   "source": [
    "I finally got 0.44076 acc on kaggle competition.\n",
    "\n",
    "At first, I tried to stack serval Dense layers to build a fully-connected model,but it got bad performance(0.40~0.42)\n",
    "\n",
    "So I tried SimpleRNN , LSTM,Bidirectional LSTM ,it slightly increase the acc(0.42~0.44) ,but it took longer time(about 30mins/epoch)\n",
    "\n",
    "At last,I decided to cascade CNN and LSTM together to accelerare convergence speed,and keep the performance.\n",
    "\n",
    "I discovered that different embedding output_dim(I thought that refer to the dimentionality of data),different units of each layer(CNN,LSTM,Dense),different hyperparameter(learning rate,batchsize),and use Early stopping in order to prevent from over-fitting\n",
    "\n",
    "but it seems not very effective,it really disappoint me\n",
    "\n",
    "this competition is quite challenging for me, but inspire me a lot\n",
    "\n",
    "Hope that I could do better in final project 👍"
   ]
  }
 ],
 "metadata": {
  "kernelspec": {
   "display_name": "Python 3",
   "language": "python",
   "name": "python3"
  },
  "language_info": {
   "codemirror_mode": {
    "name": "ipython",
    "version": 3
   },
   "file_extension": ".py",
   "mimetype": "text/x-python",
   "name": "python",
   "nbconvert_exporter": "python",
   "pygments_lexer": "ipython3",
   "version": "3.6.5"
  },
  "varInspector": {
   "cols": {
    "lenName": 16,
    "lenType": 16,
    "lenVar": 40
   },
   "kernels_config": {
    "python": {
     "delete_cmd_postfix": "",
     "delete_cmd_prefix": "del ",
     "library": "var_list.py",
     "varRefreshCmd": "print(var_dic_list())"
    },
    "r": {
     "delete_cmd_postfix": ") ",
     "delete_cmd_prefix": "rm(",
     "library": "var_list.r",
     "varRefreshCmd": "cat(var_dic_list()) "
    }
   },
   "types_to_exclude": [
    "module",
    "function",
    "builtin_function_or_method",
    "instance",
    "_Feature"
   ],
   "window_display": false
  }
 },
 "nbformat": 4,
 "nbformat_minor": 2
}
