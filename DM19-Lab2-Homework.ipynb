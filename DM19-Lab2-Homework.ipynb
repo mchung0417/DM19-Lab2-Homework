{
 "cells": [
  {
   "cell_type": "markdown",
   "metadata": {},
   "source": [
    "### Student Information\n",
    "Name:\n",
    "鍾明遠\n",
    "\n",
    "Student ID:\n",
    "108011557\n",
    "\n",
    "GitHub ID:\n",
    "mchung0417\n",
    "\n",
    "Kaggle name:\n",
    "mchung0417\n",
    "\n",
    "Kaggle private scoreboard snapshot:\n",
    "\n",
    "[Snapshot](img/pic0.png)"
   ]
  },
  {
   "cell_type": "markdown",
   "metadata": {},
   "source": [
    "---"
   ]
  },
  {
   "cell_type": "markdown",
   "metadata": {},
   "source": [
    "### Instructions"
   ]
  },
  {
   "cell_type": "markdown",
   "metadata": {},
   "source": [
    "1. First: __This part is worth 30% of your grade.__ Do the **take home** exercises in the [DM19-Lab2-Master Repo](https://github.com/EvaArevalo/DM19-Lab2-Master). You may need to copy some cells from the Lab notebook to this notebook. \n",
    "\n",
    "\n",
    "2. Second: __This part is worth 30% of your grade.__ Participate in the in-class [Kaggle Competition](https://www.kaggle.com/t/179d01d4dd984fc5ac45a894822479dd) regarding Emotion Recognition on Twitter. The scoring will be given according to your place in the Private Leaderboard ranking: \n",
    "    - **Bottom 40%**: Get 20% of the score (ie. 20% of 30% )\n",
    "\n",
    "    - **Top 41% - 100%**: Get (101-x)% of the score, where x is your ranking in the leaderboard (ie. (101-x)% of 30% )   \n",
    "    Submit your last submission __BEFORE the deadline (Nov. 23rd 11:59 pm, Saturday)__. Make sure to take a screenshot of your position at the end of the competition and store it as '''pic0.png''' under the **img** folder of this repository and rerun the cell **Student Information**.\n",
    "    \n",
    "\n",
    "3. Third: __This part is worth 30% of your grade.__ A report of your work developping the model for the competition (You can use code and comment it). This report should include what your preprocessing steps, the feature engineering steps and an explanation of your model. You can also mention different things you tried and insights you gained. \n",
    "\n",
    "\n",
    "4. Fourth: __This part is worth 10% of your grade.__ It's hard for us to follow if your code is messy :'(, so please **tidy up your notebook** and **add minimal comments where needed**.\n",
    "\n",
    "\n",
    "You can submit your homework following these guidelines: [Git Intro & How to hand your homework](https://github.com/EvaArevalo/DM19-Lab1-Master/blob/master/Git%20Intro%20%26%20How%20to%20hand%20your%20homework.ipynb), but make sure to fork the [DM19-Lab2-Homework](https://github.com/EvaArevalo/DM19-Lab2-Homework) repository this time! Also please __DON´T UPLOAD HUGE DOCUMENTS__, please use Git ignore for that.\n",
    "\n",
    "Make sure to commit and save your changes to your repository __BEFORE the deadline (Nov. 26th 11:59 pm, Tuesday)__. "
   ]
  },
  {
   "cell_type": "markdown",
   "metadata": {},
   "source": [
    "---\n",
    "### First-take home excercise"
   ]
  },
  {
   "cell_type": "markdown",
   "metadata": {},
   "source": [
    "---\n",
    "### ** >Exercise 1 (Take home): **  \n",
    "Plot word frequency for Top 30 words in both train and test dataset. (Hint: refer to DM lab 1)\n"
   ]
  },
  {
   "cell_type": "code",
   "execution_count": 1,
   "metadata": {},
   "outputs": [
    {
     "data": {
      "text/html": [
       "<div>\n",
       "<style scoped>\n",
       "    .dataframe tbody tr th:only-of-type {\n",
       "        vertical-align: middle;\n",
       "    }\n",
       "\n",
       "    .dataframe tbody tr th {\n",
       "        vertical-align: top;\n",
       "    }\n",
       "\n",
       "    .dataframe thead th {\n",
       "        text-align: right;\n",
       "    }\n",
       "</style>\n",
       "<table border=\"1\" class=\"dataframe\">\n",
       "  <thead>\n",
       "    <tr style=\"text-align: right;\">\n",
       "      <th></th>\n",
       "      <th>id</th>\n",
       "      <th>text</th>\n",
       "      <th>emotion</th>\n",
       "      <th>intensity</th>\n",
       "    </tr>\n",
       "  </thead>\n",
       "  <tbody>\n",
       "    <tr>\n",
       "      <th>0</th>\n",
       "      <td>10000</td>\n",
       "      <td>How the fu*k! Who the heck! moved my fridge!.....</td>\n",
       "      <td>anger</td>\n",
       "      <td>0.938</td>\n",
       "    </tr>\n",
       "    <tr>\n",
       "      <th>1</th>\n",
       "      <td>10001</td>\n",
       "      <td>So my Indian Uber driver just called someone t...</td>\n",
       "      <td>anger</td>\n",
       "      <td>0.896</td>\n",
       "    </tr>\n",
       "    <tr>\n",
       "      <th>2</th>\n",
       "      <td>10002</td>\n",
       "      <td>@DPD_UK I asked for my parcel to be delivered ...</td>\n",
       "      <td>anger</td>\n",
       "      <td>0.896</td>\n",
       "    </tr>\n",
       "    <tr>\n",
       "      <th>3</th>\n",
       "      <td>10003</td>\n",
       "      <td>so ef whichever butt wipe pulled the fire alar...</td>\n",
       "      <td>anger</td>\n",
       "      <td>0.896</td>\n",
       "    </tr>\n",
       "    <tr>\n",
       "      <th>4</th>\n",
       "      <td>10004</td>\n",
       "      <td>Don't join @BTCare they put the phone down on ...</td>\n",
       "      <td>anger</td>\n",
       "      <td>0.896</td>\n",
       "    </tr>\n",
       "  </tbody>\n",
       "</table>\n",
       "</div>"
      ],
      "text/plain": [
       "      id                                               text emotion  intensity\n",
       "0  10000  How the fu*k! Who the heck! moved my fridge!.....   anger      0.938\n",
       "1  10001  So my Indian Uber driver just called someone t...   anger      0.896\n",
       "2  10002  @DPD_UK I asked for my parcel to be delivered ...   anger      0.896\n",
       "3  10003  so ef whichever butt wipe pulled the fire alar...   anger      0.896\n",
       "4  10004  Don't join @BTCare they put the phone down on ...   anger      0.896"
      ]
     },
     "execution_count": 1,
     "metadata": {},
     "output_type": "execute_result"
    }
   ],
   "source": [
    "import pandas as pd\n",
    "\n",
    "### training data\n",
    "anger_train = pd.read_csv(\"data/semeval/train/anger-ratings-0to1.train.txt\",\n",
    "                         sep=\"\\t\", header=None,names=[\"id\", \"text\", \"emotion\", \"intensity\"])\n",
    "sadness_train = pd.read_csv(\"data/semeval/train/sadness-ratings-0to1.train.txt\",\n",
    "                         sep=\"\\t\", header=None, names=[\"id\", \"text\", \"emotion\", \"intensity\"])\n",
    "fear_train = pd.read_csv(\"data/semeval/train/fear-ratings-0to1.train.txt\",\n",
    "                         sep=\"\\t\", header=None, names=[\"id\", \"text\", \"emotion\", \"intensity\"])\n",
    "joy_train = pd.read_csv(\"data/semeval/train/joy-ratings-0to1.train.txt\",\n",
    "                         sep=\"\\t\", header=None, names=[\"id\", \"text\", \"emotion\", \"intensity\"])\n",
    "# combine 4 sub-dataset\n",
    "train_df = pd.concat([anger_train, fear_train, joy_train, sadness_train], ignore_index=True)\n",
    "### testing data\n",
    "anger_test = pd.read_csv(\"data/semeval/dev/anger-ratings-0to1.dev.gold.txt\",\n",
    "                         sep=\"\\t\", header=None, names=[\"id\", \"text\", \"emotion\", \"intensity\"])\n",
    "sadness_test = pd.read_csv(\"data/semeval/dev/sadness-ratings-0to1.dev.gold.txt\",\n",
    "                         sep=\"\\t\", header=None, names=[\"id\", \"text\", \"emotion\", \"intensity\"])\n",
    "fear_test = pd.read_csv(\"data/semeval/dev/fear-ratings-0to1.dev.gold.txt\",\n",
    "                         sep=\"\\t\", header=None, names=[\"id\", \"text\", \"emotion\", \"intensity\"])\n",
    "joy_test = pd.read_csv(\"data/semeval/dev/joy-ratings-0to1.dev.gold.txt\",\n",
    "                         sep=\"\\t\", header=None, names=[\"id\", \"text\", \"emotion\", \"intensity\"])\n",
    "\n",
    "# combine 4 sub-dataset\n",
    "test_df = pd.concat([anger_test, fear_test, joy_test, sadness_test], ignore_index=True)\n",
    "train_df.head()"
   ]
  },
  {
   "cell_type": "code",
   "execution_count": 2,
   "metadata": {},
   "outputs": [
    {
     "name": "stdout",
     "output_type": "stream",
     "text": [
      "Shape of Training df:  (3613, 4)\n",
      "Shape of Testing df:  (347, 4)\n"
     ]
    }
   ],
   "source": [
    "# shuffle dataset\n",
    "train_df = train_df.sample(frac=1)\n",
    "test_df = test_df.sample(frac=1)\n",
    "print(\"Shape of Training df: \", train_df.shape)\n",
    "print(\"Shape of Testing df: \", test_df.shape)"
   ]
  },
  {
   "cell_type": "code",
   "execution_count": 3,
   "metadata": {},
   "outputs": [
    {
     "data": {
      "text/plain": [
       "<Figure size 1200x1000 with 1 Axes>"
      ]
     },
     "metadata": {},
     "output_type": "display_data"
    }
   ],
   "source": [
    "from sklearn.feature_extraction.text import CountVectorizer\n",
    "import matplotlib.pyplot as plt\n",
    "vectorizer = CountVectorizer()\n",
    "train_vec = vectorizer.fit_transform(train_df.text)\n",
    "train_word = vectorizer.get_feature_names()\n",
    "\n",
    "words = {}\n",
    "for i in range(len(train_word)):\n",
    "    words[i]=train_word[i]\n",
    "tf = pd.DataFrame(train_vec.toarray())\n",
    "tf = tf.rename(words,axis = 1)\n",
    "tf.loc['frequency']=tf.sum(axis = 0)\n",
    "\n",
    "tf_= pd.DataFrame(tf.loc['frequency'])\n",
    "tf_.sort_values(by = 'frequency',ascending=False,inplace = True)\n",
    "tf_ = tf_.apply(lambda x :x/tf_['frequency'].sum())\n",
    "\n",
    "tf_[0:30].plot.bar(figsize = (12,10))\n",
    "plt.xticks(rotation=45)\n",
    "plt.title('train_df word frequency')\n",
    "plt.show()"
   ]
  },
  {
   "cell_type": "code",
   "execution_count": 4,
   "metadata": {},
   "outputs": [
    {
     "data": {
      "image/png": "[encoded data removed]",
      "text/plain": [
       "<Figure size 864x720 with 1 Axes>"
      ]
     },
     "metadata": {},
     "output_type": "display_data"
    }
   ],
   "source": [
    "test_vec = vectorizer.fit_transform(test_df.text)\n",
    "test_word = vectorizer.get_feature_names()\n",
    "\n",
    "test_words = {}\n",
    "for i in range(len(test_word)):\n",
    "    test_words[i]=test_word[i]\n",
    "test_tf = pd.DataFrame(test_vec.toarray())\n",
    "test_tf = test_tf.rename(test_words,axis = 1)\n",
    "test_tf.loc['frequency']=test_tf.sum(axis = 0)\n",
    "\n",
    "test_tf_= pd.DataFrame(test_tf.loc['frequency'])\n",
    "test_tf_.sort_values(by = 'frequency',ascending=False,inplace = True)\n",
    "test_tf_ = test_tf_.apply(lambda x :x/test_tf_['frequency'].sum())\n",
    "\n",
    "test_tf_[0:30].plot.bar(figsize = (12,10))\n",
    "plt.xticks(rotation=45)\n",
    "plt.title('test_df word frequency')\n",
    "plt.show()"
   ]
  },
  {
   "cell_type": "markdown",
   "metadata": {},
   "source": [
    "---\n",
    "### ** >Exercise 2 (Take home): **  \n",
    "Generate an embedding using the TF-IDF vectorizer instead of th BOW one with 1000 features and show the feature names for features [100:110]."
   ]
  },
  {
   "cell_type": "code",
   "execution_count": 5,
   "metadata": {},
   "outputs": [
    {
     "data": {
      "text/plain": [
       "(3613, 1000)"
      ]
     },
     "execution_count": 5,
     "metadata": {},
     "output_type": "execute_result"
    }
   ],
   "source": [
    "from sklearn.feature_extraction.text import TfidfVectorizer\n",
    "import nltk\n",
    "Tfidf_vectorizer = TfidfVectorizer(max_features=1000,tokenizer = nltk.word_tokenize,use_idf=True)\n",
    "train_tfidf_vec = Tfidf_vectorizer.fit_transform(train_df.text)\n",
    "train_tfidf_word = Tfidf_vectorizer.get_feature_names()\n",
    "train_tfidf_vec.shape"
   ]
  },
  {
   "cell_type": "code",
   "execution_count": 6,
   "metadata": {},
   "outputs": [
    {
     "data": {
      "text/plain": [
       "array([[0.        , 0.20762751, 0.        , ..., 0.        , 0.        ,\n",
       "        0.        ],\n",
       "       [0.        , 0.        , 0.        , ..., 0.        , 0.        ,\n",
       "        0.        ],\n",
       "       [0.        , 0.        , 0.        , ..., 0.        , 0.        ,\n",
       "        0.        ],\n",
       "       ...,\n",
       "       [0.        , 0.29081978, 0.        , ..., 0.        , 0.        ,\n",
       "        0.        ],\n",
       "       [0.        , 0.12211314, 0.        , ..., 0.        , 0.        ,\n",
       "        0.        ],\n",
       "       [0.        , 0.        , 0.        , ..., 0.        , 0.        ,\n",
       "        0.        ]])"
      ]
     },
     "execution_count": 6,
     "metadata": {},
     "output_type": "execute_result"
    }
   ],
   "source": [
    "train_tfidf_vec.toarray()"
   ]
  },
  {
   "cell_type": "code",
   "execution_count": 7,
   "metadata": {},
   "outputs": [
    {
     "data": {
      "text/plain": [
       "['awful', 'b', 'baby', 'back', 'bad', 'ball', 'balls', 'bb18', 'bc', 'bday']"
      ]
     },
     "execution_count": 7,
     "metadata": {},
     "output_type": "execute_result"
    }
   ],
   "source": [
    "train_tfidf_word[100:110]"
   ]
  },
  {
   "cell_type": "markdown",
   "metadata": {},
   "source": [
    "---\n",
    "### ** > Exercise 3 (Take home): **  \n",
    "Can you interpret the results above? What do they mean?"
   ]
  },
  {
   "cell_type": "code",
   "execution_count": 8,
   "metadata": {},
   "outputs": [
    {
     "name": "stdout",
     "output_type": "stream",
     "text": [
      "X_train.shape:  (3613, 500)\n",
      "y_train.shape:  (3613,)\n",
      "X_test.shape:  (347, 500)\n",
      "y_test.shape:  (347,)\n"
     ]
    },
    {
     "data": {
      "text/plain": [
       "array(['anger', 'fear', 'anger', 'joy', 'anger', 'anger', 'fear', 'fear',\n",
       "       'joy', 'anger'], dtype=object)"
      ]
     },
     "execution_count": 8,
     "metadata": {},
     "output_type": "execute_result"
    }
   ],
   "source": [
    "import nltk\n",
    "\n",
    "# build analyzers (bag-of-words)\n",
    "BOW_500 = CountVectorizer(max_features=500, tokenizer=nltk.word_tokenize) \n",
    "\n",
    "# apply analyzer to training data\n",
    "BOW_500.fit(train_df['text'])\n",
    "\n",
    "train_data_BOW_features_500 = BOW_500.transform(train_df['text'])\n",
    "\n",
    "from sklearn.tree import DecisionTreeClassifier\n",
    "\n",
    "# for a classificaiton problem, you need to provide both training & testing data\n",
    "X_train = BOW_500.transform(train_df['text'])\n",
    "y_train = train_df['emotion']\n",
    "\n",
    "X_test = BOW_500.transform(test_df['text'])\n",
    "y_test = test_df['emotion']\n",
    "\n",
    "## take a look at data dimension is a good habbit  :)\n",
    "print('X_train.shape: ', X_train.shape)\n",
    "print('y_train.shape: ', y_train.shape)\n",
    "print('X_test.shape: ', X_test.shape)\n",
    "print('y_test.shape: ', y_test.shape)\n",
    "## build DecisionTree model\n",
    "DT_model = DecisionTreeClassifier(random_state=0)\n",
    "\n",
    "## training!\n",
    "DT_model = DT_model.fit(X_train, y_train)\n",
    "\n",
    "## predict!\n",
    "y_train_pred = DT_model.predict(X_train)\n",
    "y_test_pred = DT_model.predict(X_test)\n",
    "\n",
    "## so we get the pred result\n",
    "y_test_pred[:10]"
   ]
  },
  {
   "cell_type": "code",
   "execution_count": 9,
   "metadata": {},
   "outputs": [
    {
     "name": "stdout",
     "output_type": "stream",
     "text": [
      "training accuracy: 0.99\n",
      "testing accuracy: 0.64\n",
      "              precision    recall  f1-score   support\n",
      "\n",
      "       anger       0.65      0.65      0.65        84\n",
      "        fear       0.62      0.64      0.63       110\n",
      "         joy       0.67      0.68      0.68        79\n",
      "     sadness       0.61      0.57      0.59        74\n",
      "\n",
      "    accuracy                           0.64       347\n",
      "   macro avg       0.64      0.64      0.64       347\n",
      "weighted avg       0.64      0.64      0.64       347\n",
      "\n"
     ]
    }
   ],
   "source": [
    "## accuracy\n",
    "from sklearn.metrics import accuracy_score\n",
    "\n",
    "acc_train = accuracy_score(y_true=y_train, y_pred=y_train_pred)\n",
    "acc_test = accuracy_score(y_true=y_test, y_pred=y_test_pred)\n",
    "\n",
    "print('training accuracy: {}'.format(round(acc_train, 2)))\n",
    "print('testing accuracy: {}'.format(round(acc_test, 2)))\n",
    "## precision, recall, f1-score,\n",
    "from sklearn.metrics import classification_report\n",
    "\n",
    "print(classification_report(y_true=y_test, y_pred=y_test_pred))\n",
    "from sklearn.metrics import confusion_matrix\n",
    "\n",
    "cm = confusion_matrix(y_true=y_test, y_pred=y_test_pred) "
   ]
  },
  {
   "cell_type": "code",
   "execution_count": 10,
   "metadata": {},
   "outputs": [],
   "source": [
    "# Funciton for visualizing confusion_matrix\n",
    "import matplotlib.pyplot as plt\n",
    "import seaborn as sns\n",
    "import numpy as np\n",
    "import itertools\n",
    "\n",
    "def plot_confusion_matrix(cm, classes, title='Confusion matrix',\n",
    "                          cmap=sns.cubehelix_palette(as_cmap=True)):\n",
    "    \"\"\"\n",
    "    This function is modified from: \n",
    "    http://scikit-learn.org/stable/auto_examples/model_selection/plot_confusion_matrix.html\n",
    "    \"\"\"\n",
    "    classes.sort()\n",
    "    tick_marks = np.arange(len(classes))    \n",
    "    \n",
    "    fig, ax = plt.subplots(figsize=(5,5))\n",
    "    im = ax.imshow(cm, interpolation='nearest', cmap=cmap)\n",
    "    ax.figure.colorbar(im, ax=ax)\n",
    "    ax.set(xticks=np.arange(cm.shape[1]),\n",
    "           yticks=np.arange(cm.shape[0]),\n",
    "           xticklabels = classes,\n",
    "           yticklabels = classes,\n",
    "           title = title,\n",
    "           xlabel = 'True label',\n",
    "           ylabel = 'Predicted label')\n",
    "\n",
    "    fmt = 'd'\n",
    "    thresh = cm.max() / 2.\n",
    "    for i, j in itertools.product(range(cm.shape[0]), range(cm.shape[1])):\n",
    "        plt.text(j, i, format(cm[i, j], fmt), horizontalalignment=\"center\", color=\"white\" if cm[i, j] > thresh else \"black\")\n",
    "    ylim_top = len(classes) - 0.5\n",
    "    plt.ylim([ylim_top, -.5])\n",
    "    plt.tight_layout()\n",
    "    plt.show()"
   ]
  },
  {
   "cell_type": "code",
   "execution_count": 11,
   "metadata": {},
   "outputs": [
    {
     "data": {
      "image/png": "[encoded data removed]",
      "text/plain": [
       "<Figure size 360x360 with 2 Axes>"
      ]
     },
     "metadata": {},
     "output_type": "display_data"
    }
   ],
   "source": [
    "# plot your confusion matrix\n",
    "my_tags = ['anger', 'fear', 'joy', 'sadness']\n",
    "plot_confusion_matrix(cm, classes=my_tags, title='Confusion matrix')"
   ]
  },
  {
   "cell_type": "markdown",
   "metadata": {},
   "source": [
    "explaination:\n",
    "\n",
    "the confution matrix shows the prediction result compares with ground truth\n",
    "\n",
    "from the plot,for example,we can observe that the misjudgement rate of ['sadness' label  to 'fear'] is higher than others\n",
    "\n",
    "So,we can assume that 'sadness' and 'fear' two categories maybe has some covariance\n",
    "\n",
    "that will give us some direction to enhance our pre-processing method to further improve model's performence\n",
    "\n"
   ]
  },
  {
   "cell_type": "markdown",
   "metadata": {},
   "source": [
    "### ** > Exercise 4 (Take home): **  "
   ]
  },
  {
   "cell_type": "code",
   "execution_count": 12,
   "metadata": {},
   "outputs": [
    {
     "name": "stdout",
     "output_type": "stream",
     "text": [
      "              precision    recall  f1-score   support\n",
      "\n",
      "       anger       0.71      0.65      0.68        84\n",
      "        fear       0.74      0.83      0.78       110\n",
      "         joy       0.76      0.71      0.73        79\n",
      "     sadness       0.65      0.64      0.64        74\n",
      "\n",
      "    accuracy                           0.72       347\n",
      "   macro avg       0.71      0.71      0.71       347\n",
      "weighted avg       0.72      0.72      0.72       347\n",
      "\n"
     ]
    },
    {
     "data": {
      "image/png": "[encoded data removed]",
      "text/plain": [
       "<Figure size 360x360 with 2 Axes>"
      ]
     },
     "metadata": {},
     "output_type": "display_data"
    }
   ],
   "source": [
    "from sklearn.naive_bayes import MultinomialNB\n",
    "nb = MultinomialNB()\n",
    "nb.fit(X_train,y_train)\n",
    "nb_y_test_pred = nb.predict(X_test)\n",
    "print(classification_report(y_true=y_test, y_pred=nb_y_test_pred))\n",
    "nb_cm = confusion_matrix(y_true=y_test, y_pred=nb_y_test_pred) \n",
    "plot_confusion_matrix(nb_cm, classes=my_tags, title='Naive NB Confusion matrix')"
   ]
  },
  {
   "cell_type": "markdown",
   "metadata": {},
   "source": [
    "---\n",
    "### ** > Exercise 5 (Take home): **  \n",
    "\n",
    "How do the results from the Naive Bayes model and the Decision Tree model compare? How do you interpret these differences? Use the theoretical background covered in class to try and explain these differences."
   ]
  },
  {
   "cell_type": "markdown",
   "metadata": {},
   "source": [
    "explanation:\n",
    "\n",
    "we can observe that the accuracy of NB is better than DecisionTree. \n",
    "\n",
    "I thought that because of scale of the dataset.\n",
    "\n",
    "NB assume that each features is independent,so it can directly map the feature to the label ,but it won't consider the covariance between the features.\n",
    "\n",
    "DecisionTree is based on conditional probability,but it tends to over-fit the small data set"
   ]
  },
  {
   "cell_type": "markdown",
   "metadata": {},
   "source": [
    "### ** > Exercise 6(Take home): **  \n",
    "Plot the Training and Validation Accuracy and Loss (different plots), just like the images below (Note: the pictures below are an example from a different model). How to interpret the graphs you got? How are they related to the concept of overfitting/underfitting covered in class?\n",
    "<table><tr>\n",
    "    <td><img src=\"pics/pic3.png\" style=\"width: 300px;\"/> </td>\n",
    "    <td><img src=\"pics/pic4.png\" style=\"width: 300px;\"/> </td>\n",
    "</tr></table>"
   ]
  },
  {
   "cell_type": "code",
   "execution_count": 13,
   "metadata": {},
   "outputs": [
    {
     "name": "stderr",
     "output_type": "stream",
     "text": [
      "E:\\Anaconda3\\lib\\site-packages\\h5py\\__init__.py:36: FutureWarning: Conversion of the second argument of issubdtype from `float` to `np.floating` is deprecated. In future, it will be treated as `np.float64 == np.dtype(float).type`.\n",
      "  from ._conv import register_converters as _register_converters\n",
      "Using TensorFlow backend.\n"
     ]
    },
    {
     "name": "stdout",
     "output_type": "stream",
     "text": [
      "X_train.shape:  (3613, 500)\n",
      "y_train.shape:  (3613,)\n",
      "X_test.shape:  (347, 500)\n",
      "y_test.shape:  (347,)\n"
     ]
    }
   ],
   "source": [
    "import keras\n",
    "\n",
    "# standardize name (X, y) \n",
    "X_train = BOW_500.transform(train_df['text'])\n",
    "y_train = train_df['emotion']\n",
    "\n",
    "X_test = BOW_500.transform(test_df['text'])\n",
    "y_test = test_df['emotion']\n",
    "\n",
    "## check dimension is a good habbit \n",
    "print('X_train.shape: ', X_train.shape)\n",
    "print('y_train.shape: ', y_train.shape)\n",
    "print('X_test.shape: ', X_test.shape)\n",
    "print('y_test.shape: ', y_test.shape)"
   ]
  },
  {
   "cell_type": "code",
   "execution_count": 14,
   "metadata": {},
   "outputs": [
    {
     "name": "stdout",
     "output_type": "stream",
     "text": [
      "check label:  ['anger' 'fear' 'joy' 'sadness']\n",
      "\n",
      "## Before convert\n",
      "y_train[0:4]:\n",
      " 396       anger\n",
      "2916    sadness\n",
      "1236       fear\n",
      "1077       fear\n",
      "Name: emotion, dtype: object\n",
      "\n",
      "y_train.shape:  (3613,)\n",
      "y_test.shape:  (347,)\n",
      "\n",
      "\n",
      "## After convert\n",
      "y_train[0:4]:\n",
      " [[1. 0. 0. 0.]\n",
      " [0. 0. 0. 1.]\n",
      " [0. 1. 0. 0.]\n",
      " [0. 1. 0. 0.]]\n",
      "\n",
      "y_train.shape:  (3613, 4)\n",
      "y_test.shape:  (347, 4)\n",
      "input_shape:  500\n",
      "output_shape:  4\n"
     ]
    }
   ],
   "source": [
    "## deal with label (string -> one-hot)\n",
    "\n",
    "from sklearn.preprocessing import LabelEncoder\n",
    "\n",
    "label_encoder = LabelEncoder()\n",
    "label_encoder.fit(y_train)\n",
    "print('check label: ', label_encoder.classes_)\n",
    "print('\\n## Before convert')\n",
    "print('y_train[0:4]:\\n', y_train[0:4])\n",
    "print('\\ny_train.shape: ', y_train.shape)\n",
    "print('y_test.shape: ', y_test.shape)\n",
    "\n",
    "def label_encode(le, labels):\n",
    "    enc = le.transform(labels)\n",
    "    return keras.utils.to_categorical(enc)\n",
    "\n",
    "def label_decode(le, one_hot_label):\n",
    "    dec = np.argmax(one_hot_label, axis=1)\n",
    "    return le.inverse_transform(dec)\n",
    "\n",
    "y_train = label_encode(label_encoder, y_train)\n",
    "y_test = label_encode(label_encoder, y_test)\n",
    "\n",
    "print('\\n\\n## After convert')\n",
    "print('y_train[0:4]:\\n', y_train[0:4])\n",
    "print('\\ny_train.shape: ', y_train.shape)\n",
    "print('y_test.shape: ', y_test.shape)\n",
    "\n",
    "# I/O check\n",
    "input_shape = X_train.shape[1]\n",
    "print('input_shape: ', input_shape)\n",
    "\n",
    "output_shape = len(label_encoder.classes_)\n",
    "print('output_shape: ', output_shape)"
   ]
  },
  {
   "cell_type": "code",
   "execution_count": 15,
   "metadata": {},
   "outputs": [
    {
     "name": "stdout",
     "output_type": "stream",
     "text": [
      "_________________________________________________________________\n",
      "Layer (type)                 Output Shape              Param #   \n",
      "=================================================================\n",
      "input_1 (InputLayer)         (None, 500)               0         \n",
      "_________________________________________________________________\n",
      "dense_1 (Dense)              (None, 64)                32064     \n",
      "_________________________________________________________________\n",
      "re_lu_1 (ReLU)               (None, 64)                0         \n",
      "_________________________________________________________________\n",
      "dense_2 (Dense)              (None, 64)                4160      \n",
      "_________________________________________________________________\n",
      "re_lu_2 (ReLU)               (None, 64)                0         \n",
      "_________________________________________________________________\n",
      "dense_3 (Dense)              (None, 4)                 260       \n",
      "_________________________________________________________________\n",
      "softmax_1 (Softmax)          (None, 4)                 0         \n",
      "=================================================================\n",
      "Total params: 36,484\n",
      "Trainable params: 36,484\n",
      "Non-trainable params: 0\n",
      "_________________________________________________________________\n"
     ]
    }
   ],
   "source": [
    "from keras.models import Model\n",
    "from keras.layers import Input, Dense\n",
    "from keras.layers import ReLU, Softmax\n",
    "\n",
    "# input layer\n",
    "model_input = Input(shape=(input_shape, ))  # 500\n",
    "X = model_input\n",
    "\n",
    "# 1st hidden layer\n",
    "X_W1 = Dense(units=64)(X)  # 64\n",
    "H1 = ReLU()(X_W1)\n",
    "\n",
    "# 2nd hidden layer\n",
    "H1_W2 = Dense(units=64)(H1)  # 64\n",
    "H2 = ReLU()(H1_W2)\n",
    "\n",
    "# output layer\n",
    "H2_W3 = Dense(units=output_shape)(H2)  # 4\n",
    "H3 = Softmax()(H2_W3)\n",
    "\n",
    "model_output = H3\n",
    "\n",
    "# create model\n",
    "model = Model(inputs=[model_input], outputs=[model_output])\n",
    "\n",
    "# loss function & optimizer\n",
    "model.compile(optimizer='adam',\n",
    "              loss='categorical_crossentropy',\n",
    "              metrics=['accuracy'])\n",
    "\n",
    "# show model construction\n",
    "model.summary()"
   ]
  },
  {
   "cell_type": "code",
   "execution_count": 16,
   "metadata": {},
   "outputs": [
    {
     "name": "stdout",
     "output_type": "stream",
     "text": [
      "Train on 3613 samples, validate on 347 samples\n",
      "Epoch 1/25\n",
      "3613/3613 [==============================] - 17s 5ms/step - loss: 1.3212 - acc: 0.3684 - val_loss: 1.2664 - val_acc: 0.4380\n",
      "Epoch 2/25\n",
      "3613/3613 [==============================] - 1s 216us/step - loss: 0.9578 - acc: 0.6551 - val_loss: 0.8883 - val_acc: 0.6744\n",
      "Epoch 3/25\n",
      "3613/3613 [==============================] - 1s 204us/step - loss: 0.5662 - acc: 0.8002 - val_loss: 0.7508 - val_acc: 0.7118\n",
      "Epoch 4/25\n",
      "3613/3613 [==============================] - 1s 214us/step - loss: 0.4193 - acc: 0.8425 - val_loss: 0.7995 - val_acc: 0.7147\n",
      "Epoch 5/25\n",
      "3613/3613 [==============================] - 1s 216us/step - loss: 0.3370 - acc: 0.8779 - val_loss: 0.8168 - val_acc: 0.6916\n",
      "Epoch 6/25\n",
      "3613/3613 [==============================] - 1s 269us/step - loss: 0.2843 - acc: 0.8973 - val_loss: 0.8552 - val_acc: 0.6801\n",
      "Epoch 7/25\n",
      "3613/3613 [==============================] - 1s 241us/step - loss: 0.2347 - acc: 0.9255 - val_loss: 0.9180 - val_acc: 0.7032\n",
      "Epoch 8/25\n",
      "3613/3613 [==============================] - 1s 249us/step - loss: 0.1977 - acc: 0.9344 - val_loss: 0.9722 - val_acc: 0.6715\n",
      "Epoch 9/25\n",
      "3613/3613 [==============================] - 1s 262us/step - loss: 0.1694 - acc: 0.9452 - val_loss: 1.0513 - val_acc: 0.6916\n",
      "Epoch 10/25\n",
      "3613/3613 [==============================] - 1s 255us/step - loss: 0.1532 - acc: 0.9513 - val_loss: 1.0742 - val_acc: 0.6801\n",
      "Epoch 11/25\n",
      "3613/3613 [==============================] - 1s 239us/step - loss: 0.1329 - acc: 0.9596 - val_loss: 1.1307 - val_acc: 0.6772\n",
      "Epoch 12/25\n",
      "3613/3613 [==============================] - 1s 250us/step - loss: 0.1185 - acc: 0.9643 - val_loss: 1.1749 - val_acc: 0.6859\n",
      "Epoch 13/25\n",
      "3613/3613 [==============================] - 1s 262us/step - loss: 0.1070 - acc: 0.9698 - val_loss: 1.1985 - val_acc: 0.6859\n",
      "Epoch 14/25\n",
      "3613/3613 [==============================] - 1s 240us/step - loss: 0.1068 - acc: 0.9679 - val_loss: 1.2798 - val_acc: 0.6657\n",
      "Epoch 15/25\n",
      "3613/3613 [==============================] - 1s 321us/step - loss: 0.0924 - acc: 0.9704 - val_loss: 1.3032 - val_acc: 0.6744\n",
      "Epoch 16/25\n",
      "3613/3613 [==============================] - 1s 223us/step - loss: 0.0895 - acc: 0.9709 - val_loss: 1.3329 - val_acc: 0.6657\n",
      "Epoch 17/25\n",
      "3613/3613 [==============================] - 1s 227us/step - loss: 0.0836 - acc: 0.9729 - val_loss: 1.4093 - val_acc: 0.6599\n",
      "Epoch 18/25\n",
      "3613/3613 [==============================] - 1s 247us/step - loss: 0.0805 - acc: 0.9729 - val_loss: 1.3941 - val_acc: 0.6830\n",
      "Epoch 19/25\n",
      "3613/3613 [==============================] - 1s 231us/step - loss: 0.0759 - acc: 0.9751 - val_loss: 1.4498 - val_acc: 0.6686\n",
      "Epoch 20/25\n",
      "3613/3613 [==============================] - 1s 223us/step - loss: 0.0730 - acc: 0.9748 - val_loss: 1.4506 - val_acc: 0.6744\n",
      "Epoch 21/25\n",
      "3613/3613 [==============================] - 1s 230us/step - loss: 0.0781 - acc: 0.9751 - val_loss: 1.5056 - val_acc: 0.6715\n",
      "Epoch 22/25\n",
      "3613/3613 [==============================] - 1s 247us/step - loss: 0.0677 - acc: 0.9754 - val_loss: 1.5021 - val_acc: 0.6744\n",
      "Epoch 23/25\n",
      "3613/3613 [==============================] - 1s 329us/step - loss: 0.0686 - acc: 0.9756 - val_loss: 1.5686 - val_acc: 0.6599\n",
      "Epoch 24/25\n",
      "3613/3613 [==============================] - 1s 265us/step - loss: 0.0724 - acc: 0.9737 - val_loss: 1.5761 - val_acc: 0.6599\n",
      "Epoch 25/25\n",
      "3613/3613 [==============================] - 1s 247us/step - loss: 0.0604 - acc: 0.9770 - val_loss: 1.6017 - val_acc: 0.6628\n",
      "training finish\n"
     ]
    }
   ],
   "source": [
    "from keras.callbacks import CSVLogger\n",
    "\n",
    "csv_logger = CSVLogger('exercise6_training_log.csv')\n",
    "\n",
    "# training setting\n",
    "epochs = 25\n",
    "batch_size = 32\n",
    "\n",
    "# training!\n",
    "history = model.fit(X_train, y_train, \n",
    "                    epochs=epochs, \n",
    "                    batch_size=batch_size, \n",
    "                    callbacks=[csv_logger],\n",
    "                    validation_data = (X_test, y_test))\n",
    "print('training finish')"
   ]
  },
  {
   "cell_type": "code",
   "execution_count": 17,
   "metadata": {},
   "outputs": [
    {
     "data": {
      "text/plain": [
       "array([[9.9861014e-01, 3.1505417e-05, 4.9612909e-06, 1.3533038e-03],\n",
       "       [4.0781571e-04, 9.9926013e-01, 2.1876951e-05, 3.1016165e-04],\n",
       "       [9.9981624e-01, 4.6710917e-07, 1.3133802e-04, 5.1993637e-05],\n",
       "       [1.3339851e-04, 8.8042402e-01, 4.0148973e-04, 1.1904113e-01],\n",
       "       [9.9550653e-01, 1.1243259e-05, 1.4716565e-07, 4.4820951e-03]],\n",
       "      dtype=float32)"
      ]
     },
     "execution_count": 17,
     "metadata": {},
     "output_type": "execute_result"
    }
   ],
   "source": [
    "## predict\n",
    "pred_result = model.predict(X_test, batch_size=128)\n",
    "pred_result[:5]"
   ]
  },
  {
   "cell_type": "code",
   "execution_count": 18,
   "metadata": {},
   "outputs": [
    {
     "data": {
      "text/plain": [
       "array(['anger', 'fear', 'anger', 'fear', 'anger'], dtype=object)"
      ]
     },
     "execution_count": 18,
     "metadata": {},
     "output_type": "execute_result"
    }
   ],
   "source": [
    "pred_result = label_decode(label_encoder, pred_result)\n",
    "pred_result[:5]"
   ]
  },
  {
   "cell_type": "code",
   "execution_count": 19,
   "metadata": {},
   "outputs": [
    {
     "name": "stdout",
     "output_type": "stream",
     "text": [
      "testing accuracy: 0.66\n"
     ]
    }
   ],
   "source": [
    "from sklearn.metrics import accuracy_score\n",
    "\n",
    "print('testing accuracy: {}'.format(round(accuracy_score(label_decode(label_encoder, y_test), pred_result), 2)))"
   ]
  },
  {
   "cell_type": "code",
   "execution_count": 20,
   "metadata": {},
   "outputs": [
    {
     "data": {
      "text/html": [
       "<div>\n",
       "<style scoped>\n",
       "    .dataframe tbody tr th:only-of-type {\n",
       "        vertical-align: middle;\n",
       "    }\n",
       "\n",
       "    .dataframe tbody tr th {\n",
       "        vertical-align: top;\n",
       "    }\n",
       "\n",
       "    .dataframe thead th {\n",
       "        text-align: right;\n",
       "    }\n",
       "</style>\n",
       "<table border=\"1\" class=\"dataframe\">\n",
       "  <thead>\n",
       "    <tr style=\"text-align: right;\">\n",
       "      <th></th>\n",
       "      <th>epoch</th>\n",
       "      <th>acc</th>\n",
       "      <th>loss</th>\n",
       "      <th>val_acc</th>\n",
       "      <th>val_loss</th>\n",
       "    </tr>\n",
       "  </thead>\n",
       "  <tbody>\n",
       "    <tr>\n",
       "      <th>0</th>\n",
       "      <td>0</td>\n",
       "      <td>0.349848</td>\n",
       "      <td>1.333412</td>\n",
       "      <td>0.438040</td>\n",
       "      <td>1.290668</td>\n",
       "    </tr>\n",
       "    <tr>\n",
       "      <th>1</th>\n",
       "      <td>1</td>\n",
       "      <td>0.616662</td>\n",
       "      <td>1.017402</td>\n",
       "      <td>0.631124</td>\n",
       "      <td>0.973613</td>\n",
       "    </tr>\n",
       "    <tr>\n",
       "      <th>2</th>\n",
       "      <td>2</td>\n",
       "      <td>0.792139</td>\n",
       "      <td>0.599234</td>\n",
       "      <td>0.697406</td>\n",
       "      <td>0.805977</td>\n",
       "    </tr>\n",
       "    <tr>\n",
       "      <th>3</th>\n",
       "      <td>3</td>\n",
       "      <td>0.856075</td>\n",
       "      <td>0.408494</td>\n",
       "      <td>0.706052</td>\n",
       "      <td>0.819154</td>\n",
       "    </tr>\n",
       "    <tr>\n",
       "      <th>4</th>\n",
       "      <td>4</td>\n",
       "      <td>0.889289</td>\n",
       "      <td>0.317536</td>\n",
       "      <td>0.680115</td>\n",
       "      <td>0.829515</td>\n",
       "    </tr>\n",
       "    <tr>\n",
       "      <th>5</th>\n",
       "      <td>5</td>\n",
       "      <td>0.915859</td>\n",
       "      <td>0.253498</td>\n",
       "      <td>0.677233</td>\n",
       "      <td>0.853639</td>\n",
       "    </tr>\n",
       "    <tr>\n",
       "      <th>6</th>\n",
       "      <td>6</td>\n",
       "      <td>0.934404</td>\n",
       "      <td>0.201381</td>\n",
       "      <td>0.654179</td>\n",
       "      <td>0.974444</td>\n",
       "    </tr>\n",
       "    <tr>\n",
       "      <th>7</th>\n",
       "      <td>7</td>\n",
       "      <td>0.947412</td>\n",
       "      <td>0.168846</td>\n",
       "      <td>0.700288</td>\n",
       "      <td>0.977787</td>\n",
       "    </tr>\n",
       "    <tr>\n",
       "      <th>8</th>\n",
       "      <td>8</td>\n",
       "      <td>0.950457</td>\n",
       "      <td>0.150403</td>\n",
       "      <td>0.671470</td>\n",
       "      <td>1.067882</td>\n",
       "    </tr>\n",
       "    <tr>\n",
       "      <th>9</th>\n",
       "      <td>9</td>\n",
       "      <td>0.963465</td>\n",
       "      <td>0.127094</td>\n",
       "      <td>0.680115</td>\n",
       "      <td>1.144580</td>\n",
       "    </tr>\n",
       "    <tr>\n",
       "      <th>10</th>\n",
       "      <td>10</td>\n",
       "      <td>0.965403</td>\n",
       "      <td>0.113676</td>\n",
       "      <td>0.682997</td>\n",
       "      <td>1.164006</td>\n",
       "    </tr>\n",
       "    <tr>\n",
       "      <th>11</th>\n",
       "      <td>11</td>\n",
       "      <td>0.968170</td>\n",
       "      <td>0.102876</td>\n",
       "      <td>0.691643</td>\n",
       "      <td>1.195914</td>\n",
       "    </tr>\n",
       "    <tr>\n",
       "      <th>12</th>\n",
       "      <td>12</td>\n",
       "      <td>0.970661</td>\n",
       "      <td>0.094129</td>\n",
       "      <td>0.682997</td>\n",
       "      <td>1.233783</td>\n",
       "    </tr>\n",
       "    <tr>\n",
       "      <th>13</th>\n",
       "      <td>13</td>\n",
       "      <td>0.973429</td>\n",
       "      <td>0.087123</td>\n",
       "      <td>0.685879</td>\n",
       "      <td>1.286405</td>\n",
       "    </tr>\n",
       "    <tr>\n",
       "      <th>14</th>\n",
       "      <td>14</td>\n",
       "      <td>0.973983</td>\n",
       "      <td>0.085508</td>\n",
       "      <td>0.682997</td>\n",
       "      <td>1.356129</td>\n",
       "    </tr>\n",
       "    <tr>\n",
       "      <th>15</th>\n",
       "      <td>15</td>\n",
       "      <td>0.974260</td>\n",
       "      <td>0.080079</td>\n",
       "      <td>0.674352</td>\n",
       "      <td>1.382489</td>\n",
       "    </tr>\n",
       "    <tr>\n",
       "      <th>16</th>\n",
       "      <td>16</td>\n",
       "      <td>0.974536</td>\n",
       "      <td>0.071741</td>\n",
       "      <td>0.674352</td>\n",
       "      <td>1.422162</td>\n",
       "    </tr>\n",
       "    <tr>\n",
       "      <th>17</th>\n",
       "      <td>17</td>\n",
       "      <td>0.975090</td>\n",
       "      <td>0.074365</td>\n",
       "      <td>0.688761</td>\n",
       "      <td>1.411371</td>\n",
       "    </tr>\n",
       "    <tr>\n",
       "      <th>18</th>\n",
       "      <td>18</td>\n",
       "      <td>0.975090</td>\n",
       "      <td>0.070342</td>\n",
       "      <td>0.691643</td>\n",
       "      <td>1.446481</td>\n",
       "    </tr>\n",
       "    <tr>\n",
       "      <th>19</th>\n",
       "      <td>19</td>\n",
       "      <td>0.976751</td>\n",
       "      <td>0.067587</td>\n",
       "      <td>0.697406</td>\n",
       "      <td>1.439259</td>\n",
       "    </tr>\n",
       "    <tr>\n",
       "      <th>20</th>\n",
       "      <td>20</td>\n",
       "      <td>0.977027</td>\n",
       "      <td>0.065435</td>\n",
       "      <td>0.694524</td>\n",
       "      <td>1.502346</td>\n",
       "    </tr>\n",
       "    <tr>\n",
       "      <th>21</th>\n",
       "      <td>21</td>\n",
       "      <td>0.975090</td>\n",
       "      <td>0.066163</td>\n",
       "      <td>0.682997</td>\n",
       "      <td>1.501104</td>\n",
       "    </tr>\n",
       "    <tr>\n",
       "      <th>22</th>\n",
       "      <td>22</td>\n",
       "      <td>0.978135</td>\n",
       "      <td>0.060533</td>\n",
       "      <td>0.685879</td>\n",
       "      <td>1.607980</td>\n",
       "    </tr>\n",
       "    <tr>\n",
       "      <th>23</th>\n",
       "      <td>23</td>\n",
       "      <td>0.978411</td>\n",
       "      <td>0.058377</td>\n",
       "      <td>0.682997</td>\n",
       "      <td>1.523049</td>\n",
       "    </tr>\n",
       "    <tr>\n",
       "      <th>24</th>\n",
       "      <td>24</td>\n",
       "      <td>0.978965</td>\n",
       "      <td>0.061446</td>\n",
       "      <td>0.694524</td>\n",
       "      <td>1.564245</td>\n",
       "    </tr>\n",
       "  </tbody>\n",
       "</table>\n",
       "</div>"
      ],
      "text/plain": [
       "    epoch       acc      loss   val_acc  val_loss\n",
       "0       0  0.349848  1.333412  0.438040  1.290668\n",
       "1       1  0.616662  1.017402  0.631124  0.973613\n",
       "2       2  0.792139  0.599234  0.697406  0.805977\n",
       "3       3  0.856075  0.408494  0.706052  0.819154\n",
       "4       4  0.889289  0.317536  0.680115  0.829515\n",
       "5       5  0.915859  0.253498  0.677233  0.853639\n",
       "6       6  0.934404  0.201381  0.654179  0.974444\n",
       "7       7  0.947412  0.168846  0.700288  0.977787\n",
       "8       8  0.950457  0.150403  0.671470  1.067882\n",
       "9       9  0.963465  0.127094  0.680115  1.144580\n",
       "10     10  0.965403  0.113676  0.682997  1.164006\n",
       "11     11  0.968170  0.102876  0.691643  1.195914\n",
       "12     12  0.970661  0.094129  0.682997  1.233783\n",
       "13     13  0.973429  0.087123  0.685879  1.286405\n",
       "14     14  0.973983  0.085508  0.682997  1.356129\n",
       "15     15  0.974260  0.080079  0.674352  1.382489\n",
       "16     16  0.974536  0.071741  0.674352  1.422162\n",
       "17     17  0.975090  0.074365  0.688761  1.411371\n",
       "18     18  0.975090  0.070342  0.691643  1.446481\n",
       "19     19  0.976751  0.067587  0.697406  1.439259\n",
       "20     20  0.977027  0.065435  0.694524  1.502346\n",
       "21     21  0.975090  0.066163  0.682997  1.501104\n",
       "22     22  0.978135  0.060533  0.685879  1.607980\n",
       "23     23  0.978411  0.058377  0.682997  1.523049\n",
       "24     24  0.978965  0.061446  0.694524  1.564245"
      ]
     },
     "execution_count": 20,
     "metadata": {},
     "output_type": "execute_result"
    }
   ],
   "source": [
    "#Let's take a look at the training log\n",
    "training_log = pd.DataFrame()\n",
    "training_log = pd.read_csv(\"logs/training_log.csv\")\n",
    "training_log"
   ]
  },
  {
   "cell_type": "code",
   "execution_count": 21,
   "metadata": {},
   "outputs": [
    {
     "data": {
      "image/png": "[encoded data removed]",
      "text/plain": [
       "<Figure size 432x288 with 1 Axes>"
      ]
     },
     "metadata": {},
     "output_type": "display_data"
    },
    {
     "data": {
      "image/png": "[encoded data removed]",
      "text/plain": [
       "<Figure size 432x288 with 1 Axes>"
      ]
     },
     "metadata": {},
     "output_type": "display_data"
    }
   ],
   "source": [
    "def show_train_history(train_history, train, validation):\n",
    "    fig = plt.figure()\n",
    "    plt.plot(train_history.history[train])\n",
    "    plt.plot(train_history.history[validation])\n",
    "    plt.title('Train History')\n",
    "    plt.ylabel(train)\n",
    "    plt.xlabel('Epoch')\n",
    "    plt.legend(['train', 'validation'], loc='best')\n",
    "    \n",
    "\n",
    "\n",
    "show_train_history(history, 'acc', 'val_acc',)\n",
    "show_train_history(history, 'loss', 'val_loss')"
   ]
  },
  {
   "cell_type": "markdown",
   "metadata": {},
   "source": [
    "explanation:\n",
    "\n",
    "from the grapth I found that the training loss keeps decreasing that means there is no under-fitting problem at training.\n",
    "\n",
    "but since 3rd epoch,the validation loss keeps increasing that means the model is over-fitting to the training dataset,that is the reason that model got bad performence in validation dataset.\n",
    "\n",
    "If I have to choose a model to implement on my task I will choose the 3rd epoch."
   ]
  },
  {
   "cell_type": "markdown",
   "metadata": {},
   "source": [
    "---\n",
    "### ** > Exercise 7 (Take home): **  \n",
    "\n",
    "Now, we have the word vectors, but our input data is a sequence of words (or say sentence). \n",
    "How can we utilize these \"word\" vectors to represent the sentence data and train our model?\n"
   ]
  },
  {
   "cell_type": "code",
   "execution_count": 22,
   "metadata": {},
   "outputs": [
    {
     "data": {
      "text/html": [
       "<div>\n",
       "<style scoped>\n",
       "    .dataframe tbody tr th:only-of-type {\n",
       "        vertical-align: middle;\n",
       "    }\n",
       "\n",
       "    .dataframe tbody tr th {\n",
       "        vertical-align: top;\n",
       "    }\n",
       "\n",
       "    .dataframe thead th {\n",
       "        text-align: right;\n",
       "    }\n",
       "</style>\n",
       "<table border=\"1\" class=\"dataframe\">\n",
       "  <thead>\n",
       "    <tr style=\"text-align: right;\">\n",
       "      <th></th>\n",
       "      <th>id</th>\n",
       "      <th>text</th>\n",
       "      <th>text_tokenized</th>\n",
       "    </tr>\n",
       "  </thead>\n",
       "  <tbody>\n",
       "    <tr>\n",
       "      <th>396</th>\n",
       "      <td>10396</td>\n",
       "      <td>I have a rage rage ep 2 coming out soon I'll k...</td>\n",
       "      <td>[I, have, a, rage, rage, ep, 2, coming, out, s...</td>\n",
       "    </tr>\n",
       "    <tr>\n",
       "      <th>2916</th>\n",
       "      <td>40089</td>\n",
       "      <td>@ily_geuly call me now I'm laying in my bed mo...</td>\n",
       "      <td>[@, ily_geuly, call, me, now, I, 'm, laying, i...</td>\n",
       "    </tr>\n",
       "    <tr>\n",
       "      <th>1236</th>\n",
       "      <td>20379</td>\n",
       "      <td>@peacexxanna your nightmare</td>\n",
       "      <td>[@, peacexxanna, your, nightmare]</td>\n",
       "    </tr>\n",
       "    <tr>\n",
       "      <th>1077</th>\n",
       "      <td>20220</td>\n",
       "      <td>There's always that one song which makes you t...</td>\n",
       "      <td>[There, 's, always, that, one, song, which, ma...</td>\n",
       "    </tr>\n",
       "    <tr>\n",
       "      <th>2169</th>\n",
       "      <td>30165</td>\n",
       "      <td>A joyous first webiversary/web mitzvah to Smit...</td>\n",
       "      <td>[A, joyous, first, webiversary/web, mitzvah, t...</td>\n",
       "    </tr>\n",
       "  </tbody>\n",
       "</table>\n",
       "</div>"
      ],
      "text/plain": [
       "         id                                               text  \\\n",
       "396   10396  I have a rage rage ep 2 coming out soon I'll k...   \n",
       "2916  40089  @ily_geuly call me now I'm laying in my bed mo...   \n",
       "1236  20379                        @peacexxanna your nightmare   \n",
       "1077  20220  There's always that one song which makes you t...   \n",
       "2169  30165  A joyous first webiversary/web mitzvah to Smit...   \n",
       "\n",
       "                                         text_tokenized  \n",
       "396   [I, have, a, rage, rage, ep, 2, coming, out, s...  \n",
       "2916  [@, ily_geuly, call, me, now, I, 'm, laying, i...  \n",
       "1236                  [@, peacexxanna, your, nightmare]  \n",
       "1077  [There, 's, always, that, one, song, which, ma...  \n",
       "2169  [A, joyous, first, webiversary/web, mitzvah, t...  "
      ]
     },
     "execution_count": 22,
     "metadata": {},
     "output_type": "execute_result"
    }
   ],
   "source": [
    "## check library\n",
    "import gensim\n",
    "\n",
    "## ignore warnings\n",
    "import warnings\n",
    "warnings.filterwarnings('ignore')\n",
    "\n",
    "# # if you want to see the training messages, you can use it\n",
    "# import logging\n",
    "# logging.basicConfig(format='%(asctime)s : %(levelname)s : %(message)s', level=logging.INFO)\n",
    "\n",
    "## the input type\n",
    "train_df['text_tokenized'] = train_df['text'].apply(lambda x: nltk.word_tokenize(x))\n",
    "train_df[['id', 'text', 'text_tokenized']].head()"
   ]
  },
  {
   "cell_type": "code",
   "execution_count": 23,
   "metadata": {},
   "outputs": [
    {
     "data": {
      "text/plain": [
       "array([list(['I', 'have', 'a', 'rage', 'rage', 'ep', '2', 'coming', 'out', 'soon', 'I', \"'ll\", 'keep', 'you', 'posted', 'on', 'it', '#', 'YouTube', '#', 'youtubegaming', '#', 'rage']),\n",
       "       list(['@', 'ily_geuly', 'call', 'me', 'now', 'I', \"'m\", 'laying', 'in', 'my', 'bed', 'moping', 'like', 'I', 'intend', 'to', 'do', 'for', 'the', 'next', '2', 'months', '.']),\n",
       "       list(['@', 'peacexxanna', 'your', 'nightmare'])], dtype=object)"
      ]
     },
     "execution_count": 23,
     "metadata": {},
     "output_type": "execute_result"
    }
   ],
   "source": [
    "## create the training corpus\n",
    "training_corpus = train_df['text_tokenized'].values\n",
    "training_corpus[:3]"
   ]
  },
  {
   "cell_type": "code",
   "execution_count": 24,
   "metadata": {},
   "outputs": [
    {
     "data": {
      "text/html": [
       "<div>\n",
       "<style scoped>\n",
       "    .dataframe tbody tr th:only-of-type {\n",
       "        vertical-align: middle;\n",
       "    }\n",
       "\n",
       "    .dataframe tbody tr th {\n",
       "        vertical-align: top;\n",
       "    }\n",
       "\n",
       "    .dataframe thead th {\n",
       "        text-align: right;\n",
       "    }\n",
       "</style>\n",
       "<table border=\"1\" class=\"dataframe\">\n",
       "  <thead>\n",
       "    <tr style=\"text-align: right;\">\n",
       "      <th></th>\n",
       "      <th>id</th>\n",
       "      <th>text</th>\n",
       "      <th>text_tokenized</th>\n",
       "    </tr>\n",
       "  </thead>\n",
       "  <tbody>\n",
       "    <tr>\n",
       "      <th>396</th>\n",
       "      <td>10396</td>\n",
       "      <td>I have a rage rage ep 2 coming out soon I'll k...</td>\n",
       "      <td>[I, have, a, rage, rage, ep, 2, coming, out, s...</td>\n",
       "    </tr>\n",
       "    <tr>\n",
       "      <th>2916</th>\n",
       "      <td>40089</td>\n",
       "      <td>@ily_geuly call me now I'm laying in my bed mo...</td>\n",
       "      <td>[@, ily_geuly, call, me, now, I, 'm, laying, i...</td>\n",
       "    </tr>\n",
       "    <tr>\n",
       "      <th>1236</th>\n",
       "      <td>20379</td>\n",
       "      <td>@peacexxanna your nightmare</td>\n",
       "      <td>[@, peacexxanna, your, nightmare]</td>\n",
       "    </tr>\n",
       "    <tr>\n",
       "      <th>1077</th>\n",
       "      <td>20220</td>\n",
       "      <td>There's always that one song which makes you t...</td>\n",
       "      <td>[There, 's, always, that, one, song, which, ma...</td>\n",
       "    </tr>\n",
       "    <tr>\n",
       "      <th>2169</th>\n",
       "      <td>30165</td>\n",
       "      <td>A joyous first webiversary/web mitzvah to Smit...</td>\n",
       "      <td>[A, joyous, first, webiversary/web, mitzvah, t...</td>\n",
       "    </tr>\n",
       "  </tbody>\n",
       "</table>\n",
       "</div>"
      ],
      "text/plain": [
       "         id                                               text  \\\n",
       "396   10396  I have a rage rage ep 2 coming out soon I'll k...   \n",
       "2916  40089  @ily_geuly call me now I'm laying in my bed mo...   \n",
       "1236  20379                        @peacexxanna your nightmare   \n",
       "1077  20220  There's always that one song which makes you t...   \n",
       "2169  30165  A joyous first webiversary/web mitzvah to Smit...   \n",
       "\n",
       "                                         text_tokenized  \n",
       "396   [I, have, a, rage, rage, ep, 2, coming, out, s...  \n",
       "2916  [@, ily_geuly, call, me, now, I, 'm, laying, i...  \n",
       "1236                  [@, peacexxanna, your, nightmare]  \n",
       "1077  [There, 's, always, that, one, song, which, ma...  \n",
       "2169  [A, joyous, first, webiversary/web, mitzvah, t...  "
      ]
     },
     "execution_count": 24,
     "metadata": {},
     "output_type": "execute_result"
    }
   ],
   "source": [
    "## the input type\n",
    "train_df['text_tokenized'] = train_df['text'].apply(lambda x: nltk.word_tokenize(x))\n",
    "train_df[['id', 'text', 'text_tokenized']].head()"
   ]
  },
  {
   "cell_type": "code",
   "execution_count": 25,
   "metadata": {},
   "outputs": [],
   "source": [
    "from gensim.models import Word2Vec\n",
    "\n",
    "## setting\n",
    "vector_dim = 100\n",
    "window_size = 5\n",
    "min_count = 1\n",
    "training_iter = 20\n",
    "\n",
    "## model\n",
    "word2vec_model = Word2Vec(sentences=training_corpus, \n",
    "                          size=vector_dim, window=window_size, \n",
    "                          min_count=min_count, iter=training_iter)"
   ]
  },
  {
   "cell_type": "code",
   "execution_count": 26,
   "metadata": {},
   "outputs": [
    {
     "data": {
      "text/plain": [
       "array([ 0.6165615 ,  0.04990582,  0.5577328 , -0.74553704,  0.6734608 ,\n",
       "       -0.44444555,  0.63372153,  0.58657247, -0.2526259 , -0.07064521,\n",
       "       -0.40975875, -0.61873865,  0.09275842, -0.03072966, -0.40447962,\n",
       "        0.47365704,  0.8544715 , -0.65446264, -0.6778104 , -0.05800816,\n",
       "        0.16249177, -0.09059345,  0.61055386,  0.20063987,  0.2980399 ,\n",
       "        0.3732526 , -1.0064913 ,  0.2947826 ,  0.18378404,  0.3243954 ,\n",
       "        0.7900109 , -0.21379714,  0.46485224, -0.08393203,  0.09842264,\n",
       "       -0.33806694, -0.13178213, -0.83959687, -0.04465299,  0.5013055 ,\n",
       "        0.649764  , -0.2850615 , -0.5178157 , -0.23636469, -0.18989025,\n",
       "        0.35485765,  0.60782963,  0.14764749, -0.03863455,  0.43374217,\n",
       "        0.1377373 ,  0.64324987, -1.2352831 , -0.02976844, -0.6179421 ,\n",
       "        0.34057084, -0.16178845,  0.7546292 ,  0.2224064 ,  0.04956884,\n",
       "        0.1227622 ,  0.19859579,  0.22367008,  1.5244219 , -0.11270186,\n",
       "        0.08191485,  0.07298639, -0.42522165, -0.44811836,  0.24886853,\n",
       "        0.5308695 ,  0.7410112 ,  0.31057608, -0.24002637,  0.9018572 ,\n",
       "       -0.7202722 , -0.57914245,  0.7494699 , -0.00260473,  0.04788739,\n",
       "        0.9400351 ,  0.20111264, -0.4039433 ,  0.47444004, -0.2489546 ,\n",
       "       -0.41923672, -0.19266167,  0.68376535,  0.38425827, -0.6981669 ,\n",
       "       -0.01323872, -0.01643976, -0.9908754 , -0.13655153, -0.7627991 ,\n",
       "        1.0532745 ,  0.10080744, -0.36004612, -0.09354889, -0.6762886 ],\n",
       "      dtype=float32)"
      ]
     },
     "execution_count": 26,
     "metadata": {},
     "output_type": "execute_result"
    }
   ],
   "source": [
    "# get the corresponding vector of a word\n",
    "word_vec = word2vec_model.wv['happy']\n",
    "word_vec"
   ]
  },
  {
   "cell_type": "code",
   "execution_count": 27,
   "metadata": {},
   "outputs": [
    {
     "data": {
      "text/plain": [
       "[('clock', 0.9961104393005371),\n",
       " ('candy', 0.9932633638381958),\n",
       " ('Brad', 0.9923362731933594),\n",
       " ('painting', 0.9915336966514587),\n",
       " ('Anthony', 0.9910014271736145),\n",
       " ('difficulty', 0.9906498193740845),\n",
       " ('overtime', 0.9903508424758911),\n",
       " ('stories', 0.9902710318565369),\n",
       " ('LOLOLOL', 0.9902585744857788),\n",
       " ('butt', 0.9895182847976685)]"
      ]
     },
     "execution_count": 27,
     "metadata": {},
     "output_type": "execute_result"
    }
   ],
   "source": [
    "# Get the most similar words\n",
    "word = 'Yo'\n",
    "topn = 10\n",
    "word2vec_model.most_similar(word, topn=topn)"
   ]
  },
  {
   "cell_type": "markdown",
   "metadata": {},
   "source": [
    "---\n",
    "utilize word vector:\n",
    "\n",
    "use the trained word2vec model 'word2vec_model',and apply it on each sentence to generate the word vector\n",
    "\n",
    "in order to train our model"
   ]
  },
  {
   "cell_type": "code",
   "execution_count": 28,
   "metadata": {},
   "outputs": [
    {
     "data": {
      "text/html": [
       "<div>\n",
       "<style scoped>\n",
       "    .dataframe tbody tr th:only-of-type {\n",
       "        vertical-align: middle;\n",
       "    }\n",
       "\n",
       "    .dataframe tbody tr th {\n",
       "        vertical-align: top;\n",
       "    }\n",
       "\n",
       "    .dataframe thead th {\n",
       "        text-align: right;\n",
       "    }\n",
       "</style>\n",
       "<table border=\"1\" class=\"dataframe\">\n",
       "  <thead>\n",
       "    <tr style=\"text-align: right;\">\n",
       "      <th></th>\n",
       "      <th>text_tokenized</th>\n",
       "      <th>text_data_vec</th>\n",
       "    </tr>\n",
       "  </thead>\n",
       "  <tbody>\n",
       "    <tr>\n",
       "      <th>396</th>\n",
       "      <td>[I, have, a, rage, rage, ep, 2, coming, out, s...</td>\n",
       "      <td>[[0.6127934, 0.24790898, 0.22961845, 0.6271601...</td>\n",
       "    </tr>\n",
       "    <tr>\n",
       "      <th>2916</th>\n",
       "      <td>[@, ily_geuly, call, me, now, I, 'm, laying, i...</td>\n",
       "      <td>[[-0.57588494, 0.23757112, 0.7081463, -1.09163...</td>\n",
       "    </tr>\n",
       "    <tr>\n",
       "      <th>1236</th>\n",
       "      <td>[@, peacexxanna, your, nightmare]</td>\n",
       "      <td>[[-0.57588494, 0.23757112, 0.7081463, -1.09163...</td>\n",
       "    </tr>\n",
       "    <tr>\n",
       "      <th>1077</th>\n",
       "      <td>[There, 's, always, that, one, song, which, ma...</td>\n",
       "      <td>[[-0.001418988, -0.04303484, 0.06356961, -0.19...</td>\n",
       "    </tr>\n",
       "    <tr>\n",
       "      <th>2169</th>\n",
       "      <td>[A, joyous, first, webiversary/web, mitzvah, t...</td>\n",
       "      <td>[[-0.051519748, -0.016974248, 0.3606741, -0.71...</td>\n",
       "    </tr>\n",
       "  </tbody>\n",
       "</table>\n",
       "</div>"
      ],
      "text/plain": [
       "                                         text_tokenized  \\\n",
       "396   [I, have, a, rage, rage, ep, 2, coming, out, s...   \n",
       "2916  [@, ily_geuly, call, me, now, I, 'm, laying, i...   \n",
       "1236                  [@, peacexxanna, your, nightmare]   \n",
       "1077  [There, 's, always, that, one, song, which, ma...   \n",
       "2169  [A, joyous, first, webiversary/web, mitzvah, t...   \n",
       "\n",
       "                                          text_data_vec  \n",
       "396   [[0.6127934, 0.24790898, 0.22961845, 0.6271601...  \n",
       "2916  [[-0.57588494, 0.23757112, 0.7081463, -1.09163...  \n",
       "1236  [[-0.57588494, 0.23757112, 0.7081463, -1.09163...  \n",
       "1077  [[-0.001418988, -0.04303484, 0.06356961, -0.19...  \n",
       "2169  [[-0.051519748, -0.016974248, 0.3606741, -0.71...  "
      ]
     },
     "execution_count": 28,
     "metadata": {},
     "output_type": "execute_result"
    }
   ],
   "source": [
    "train_df['text_data_vec'] = train_df['text_tokenized'].apply(lambda x :word2vec_model.wv[x])\n",
    "train_df[['text_tokenized','text_data_vec']].head()"
   ]
  },
  {
   "cell_type": "markdown",
   "metadata": {},
   "source": [
    "---\n",
    "### ** > Exercise 8 (Take home): **  \n",
    "\n",
    "Generate a t-SNE visualization to show the 15 words most related to the words \"angry\", \"happy\", \"sad\", \"fear\" (60 words total)."
   ]
  },
  {
   "cell_type": "code",
   "execution_count": 29,
   "metadata": {},
   "outputs": [
    {
     "name": "stdout",
     "output_type": "stream",
     "text": [
      "load ok\n"
     ]
    }
   ],
   "source": [
    "from gensim.models import KeyedVectors\n",
    "\n",
    "## Note: this model is very huge, this will take some time ...\n",
    "model_path = \"GoogleNews-vectors-negative300.bin.\"\n",
    "w2v_google_model = KeyedVectors.load_word2vec_format(model_path, binary=True)\n",
    "print('load ok')"
   ]
  },
  {
   "cell_type": "code",
   "execution_count": 33,
   "metadata": {},
   "outputs": [
    {
     "name": "stdout",
     "output_type": "stream",
     "text": [
      "\n",
      "target words: \n",
      "angry_words:  ['angry', 'irate', 'enraged', 'indignant', 'incensed', 'annoyed', 'agitated', 'frustrated', 'furious', 'unhappy', 'outraged', 'livid', 'irritated', 'exasperated', 'angrier', 'Angry']\n",
      "happy_words:  ['happy', 'glad', 'pleased', 'ecstatic', 'overjoyed', 'thrilled', 'satisfied', 'proud', 'delighted', 'disappointed', 'excited', 'happier', 'Said_Hirschbeck', 'elated', 'thankful', 'unhappy']\n",
      "sad_words:  ['sad', 'saddening', 'Sad', 'saddened', 'heartbreaking', 'disheartening', 'Meny_Friedman', 'parishioner_Pat_Patello', 'saddens_me', 'distressing', 'reminders_bobbing', 'Turkoman_Shiites', 'saddest', 'unfortunate', 'sorry', 'bittersweet']\n",
      "fear_words:  ['fear', 'fearful', 'fears', 'Fear', 'fearing', 'worry', 'dread', 'feared', 'anxiety', 'apprehension', 'afraid', 'worries', 'concern', 'distrust', 'worried', 'Fearful']\n",
      "\n",
      "color list:\n",
      "['b', 'b', 'b', 'b', 'b', 'b', 'b', 'b', 'b', 'b', 'b', 'b', 'b', 'b', 'b', 'b', 'g', 'g', 'g', 'g', 'g', 'g', 'g', 'g', 'g', 'g', 'g', 'g', 'g', 'g', 'g', 'g', 'r', 'r', 'r', 'r', 'r', 'r', 'r', 'r', 'r', 'r', 'r', 'r', 'r', 'r', 'r', 'r', 'y', 'y', 'y', 'y', 'y', 'y', 'y', 'y', 'y', 'y', 'y', 'y', 'y', 'y', 'y', 'y']\n"
     ]
    }
   ],
   "source": [
    "word_list = ['angry','happy', 'sad', 'fear']\n",
    "\n",
    "topn = 15\n",
    "angry_words = ['angry'] + [word_ for word_, sim_ in w2v_google_model.most_similar('angry', topn=topn)] \n",
    "happy_words = ['happy'] + [word_ for word_, sim_ in w2v_google_model.most_similar('happy', topn=topn)]\n",
    "sad_words = ['sad'] + [word_ for word_, sim_ in w2v_google_model.most_similar('sad', topn=topn)]        \n",
    "fear_words = ['fear'] + [word_ for word_, sim_ in w2v_google_model.most_similar('fear', topn=topn)]        \n",
    "print('\\ntarget words: ')\n",
    "print('angry_words: ', angry_words)\n",
    "print('happy_words: ', happy_words)\n",
    "print('sad_words: ', sad_words)\n",
    "print('fear_words: ', fear_words)\n",
    "\n",
    "\n",
    "\n",
    "print('\\ncolor list:')\n",
    "cn = topn + 1\n",
    "color = ['b'] * cn + ['g'] * cn + ['r'] * cn + ['y'] * cn\n",
    "print(color)"
   ]
  },
  {
   "cell_type": "code",
   "execution_count": 34,
   "metadata": {},
   "outputs": [
    {
     "data": {
      "image/png": "[encoded data removed]",
      "text/plain": [
       "<Figure size 862.5x862.5 with 1 Axes>"
      ]
     },
     "metadata": {},
     "output_type": "display_data"
    }
   ],
   "source": [
    "%matplotlib inline\n",
    "import matplotlib.pyplot as plt\n",
    "from sklearn.manifold import TSNE\n",
    "\n",
    "## w2v model\n",
    "model = w2v_google_model\n",
    "\n",
    "## prepare training word vectors\n",
    "size = 200\n",
    "target_size = len(target_words)\n",
    "all_word = list(model.vocab.keys())\n",
    "word_train = target_words + all_word[:size]\n",
    "X_train = model[word_train]\n",
    "\n",
    "## t-SNE model\n",
    "tsne = TSNE(n_components=2, metric='cosine', random_state=28)\n",
    "\n",
    "## training\n",
    "X_tsne = tsne.fit_transform(X_train)\n",
    "\n",
    "## plot the result\n",
    "plt.figure(figsize=(7.5, 7.5), dpi=115)\n",
    "plt.scatter(X_tsne[:target_size, 0], X_tsne[:target_size, 1], c=color)\n",
    "for label, x, y in zip(target_words, X_tsne[:target_size, 0], X_tsne[:target_size, 1]):\n",
    "    plt.annotate(label, xy=(x,y), xytext=(0,0),  textcoords='offset points')\n",
    "plt.show()"
   ]
  },
  {
   "cell_type": "markdown",
   "metadata": {},
   "source": [
    "---\n",
    "\n",
    "### Second,Third -kaggle competition report"
   ]
  },
  {
   "cell_type": "markdown",
   "metadata": {},
   "source": [
    "before pre-processing, I do some privious work to generate the raw dataset from tweet_DM.json\n",
    "#step 1 :load tweet_DM.json and translate into raw set that only have 'tweet_id' and 'text' column\n",
    "#step 2 :according to 'data_identification.csv' spilt raw set into train set and test set\n",
    "#step 3 :merge 'emotion.csv' and train set on 'tweet_id',then it's time to do some pre-processing"
   ]
  },
  {
   "cell_type": "code",
   "execution_count": 35,
   "metadata": {},
   "outputs": [
    {
     "data": {
      "text/html": [
       "<div>\n",
       "<style scoped>\n",
       "    .dataframe tbody tr th:only-of-type {\n",
       "        vertical-align: middle;\n",
       "    }\n",
       "\n",
       "    .dataframe tbody tr th {\n",
       "        vertical-align: top;\n",
       "    }\n",
       "\n",
       "    .dataframe thead th {\n",
       "        text-align: right;\n",
       "    }\n",
       "</style>\n",
       "<table border=\"1\" class=\"dataframe\">\n",
       "  <thead>\n",
       "    <tr style=\"text-align: right;\">\n",
       "      <th></th>\n",
       "      <th>id</th>\n",
       "      <th>text</th>\n",
       "      <th>emotion</th>\n",
       "    </tr>\n",
       "  </thead>\n",
       "  <tbody>\n",
       "    <tr>\n",
       "      <th>0</th>\n",
       "      <td>0x30b1e3</td>\n",
       "      <td>Tomorrow is promised to no one, so cherish the...</td>\n",
       "      <td>anticipation\\r\\r</td>\n",
       "    </tr>\n",
       "    <tr>\n",
       "      <th>1</th>\n",
       "      <td>0x31dc09</td>\n",
       "      <td>In literature Snow symbolizes either death or ...</td>\n",
       "      <td>joy\\r\\r</td>\n",
       "    </tr>\n",
       "    <tr>\n",
       "      <th>2</th>\n",
       "      <td>0x36c550</td>\n",
       "      <td>@Rachael_Swindon We live in a godless world of...</td>\n",
       "      <td>joy\\r\\r</td>\n",
       "    </tr>\n",
       "    <tr>\n",
       "      <th>3</th>\n",
       "      <td>0x27fdae</td>\n",
       "      <td>When u forget to turn on ur alarm but a truck ...</td>\n",
       "      <td>joy\\r\\r</td>\n",
       "    </tr>\n",
       "    <tr>\n",
       "      <th>4</th>\n",
       "      <td>0x24c2e6</td>\n",
       "      <td>Who the fuck gives vegemite sandwiches and smi...</td>\n",
       "      <td>disgust\\r\\r</td>\n",
       "    </tr>\n",
       "  </tbody>\n",
       "</table>\n",
       "</div>"
      ],
      "text/plain": [
       "         id                                               text  \\\n",
       "0  0x30b1e3  Tomorrow is promised to no one, so cherish the...   \n",
       "1  0x31dc09  In literature Snow symbolizes either death or ...   \n",
       "2  0x36c550  @Rachael_Swindon We live in a godless world of...   \n",
       "3  0x27fdae  When u forget to turn on ur alarm but a truck ...   \n",
       "4  0x24c2e6  Who the fuck gives vegemite sandwiches and smi...   \n",
       "\n",
       "            emotion  \n",
       "0  anticipation\\r\\r  \n",
       "1           joy\\r\\r  \n",
       "2           joy\\r\\r  \n",
       "3           joy\\r\\r  \n",
       "4       disgust\\r\\r  "
      ]
     },
     "execution_count": 35,
     "metadata": {},
     "output_type": "execute_result"
    }
   ],
   "source": [
    "###pre-processing\n",
    "import pandas as pd\n",
    "df = pd.read_csv('trainset_sample.csv',lineterminator = '\\n')\n",
    "#df = pd.read_csv('testset_sample.csv',lineterminator = '\\n')\n",
    "df.columns = ['id','text','emotion']\n",
    "df[0:5]"
   ]
  },
  {
   "cell_type": "code",
   "execution_count": 36,
   "metadata": {},
   "outputs": [
    {
     "data": {
      "text/html": [
       "<div>\n",
       "<style scoped>\n",
       "    .dataframe tbody tr th:only-of-type {\n",
       "        vertical-align: middle;\n",
       "    }\n",
       "\n",
       "    .dataframe tbody tr th {\n",
       "        vertical-align: top;\n",
       "    }\n",
       "\n",
       "    .dataframe thead th {\n",
       "        text-align: right;\n",
       "    }\n",
       "</style>\n",
       "<table border=\"1\" class=\"dataframe\">\n",
       "  <thead>\n",
       "    <tr style=\"text-align: right;\">\n",
       "      <th></th>\n",
       "      <th>id</th>\n",
       "      <th>text</th>\n",
       "      <th>emotion</th>\n",
       "    </tr>\n",
       "  </thead>\n",
       "  <tbody>\n",
       "    <tr>\n",
       "      <th>0</th>\n",
       "      <td>0x30b1e3</td>\n",
       "      <td>Tomorrow is promised to no one, so cherish the...</td>\n",
       "      <td>anticipation</td>\n",
       "    </tr>\n",
       "    <tr>\n",
       "      <th>1</th>\n",
       "      <td>0x31dc09</td>\n",
       "      <td>In literature Snow symbolizes either death or ...</td>\n",
       "      <td>joy</td>\n",
       "    </tr>\n",
       "    <tr>\n",
       "      <th>2</th>\n",
       "      <td>0x36c550</td>\n",
       "      <td>@Rachael_Swindon We live in a godless world of...</td>\n",
       "      <td>joy</td>\n",
       "    </tr>\n",
       "    <tr>\n",
       "      <th>3</th>\n",
       "      <td>0x27fdae</td>\n",
       "      <td>When u forget to turn on ur alarm but a truck ...</td>\n",
       "      <td>joy</td>\n",
       "    </tr>\n",
       "    <tr>\n",
       "      <th>4</th>\n",
       "      <td>0x24c2e6</td>\n",
       "      <td>Who the fuck gives vegemite sandwiches and smi...</td>\n",
       "      <td>disgust</td>\n",
       "    </tr>\n",
       "  </tbody>\n",
       "</table>\n",
       "</div>"
      ],
      "text/plain": [
       "         id                                               text       emotion\n",
       "0  0x30b1e3  Tomorrow is promised to no one, so cherish the...  anticipation\n",
       "1  0x31dc09  In literature Snow symbolizes either death or ...           joy\n",
       "2  0x36c550  @Rachael_Swindon We live in a godless world of...           joy\n",
       "3  0x27fdae  When u forget to turn on ur alarm but a truck ...           joy\n",
       "4  0x24c2e6  Who the fuck gives vegemite sandwiches and smi...       disgust"
      ]
     },
     "execution_count": 36,
     "metadata": {},
     "output_type": "execute_result"
    }
   ],
   "source": [
    "df['emotion']=df['emotion'].apply(lambda x:x.replace('\\r',''))\n",
    "df[0:5]"
   ]
  },
  {
   "cell_type": "code",
   "execution_count": 37,
   "metadata": {},
   "outputs": [
    {
     "data": {
      "text/html": [
       "<div>\n",
       "<style scoped>\n",
       "    .dataframe tbody tr th:only-of-type {\n",
       "        vertical-align: middle;\n",
       "    }\n",
       "\n",
       "    .dataframe tbody tr th {\n",
       "        vertical-align: top;\n",
       "    }\n",
       "\n",
       "    .dataframe thead th {\n",
       "        text-align: right;\n",
       "    }\n",
       "</style>\n",
       "<table border=\"1\" class=\"dataframe\">\n",
       "  <thead>\n",
       "    <tr style=\"text-align: right;\">\n",
       "      <th></th>\n",
       "      <th>id</th>\n",
       "      <th>text</th>\n",
       "      <th>emotion</th>\n",
       "    </tr>\n",
       "  </thead>\n",
       "  <tbody>\n",
       "    <tr>\n",
       "      <th>0</th>\n",
       "      <td>0x30b1e3</td>\n",
       "      <td>Tomorrow is promised to no one, so cherish the...</td>\n",
       "      <td>anticipation</td>\n",
       "    </tr>\n",
       "    <tr>\n",
       "      <th>1</th>\n",
       "      <td>0x31dc09</td>\n",
       "      <td>In literature Snow symbolizes either death or ...</td>\n",
       "      <td>joy</td>\n",
       "    </tr>\n",
       "    <tr>\n",
       "      <th>2</th>\n",
       "      <td>0x36c550</td>\n",
       "      <td>We live in a godless world of  greed and  pe...</td>\n",
       "      <td>joy</td>\n",
       "    </tr>\n",
       "    <tr>\n",
       "      <th>3</th>\n",
       "      <td>0x27fdae</td>\n",
       "      <td>When u forget to turn on ur alarm but a truck ...</td>\n",
       "      <td>joy</td>\n",
       "    </tr>\n",
       "    <tr>\n",
       "      <th>4</th>\n",
       "      <td>0x24c2e6</td>\n",
       "      <td>Who the fuck gives vegemite sandwiches and smi...</td>\n",
       "      <td>disgust</td>\n",
       "    </tr>\n",
       "  </tbody>\n",
       "</table>\n",
       "</div>"
      ],
      "text/plain": [
       "         id                                               text       emotion\n",
       "0  0x30b1e3  Tomorrow is promised to no one, so cherish the...  anticipation\n",
       "1  0x31dc09  In literature Snow symbolizes either death or ...           joy\n",
       "2  0x36c550    We live in a godless world of  greed and  pe...           joy\n",
       "3  0x27fdae  When u forget to turn on ur alarm but a truck ...           joy\n",
       "4  0x24c2e6  Who the fuck gives vegemite sandwiches and smi...       disgust"
      ]
     },
     "execution_count": 37,
     "metadata": {},
     "output_type": "execute_result"
    }
   ],
   "source": [
    "###remove @blahblah ,numbers,hashtag and <LH>\n",
    "import re\n",
    "import numpy as np\n",
    "def remove_pattern(input_txt,pattern):\n",
    "    r = re.findall(pattern,input_txt)\n",
    "    for i in r:\n",
    "        input_txt = re.sub(i,' ',input_txt)\n",
    "    return input_txt\n",
    "df['text']=np.vectorize(remove_pattern)(df['text'],'@[\\w]*')\n",
    "df['text']=np.vectorize(remove_pattern)(df['text'],'<LH>')\n",
    "df['text']=np.vectorize(remove_pattern)(df['text'],'#')\n",
    "df['text']=np.vectorize(remove_pattern)(df['text'],'[0-9]')\n",
    "df[0:5]"
   ]
  },
  {
   "cell_type": "code",
   "execution_count": 38,
   "metadata": {},
   "outputs": [
    {
     "data": {
      "text/html": [
       "<div>\n",
       "<style scoped>\n",
       "    .dataframe tbody tr th:only-of-type {\n",
       "        vertical-align: middle;\n",
       "    }\n",
       "\n",
       "    .dataframe tbody tr th {\n",
       "        vertical-align: top;\n",
       "    }\n",
       "\n",
       "    .dataframe thead th {\n",
       "        text-align: right;\n",
       "    }\n",
       "</style>\n",
       "<table border=\"1\" class=\"dataframe\">\n",
       "  <thead>\n",
       "    <tr style=\"text-align: right;\">\n",
       "      <th></th>\n",
       "      <th>id</th>\n",
       "      <th>text</th>\n",
       "      <th>emotion</th>\n",
       "    </tr>\n",
       "  </thead>\n",
       "  <tbody>\n",
       "    <tr>\n",
       "      <th>0</th>\n",
       "      <td>0x30b1e3</td>\n",
       "      <td>[tomorrow, is, promised, to, no, one, ,, so, c...</td>\n",
       "      <td>anticipation</td>\n",
       "    </tr>\n",
       "    <tr>\n",
       "      <th>1</th>\n",
       "      <td>0x31dc09</td>\n",
       "      <td>[in, literature, snow, symbolizes, either, dea...</td>\n",
       "      <td>joy</td>\n",
       "    </tr>\n",
       "    <tr>\n",
       "      <th>2</th>\n",
       "      <td>0x36c550</td>\n",
       "      <td>[we, live, in, a, godless, world, of, greed, a...</td>\n",
       "      <td>joy</td>\n",
       "    </tr>\n",
       "    <tr>\n",
       "      <th>3</th>\n",
       "      <td>0x27fdae</td>\n",
       "      <td>[when, u, forget, to, turn, on, ur, alarm, but...</td>\n",
       "      <td>joy</td>\n",
       "    </tr>\n",
       "    <tr>\n",
       "      <th>4</th>\n",
       "      <td>0x24c2e6</td>\n",
       "      <td>[who, the, fuck, gives, vegemite, sandwiches, ...</td>\n",
       "      <td>disgust</td>\n",
       "    </tr>\n",
       "  </tbody>\n",
       "</table>\n",
       "</div>"
      ],
      "text/plain": [
       "         id                                               text       emotion\n",
       "0  0x30b1e3  [tomorrow, is, promised, to, no, one, ,, so, c...  anticipation\n",
       "1  0x31dc09  [in, literature, snow, symbolizes, either, dea...           joy\n",
       "2  0x36c550  [we, live, in, a, godless, world, of, greed, a...           joy\n",
       "3  0x27fdae  [when, u, forget, to, turn, on, ur, alarm, but...           joy\n",
       "4  0x24c2e6  [who, the, fuck, gives, vegemite, sandwiches, ...       disgust"
      ]
     },
     "execution_count": 38,
     "metadata": {},
     "output_type": "execute_result"
    }
   ],
   "source": [
    "###tokenization,use tweet tokenizer\n",
    "from nltk.tokenize import TweetTokenizer\n",
    "token = TweetTokenizer(reduce_len = True)\n",
    "df['text']=df['text'].str.lower()\n",
    "df['text']=df['text'].apply(lambda x :token.tokenize(x))\n",
    "df[0:5]"
   ]
  },
  {
   "cell_type": "code",
   "execution_count": 39,
   "metadata": {},
   "outputs": [
    {
     "data": {
      "text/html": [
       "<div>\n",
       "<style scoped>\n",
       "    .dataframe tbody tr th:only-of-type {\n",
       "        vertical-align: middle;\n",
       "    }\n",
       "\n",
       "    .dataframe tbody tr th {\n",
       "        vertical-align: top;\n",
       "    }\n",
       "\n",
       "    .dataframe thead th {\n",
       "        text-align: right;\n",
       "    }\n",
       "</style>\n",
       "<table border=\"1\" class=\"dataframe\">\n",
       "  <thead>\n",
       "    <tr style=\"text-align: right;\">\n",
       "      <th></th>\n",
       "      <th>id</th>\n",
       "      <th>text</th>\n",
       "      <th>emotion</th>\n",
       "    </tr>\n",
       "  </thead>\n",
       "  <tbody>\n",
       "    <tr>\n",
       "      <th>0</th>\n",
       "      <td>0x30b1e3</td>\n",
       "      <td>[tomorrow, promised, one, cherish, people, pla...</td>\n",
       "      <td>anticipation</td>\n",
       "    </tr>\n",
       "    <tr>\n",
       "      <th>1</th>\n",
       "      <td>0x31dc09</td>\n",
       "      <td>[literature, snow, symbolizes, either, death, ...</td>\n",
       "      <td>joy</td>\n",
       "    </tr>\n",
       "    <tr>\n",
       "      <th>2</th>\n",
       "      <td>0x36c550</td>\n",
       "      <td>[live, godless, world, greed, perversion, into...</td>\n",
       "      <td>joy</td>\n",
       "    </tr>\n",
       "    <tr>\n",
       "      <th>3</th>\n",
       "      <td>0x27fdae</td>\n",
       "      <td>[u, forget, turn, ur, alarm, truck, starts, lo...</td>\n",
       "      <td>joy</td>\n",
       "    </tr>\n",
       "    <tr>\n",
       "      <th>4</th>\n",
       "      <td>0x24c2e6</td>\n",
       "      <td>[fuck, gives, vegemite, sandwiches, smiles, co...</td>\n",
       "      <td>disgust</td>\n",
       "    </tr>\n",
       "  </tbody>\n",
       "</table>\n",
       "</div>"
      ],
      "text/plain": [
       "         id                                               text       emotion\n",
       "0  0x30b1e3  [tomorrow, promised, one, cherish, people, pla...  anticipation\n",
       "1  0x31dc09  [literature, snow, symbolizes, either, death, ...           joy\n",
       "2  0x36c550  [live, godless, world, greed, perversion, into...           joy\n",
       "3  0x27fdae  [u, forget, turn, ur, alarm, truck, starts, lo...           joy\n",
       "4  0x24c2e6  [fuck, gives, vegemite, sandwiches, smiles, co...       disgust"
      ]
     },
     "execution_count": 39,
     "metadata": {},
     "output_type": "execute_result"
    }
   ],
   "source": [
    "###remove stopwords and punctuation \n",
    "from nltk.corpus import stopwords\n",
    "import string\n",
    "stop = stopwords.words('english')\n",
    "df['text']=df['text'].apply(lambda x :[item for item in x if item not in stop])\n",
    "punctuation = list(string.punctuation)\n",
    "punctuation.append('...')\n",
    "df['text']=df['text'].apply(lambda x :[item for item in x if item not in punctuation])\n",
    "df[0:5]"
   ]
  },
  {
   "cell_type": "code",
   "execution_count": 40,
   "metadata": {},
   "outputs": [
    {
     "data": {
      "text/html": [
       "<div>\n",
       "<style scoped>\n",
       "    .dataframe tbody tr th:only-of-type {\n",
       "        vertical-align: middle;\n",
       "    }\n",
       "\n",
       "    .dataframe tbody tr th {\n",
       "        vertical-align: top;\n",
       "    }\n",
       "\n",
       "    .dataframe thead th {\n",
       "        text-align: right;\n",
       "    }\n",
       "</style>\n",
       "<table border=\"1\" class=\"dataframe\">\n",
       "  <thead>\n",
       "    <tr style=\"text-align: right;\">\n",
       "      <th></th>\n",
       "      <th>id</th>\n",
       "      <th>text</th>\n",
       "      <th>emotion</th>\n",
       "    </tr>\n",
       "  </thead>\n",
       "  <tbody>\n",
       "    <tr>\n",
       "      <th>0</th>\n",
       "      <td>0x30b1e3</td>\n",
       "      <td>tomorrow promis one cherish peopl place life t...</td>\n",
       "      <td>anticipation</td>\n",
       "    </tr>\n",
       "    <tr>\n",
       "      <th>1</th>\n",
       "      <td>0x31dc09</td>\n",
       "      <td>literatur snow symbol either death new begin s...</td>\n",
       "      <td>joy</td>\n",
       "    </tr>\n",
       "    <tr>\n",
       "      <th>2</th>\n",
       "      <td>0x36c550</td>\n",
       "      <td>live godless world greed pervers intoler inste...</td>\n",
       "      <td>joy</td>\n",
       "    </tr>\n",
       "    <tr>\n",
       "      <th>3</th>\n",
       "      <td>0x27fdae</td>\n",
       "      <td>u forget turn ur alarm truck start loudli back...</td>\n",
       "      <td>joy</td>\n",
       "    </tr>\n",
       "    <tr>\n",
       "      <th>4</th>\n",
       "      <td>0x24c2e6</td>\n",
       "      <td>fuck give vegemit sandwich smile consid act ag...</td>\n",
       "      <td>disgust</td>\n",
       "    </tr>\n",
       "  </tbody>\n",
       "</table>\n",
       "</div>"
      ],
      "text/plain": [
       "         id                                               text       emotion\n",
       "0  0x30b1e3  tomorrow promis one cherish peopl place life t...  anticipation\n",
       "1  0x31dc09  literatur snow symbol either death new begin s...           joy\n",
       "2  0x36c550  live godless world greed pervers intoler inste...           joy\n",
       "3  0x27fdae  u forget turn ur alarm truck start loudli back...           joy\n",
       "4  0x24c2e6  fuck give vegemit sandwich smile consid act ag...       disgust"
      ]
     },
     "execution_count": 40,
     "metadata": {},
     "output_type": "execute_result"
    }
   ],
   "source": [
    "###stemming\n",
    "from nltk.stem.porter import PorterStemmer\n",
    "stemmer = PorterStemmer()\n",
    "df['text']=df['text'].apply(lambda x:[stemmer.stem(i) for i in x])\n",
    "df[0:5]\n",
    "#stitch tokens back together\n",
    "df['text']=df['text'].apply(lambda x:' '.join(x))\n",
    "df[0:5]"
   ]
  },
  {
   "cell_type": "code",
   "execution_count": 41,
   "metadata": {},
   "outputs": [],
   "source": [
    "###save the clean set in order to train\n",
    "#df.to_csv('cleantrain_set.csv',index = 0)\n",
    "#df.to_csv('cleantest_set.csv',index = 0)"
   ]
  },
  {
   "cell_type": "markdown",
   "metadata": {},
   "source": [
    "after pre-processing, I try to build a CNN-LSTM model to do the task\n",
    "\n",
    "but due to memory issue,I just sample a part of data to display my model"
   ]
  },
  {
   "cell_type": "code",
   "execution_count": 42,
   "metadata": {},
   "outputs": [
    {
     "name": "stdout",
     "output_type": "stream",
     "text": [
      "null in data:\n",
      " id          0\n",
      "text       15\n",
      "emotion     0\n",
      "dtype: int64\n",
      "null in testdata:\n",
      " id      0\n",
      "text    0\n",
      "dtype: int64\n"
     ]
    }
   ],
   "source": [
    "import keras\n",
    "###load training,testing set,dealwith null value(due to pre-processing)\n",
    "data = pd.read_csv('cleantrain_set.csv')\n",
    "data = data.sample(n=5000)\n",
    "testdata = pd.read_csv('cleantest_set.csv')\n",
    "testdata = testdata.sample(n=1000)\n",
    "\n",
    "print('null in data:\\n',np.sum(data.isnull()))\n",
    "print('null in testdata:\\n',np.sum(testdata.isnull()))"
   ]
  },
  {
   "cell_type": "code",
   "execution_count": 43,
   "metadata": {},
   "outputs": [
    {
     "name": "stdout",
     "output_type": "stream",
     "text": [
      "null in data:\n",
      " id         0\n",
      "text       0\n",
      "emotion    0\n",
      "dtype: int64\n",
      "null in testdata:\n",
      " id      0\n",
      "text    0\n",
      "dtype: int64\n"
     ]
    }
   ],
   "source": [
    "data.dropna(inplace = True)\n",
    "testdata.fillna('thisisnull',inplace=True)\n",
    "print('null in data:\\n',np.sum(data.isnull()))\n",
    "print('null in testdata:\\n',np.sum(testdata.isnull()))"
   ]
  },
  {
   "cell_type": "code",
   "execution_count": 44,
   "metadata": {},
   "outputs": [
    {
     "data": {
      "text/plain": [
       "[[3514, 51, 3515, 814, 558, 3516],\n",
       " [22, 217, 94, 469, 907],\n",
       " [73, 130, 57, 95, 34, 68, 7, 34],\n",
       " [33, 815, 255, 815],\n",
       " [1455, 43, 1814, 470, 2325, 1456, 603, 671, 2326, 604]]"
      ]
     },
     "execution_count": 44,
     "metadata": {},
     "output_type": "execute_result"
    }
   ],
   "source": [
    "### Create sequence\n",
    "from keras.preprocessing.text import Tokenizer\n",
    "#take most often 5000 words to word_dic\n",
    "vocabulary_size = 5000 \n",
    "tokenizer = Tokenizer(num_words= vocabulary_size)\n",
    "tokenizer.fit_on_texts(data['text'])\n",
    "#transform words to a sequence\n",
    "sequences = tokenizer.texts_to_sequences(data['text'])\n",
    "sequences[0:5]"
   ]
  },
  {
   "cell_type": "code",
   "execution_count": 45,
   "metadata": {},
   "outputs": [
    {
     "data": {
      "text/plain": [
       "<Figure size 576x432 with 0 Axes>"
      ]
     },
     "metadata": {},
     "output_type": "display_data"
    },
    {
     "data": {
      "image/png": "[encoded data removed]",
      "text/plain": [
       "<Figure size 432x288 with 1 Axes>"
      ]
     },
     "metadata": {},
     "output_type": "display_data"
    }
   ],
   "source": [
    "###check length of sequence\n",
    "import matplotlib.pyplot as plt\n",
    "text_len = [len(x) for x in sequences]\n",
    "histo = pd.Series(text_len).value_counts()\n",
    "histo.sort_index(inplace=True)\n",
    "histo = pd.DataFrame(histo,columns = ['counts'])\n",
    "plt.figure(figsize=(8,6))\n",
    "histo[0:25].plot.bar()\n",
    "plt.xticks(rotation=360)\n",
    "plt.title('sequences length')\n",
    "plt.show()"
   ]
  },
  {
   "cell_type": "code",
   "execution_count": 46,
   "metadata": {},
   "outputs": [
    {
     "data": {
      "text/plain": [
       "array([[   0,    0, 3514,   51, 3515,  814,  558, 3516],\n",
       "       [   0,    0,    0,   22,  217,   94,  469,  907],\n",
       "       [  73,  130,   57,   95,   34,   68,    7,   34],\n",
       "       [   0,    0,    0,    0,   33,  815,  255,  815]])"
      ]
     },
     "execution_count": 46,
     "metadata": {},
     "output_type": "execute_result"
    }
   ],
   "source": [
    "#pad or cut each sequence to proper length\n",
    "sequence_len = int(8) \n",
    "from keras.preprocessing.sequence import pad_sequences\n",
    "train = pad_sequences(sequences, maxlen=sequence_len)\n",
    "train[0:4]"
   ]
  },
  {
   "cell_type": "code",
   "execution_count": 47,
   "metadata": {},
   "outputs": [
    {
     "name": "stdout",
     "output_type": "stream",
     "text": [
      "check label: \n",
      " ['anger' 'anticipation' 'disgust' 'fear' 'joy' 'sadness' 'surprise'\n",
      " 'trust']\n",
      "\n",
      "### Before convert\n",
      "data[emotion]:\n",
      " 1154497       fear\n",
      "1356687        joy\n",
      "1292400        joy\n",
      "244656       trust\n",
      "1306481    sadness\n",
      "Name: emotion, dtype: object\n",
      "\n",
      " data[emotion].shape:  (4985,)\n",
      "\n",
      "\n",
      "### After convert\n",
      "data_label:\n",
      " [[0. 0. 0. 1. 0. 0. 0. 0.]\n",
      " [0. 0. 0. 0. 1. 0. 0. 0.]\n",
      " [0. 0. 0. 0. 1. 0. 0. 0.]\n",
      " [0. 0. 0. 0. 0. 0. 0. 1.]\n",
      " [0. 0. 0. 0. 0. 1. 0. 0.]]\n",
      "\n",
      " data_label.shape:  (4985, 8)\n"
     ]
    }
   ],
   "source": [
    "###Label encoding\n",
    "from sklearn import preprocessing\n",
    "le = preprocessing.LabelEncoder()\n",
    "le.fit(data['emotion'])\n",
    "print('check label: \\n', le.classes_)\n",
    "print('\\n### Before convert')\n",
    "print('data[emotion]:\\n', data['emotion'][0:5])\n",
    "print('\\n data[emotion].shape: ', data['emotion'].shape)\n",
    "#transform sentumental label to one-hot label\n",
    "def label_encode(le, labels):\n",
    "    enc = le.transform(labels)\n",
    "    return keras.utils.to_categorical(enc)\n",
    "def label_decode(le, one_hot_label):\n",
    "    dec = np.argmax(one_hot_label, axis=1)\n",
    "    return le.inverse_transform(dec)\n",
    "data_label = label_encode(le, data['emotion'])\n",
    "print('\\n\\n### After convert')\n",
    "print('data_label:\\n', data_label[0:5])\n",
    "print('\\n data_label.shape: ', data_label.shape)"
   ]
  },
  {
   "cell_type": "code",
   "execution_count": 48,
   "metadata": {},
   "outputs": [
    {
     "name": "stdout",
     "output_type": "stream",
     "text": [
      "train data_size: (3738, 8)\n",
      "test data_size: (1247, 8)\n"
     ]
    }
   ],
   "source": [
    "###split train,valid set\n",
    "from sklearn.model_selection import train_test_split\n",
    "X_train, X_test, y_train, y_test = train_test_split(train, data_label, \n",
    "                                                    test_size=0.25,shuffle = True,random_state = 17)\n",
    "print('train data_size:', X_train.shape)\n",
    "print('test data_size:', X_test.shape)"
   ]
  },
  {
   "cell_type": "code",
   "execution_count": 49,
   "metadata": {},
   "outputs": [
    {
     "name": "stdout",
     "output_type": "stream",
     "text": [
      "input_shape:  8\n",
      "output_shape:  8\n"
     ]
    }
   ],
   "source": [
    "###deep learning\n",
    "#input is padded sequence,output is one-hot label\n",
    "input_shape = X_train.shape[1]\n",
    "print('input_shape: ', input_shape)\n",
    "output_shape = len(le.classes_)\n",
    "print('output_shape: ', output_shape)"
   ]
  },
  {
   "cell_type": "code",
   "execution_count": 50,
   "metadata": {},
   "outputs": [],
   "source": [
    "#import the package we needed\n",
    "from keras.models import Model\n",
    "from keras.layers.core import Dense, Dropout\n",
    "from keras.layers.embeddings import Embedding\n",
    "from keras.layers import LSTM,Activation,concatenate,Input\n",
    "from keras.models import load_model\n",
    "from keras import optimizers \n",
    "from keras.layers.normalization import BatchNormalization\n",
    "from keras.layers.convolutional import Conv1D,MaxPooling1D\n",
    "from keras.callbacks import CSVLogger,EarlyStopping,ModelCheckpoint\n",
    "csv_logger = CSVLogger('CNN_LSTM_training_log.csv')"
   ]
  },
  {
   "cell_type": "code",
   "execution_count": 51,
   "metadata": {},
   "outputs": [],
   "source": [
    "###use GPU to accelerate training\n",
    "#import os\n",
    "#os.environ[\"CUDA_DEVICE_ORDER\"] = \"PCI_BUS_ID\"\n",
    "#os.environ['CUDA_VISIBLE_DEVICES'] = '0'"
   ]
  },
  {
   "cell_type": "code",
   "execution_count": 52,
   "metadata": {},
   "outputs": [
    {
     "name": "stdout",
     "output_type": "stream",
     "text": [
      "__________________________________________________________________________________________________\n",
      "Layer (type)                    Output Shape         Param #     Connected to                     \n",
      "==================================================================================================\n",
      "input_2 (InputLayer)            (None, 8)            0                                            \n",
      "__________________________________________________________________________________________________\n",
      "embedding_1 (Embedding)         (None, 8, 32)        160032      input_2[0][0]                    \n",
      "__________________________________________________________________________________________________\n",
      "batch_normalization_1 (BatchNor (None, 8, 32)        128         embedding_1[0][0]                \n",
      "__________________________________________________________________________________________________\n",
      "conv1d_1 (Conv1D)               (None, 8, 64)        4160        batch_normalization_1[0][0]      \n",
      "__________________________________________________________________________________________________\n",
      "conv1d_2 (Conv1D)               (None, 8, 64)        6208        batch_normalization_1[0][0]      \n",
      "__________________________________________________________________________________________________\n",
      "conv1d_3 (Conv1D)               (None, 8, 64)        12352       batch_normalization_1[0][0]      \n",
      "__________________________________________________________________________________________________\n",
      "max_pooling1d_1 (MaxPooling1D)  (None, 4, 64)        0           conv1d_1[0][0]                   \n",
      "__________________________________________________________________________________________________\n",
      "max_pooling1d_2 (MaxPooling1D)  (None, 4, 64)        0           conv1d_2[0][0]                   \n",
      "__________________________________________________________________________________________________\n",
      "max_pooling1d_3 (MaxPooling1D)  (None, 8, 64)        0           conv1d_3[0][0]                   \n",
      "__________________________________________________________________________________________________\n",
      "concatenate_1 (Concatenate)     (None, 16, 64)       0           max_pooling1d_1[0][0]            \n",
      "                                                                 max_pooling1d_2[0][0]            \n",
      "                                                                 max_pooling1d_3[0][0]            \n",
      "__________________________________________________________________________________________________\n",
      "lstm_1 (LSTM)                   (None, 128)          98816       concatenate_1[0][0]              \n",
      "__________________________________________________________________________________________________\n",
      "batch_normalization_2 (BatchNor (None, 128)          512         lstm_1[0][0]                     \n",
      "__________________________________________________________________________________________________\n",
      "dense_4 (Dense)                 (None, 512)          66048       batch_normalization_2[0][0]      \n",
      "__________________________________________________________________________________________________\n",
      "batch_normalization_3 (BatchNor (None, 512)          2048        dense_4[0][0]                    \n",
      "__________________________________________________________________________________________________\n",
      "activation_1 (Activation)       (None, 512)          0           batch_normalization_3[0][0]      \n",
      "__________________________________________________________________________________________________\n",
      "dropout_1 (Dropout)             (None, 512)          0           activation_1[0][0]               \n",
      "__________________________________________________________________________________________________\n",
      "dense_5 (Dense)                 (None, 8)            4104        dropout_1[0][0]                  \n",
      "==================================================================================================\n",
      "Total params: 354,408\n",
      "Trainable params: 353,064\n",
      "Non-trainable params: 1,344\n",
      "__________________________________________________________________________________________________\n",
      "None\n"
     ]
    }
   ],
   "source": [
    "#hyper parameters\n",
    "learning_rate = 0.001\n",
    "epochs = 50\n",
    "batch_size = 512\n",
    "#build CNN-LSTM model\n",
    "model_input = Input(shape = (input_shape,))\n",
    "embed = Embedding(output_dim=32,\n",
    "                    input_dim=vocabulary_size+1, \n",
    "                    input_length=input_shape)(model_input)\n",
    "BN1 = BatchNormalization()(embed)\n",
    "cnn2=Conv1D(filters=64, kernel_size=2,padding='same',activation='relu')(BN1)                     \n",
    "MP2 = MaxPooling1D(pool_size=2)(cnn2)\n",
    "cnn3=Conv1D(filters=64, kernel_size=3,padding='same',activation='relu')(BN1)                \n",
    "MP3 = MaxPooling1D(pool_size=2)(cnn3)\n",
    "cnnn=Conv1D(filters=64, kernel_size=6,padding='same',activation='relu')(BN1)                    \n",
    "MPn = MaxPooling1D(pool_size=1)(cnnn)\n",
    "cnn_out = concatenate([MP2,MP3,MPn], axis=-2)\n",
    "LSTM1 = LSTM(units=128,unroll = True, recurrent_initializer='orthogonal',\n",
    "             return_sequences=False,\n",
    "               dropout=0.2, recurrent_dropout=0.2)(cnn_out)\n",
    "LSTM1_BN = BatchNormalization()(LSTM1)\n",
    "FC1 = Dense(units=512)(LSTM1_BN)\n",
    "FC1_BN = BatchNormalization()(FC1)\n",
    "Activate  = Activation('relu')(FC1_BN)\n",
    "Drop = Dropout(0.5)(Activate)\n",
    "FC2 = Dense(units=output_shape,activation='softmax' )(Drop)\n",
    "model = Model(inputs=model_input, outputs=FC2)\n",
    "print(model.summary())\n"
   ]
  },
  {
   "cell_type": "code",
   "execution_count": 53,
   "metadata": {},
   "outputs": [],
   "source": [
    "# define loss function & optimizer\n",
    "adam = optimizers.Adam(lr=learning_rate)\n",
    "model.compile(optimizer='adam',\n",
    "              loss='categorical_crossentropy',\n",
    "              metrics=['accuracy'])"
   ]
  },
  {
   "cell_type": "code",
   "execution_count": 54,
   "metadata": {},
   "outputs": [],
   "source": [
    "###callback csv_logger,Modelcheckpoint and Earlystopping\n",
    "earlystopping=EarlyStopping(monitor='val_loss', patience=5, verbose=0, mode='auto')\n",
    "#BEST_MODEL_DIR = \"C:/Users/user/Downloads/DMHW2/best_lstm.h5\"\n",
    "#save_best = ModelCheckpoint(BEST_MODEL_DIR, monitor='val_loss', verbose=0,\n",
    "#                            save_best_only=True, save_weights_only=False, mode='auto', period=1)"
   ]
  },
  {
   "cell_type": "code",
   "execution_count": 55,
   "metadata": {},
   "outputs": [
    {
     "name": "stdout",
     "output_type": "stream",
     "text": [
      "Train on 3738 samples, validate on 1247 samples\n",
      "Epoch 1/50\n",
      "3738/3738 [==============================] - 22s 6ms/step - loss: 2.6450 - acc: 0.1621 - val_loss: 1.8701 - val_acc: 0.3184\n",
      "Epoch 2/50\n",
      "3738/3738 [==============================] - 1s 264us/step - loss: 2.0850 - acc: 0.3071 - val_loss: 1.7921 - val_acc: 0.3448\n",
      "Epoch 3/50\n",
      "3738/3738 [==============================] - 1s 265us/step - loss: 1.9438 - acc: 0.3266 - val_loss: 1.8147 - val_acc: 0.3240\n",
      "Epoch 4/50\n",
      "3738/3738 [==============================] - 1s 265us/step - loss: 1.8199 - acc: 0.3657 - val_loss: 1.7888 - val_acc: 0.3424\n",
      "Epoch 5/50\n",
      "3738/3738 [==============================] - 1s 265us/step - loss: 1.6633 - acc: 0.4096 - val_loss: 1.8106 - val_acc: 0.3520\n",
      "Epoch 6/50\n",
      "3738/3738 [==============================] - 1s 263us/step - loss: 1.5173 - acc: 0.4642 - val_loss: 1.8444 - val_acc: 0.3456\n",
      "Epoch 7/50\n",
      "3738/3738 [==============================] - 1s 265us/step - loss: 1.3653 - acc: 0.5195 - val_loss: 1.8625 - val_acc: 0.3553\n",
      "Epoch 8/50\n",
      "3738/3738 [==============================] - 1s 264us/step - loss: 1.1905 - acc: 0.5821 - val_loss: 1.9044 - val_acc: 0.3536\n",
      "Epoch 9/50\n",
      "3738/3738 [==============================] - 1s 265us/step - loss: 1.0396 - acc: 0.6370 - val_loss: 2.0025 - val_acc: 0.3657\n",
      "training finish\n"
     ]
    }
   ],
   "source": [
    "#train the model\n",
    "history = model.fit(X_train, y_train, \n",
    "                    epochs=epochs, \n",
    "                    batch_size=batch_size, \n",
    "                    callbacks=[csv_logger,earlystopping],\n",
    "                    validation_data = (X_test, y_test))\n",
    "print('training finish')"
   ]
  },
  {
   "cell_type": "code",
   "execution_count": 56,
   "metadata": {},
   "outputs": [
    {
     "data": {
      "image/png": "[encoded data removed]",
      "text/plain": [
       "<Figure size 432x288 with 1 Axes>"
      ]
     },
     "metadata": {},
     "output_type": "display_data"
    },
    {
     "data": {
      "image/png": "[encoded data removed]",
      "text/plain": [
       "<Figure size 432x288 with 1 Axes>"
      ]
     },
     "metadata": {},
     "output_type": "display_data"
    }
   ],
   "source": [
    "def show_train_history(train_history, train, validation):\n",
    "    fig = plt.figure()\n",
    "    plt.plot(train_history.history[train])\n",
    "    plt.plot(train_history.history[validation])\n",
    "    plt.title('Train History')\n",
    "    plt.ylabel(train)\n",
    "    plt.xlabel('Epoch')\n",
    "    plt.legend(['train', 'validation'], loc='best')\n",
    "    \n",
    "\n",
    "\n",
    "show_train_history(history, 'acc', 'val_acc',)\n",
    "show_train_history(history, 'loss', 'val_loss')"
   ]
  },
  {
   "cell_type": "code",
   "execution_count": 57,
   "metadata": {},
   "outputs": [],
   "source": [
    "###predict on public test set and creat submission file\n",
    "###load the model\n",
    "#SAVE_MODEL_DIR = \"best_lstm.h5\"\n",
    "#model = load_model(SAVE_MODEL_DIR)"
   ]
  },
  {
   "cell_type": "code",
   "execution_count": 58,
   "metadata": {},
   "outputs": [
    {
     "data": {
      "text/html": [
       "<div>\n",
       "<style scoped>\n",
       "    .dataframe tbody tr th:only-of-type {\n",
       "        vertical-align: middle;\n",
       "    }\n",
       "\n",
       "    .dataframe tbody tr th {\n",
       "        vertical-align: top;\n",
       "    }\n",
       "\n",
       "    .dataframe thead th {\n",
       "        text-align: right;\n",
       "    }\n",
       "</style>\n",
       "<table border=\"1\" class=\"dataframe\">\n",
       "  <thead>\n",
       "    <tr style=\"text-align: right;\">\n",
       "      <th></th>\n",
       "      <th>index</th>\n",
       "      <th>id</th>\n",
       "      <th>text</th>\n",
       "      <th>emotion</th>\n",
       "    </tr>\n",
       "  </thead>\n",
       "  <tbody>\n",
       "    <tr>\n",
       "      <th>0</th>\n",
       "      <td>147963</td>\n",
       "      <td>0x26baab</td>\n",
       "      <td>new song new song pop subscript youtub today g...</td>\n",
       "      <td>joy</td>\n",
       "    </tr>\n",
       "    <tr>\n",
       "      <th>1</th>\n",
       "      <td>122990</td>\n",
       "      <td>0x2501a0</td>\n",
       "      <td>also appar secretari state may leav he' enough...</td>\n",
       "      <td>anticipation</td>\n",
       "    </tr>\n",
       "    <tr>\n",
       "      <th>2</th>\n",
       "      <td>291540</td>\n",
       "      <td>0x30a18d</td>\n",
       "      <td>increas brand video anim ativ southend entrepr...</td>\n",
       "      <td>disgust</td>\n",
       "    </tr>\n",
       "    <tr>\n",
       "      <th>3</th>\n",
       "      <td>394275</td>\n",
       "      <td>0x37c3e1</td>\n",
       "      <td>write everi singl season arsen wenger charg fo...</td>\n",
       "      <td>joy</td>\n",
       "    </tr>\n",
       "    <tr>\n",
       "      <th>4</th>\n",
       "      <td>366492</td>\n",
       "      <td>0x35d2e4</td>\n",
       "      <td>think day final smile</td>\n",
       "      <td>joy</td>\n",
       "    </tr>\n",
       "  </tbody>\n",
       "</table>\n",
       "</div>"
      ],
      "text/plain": [
       "    index        id                                               text  \\\n",
       "0  147963  0x26baab  new song new song pop subscript youtub today g...   \n",
       "1  122990  0x2501a0  also appar secretari state may leav he' enough...   \n",
       "2  291540  0x30a18d  increas brand video anim ativ southend entrepr...   \n",
       "3  394275  0x37c3e1  write everi singl season arsen wenger charg fo...   \n",
       "4  366492  0x35d2e4                              think day final smile   \n",
       "\n",
       "        emotion  \n",
       "0           joy  \n",
       "1  anticipation  \n",
       "2       disgust  \n",
       "3           joy  \n",
       "4           joy  "
      ]
     },
     "execution_count": 58,
     "metadata": {},
     "output_type": "execute_result"
    }
   ],
   "source": [
    "###tokenize test data and generate the sequence \n",
    "test_sequences = tokenizer.texts_to_sequences(testdata['text'])\n",
    "_testdata = pad_sequences(test_sequences, maxlen=sequence_len)\n",
    "pred_result = model.predict(_testdata, batch_size=512)\n",
    "pred_result = label_decode(le, pred_result)\n",
    "pred = pd.Series(pred_result)\n",
    "testdata.reset_index(inplace = True)\n",
    "testdata['emotion']=pred\n",
    "#testdata.drop(['text'],axis = 1,inplace = True)\n",
    "#testdata.to_csv('prediction.csv',index = 0)\n",
    "testdata[0:5]"
   ]
  },
  {
   "cell_type": "markdown",
   "metadata": {},
   "source": [
    "I finally got 0.44076 acc on kaggle competition.\n",
    "\n",
    "At first, I tried to stack serval Dense layers to build a fully-connected model,but it got bad performance(0.40~0.42)\n",
    "\n",
    "So I tried SimpleRNN , LSTM,Bidirectional LSTM ,it slightly increase the acc(0.42~0.44) ,but it took longer time(about 30mins/epoch)\n",
    "\n",
    "At last,I decided to cascade CNN and LSTM together to accelerare convergence speed,and keep the performance.\n",
    "\n",
    "I discovered that different embedding output_dim(I thought that refer to the dimentionality of data),different units of each layer(CNN,LSTM,Dense),different hyperparameter(learning rate,batchsize),and use Early stopping in order to prevent from over-fitting\n",
    "\n",
    "but it seems not very effective,it really disappoint me\n",
    "\n",
    "this competition is quite challenging for me, but inspire me a lot\n",
    "\n",
    "Hope that I could do better in final project 👍"
   ]
  },
  {
   "cell_type": "markdown",
   "metadata": {},
   "source": [
    "###  > Forth - tidy up the code"
   ]
  },
  {
   "cell_type": "markdown",
   "metadata": {},
   "source": [
    "tks for watching"
   ]
  }
 ],
 "metadata": {
  "kernelspec": {
   "display_name": "Python 3",
   "language": "python",
   "name": "python3"
  },
  "language_info": {
   "codemirror_mode": {
    "name": "ipython",
    "version": 3
   },
   "file_extension": ".py",
   "mimetype": "text/x-python",
   "name": "python",
   "nbconvert_exporter": "python",
   "pygments_lexer": "ipython3",
   "version": "3.6.5"
  },
  "varInspector": {
   "cols": {
    "lenName": 16,
    "lenType": 16,
    "lenVar": 40
   },
   "kernels_config": {
    "python": {
     "delete_cmd_postfix": "",
     "delete_cmd_prefix": "del ",
     "library": "var_list.py",
     "varRefreshCmd": "print(var_dic_list())"
    },
    "r": {
     "delete_cmd_postfix": ") ",
     "delete_cmd_prefix": "rm(",
     "library": "var_list.r",
     "varRefreshCmd": "cat(var_dic_list()) "
    }
   },
   "types_to_exclude": [
    "module",
    "function",
    "builtin_function_or_method",
    "instance",
    "_Feature"
   ],
   "window_display": false
  }
 },
 "nbformat": 4,
 "nbformat_minor": 2
}
